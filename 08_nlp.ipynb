{
 "cells": [
  {
   "cell_type": "code",
   "execution_count": 2,
   "metadata": {},
   "outputs": [],
   "source": [
    "import tensorflow as tf\n",
    "import numpy as np\n",
    "import pandas as pd\n",
    "import matplotlib.pyplot as plt\n",
    "import os\n",
    "import sys\n",
    "import time\n",
    "import random\n",
    "from helper_funcs import create_tensorboard_callback, create_checkpoint_callback, plot_loss_curves, compare_historys, unzip_data, calculate_results"
   ]
  },
  {
   "cell_type": "code",
   "execution_count": 3,
   "metadata": {},
   "outputs": [
    {
     "name": "stdout",
     "output_type": "stream",
     "text": [
      "  % Total    % Received % Xferd  Average Speed   Time    Time     Time  Current\n",
      "                                 Dload  Upload   Total   Spent    Left  Speed\n",
      "100  593k  100  593k    0     0   306k      0  0:00:01  0:00:01 --:--:--  306k\n"
     ]
    }
   ],
   "source": [
    "# !wget https://storage.googleapis.com/ztm_tf_course/nlp_getting_started.zip\n",
    "!curl -O https://storage.googleapis.com/ztm_tf_course/nlp_getting_started.zip\n",
    "unzip_data(\"nlp_getting_started.zip\", path_name='nlp_getting_started/')\n",
    "!rm nlp_getting_started.zip"
   ]
  },
  {
   "cell_type": "code",
   "execution_count": 3,
   "metadata": {},
   "outputs": [],
   "source": [
    "train_df = pd.read_csv('nlp_getting_started/train.csv').sample(frac=1, random_state=42)\n",
    "test_df = pd.read_csv('nlp_getting_started/test.csv')"
   ]
  },
  {
   "cell_type": "code",
   "execution_count": 4,
   "metadata": {},
   "outputs": [
    {
     "data": {
      "text/html": [
       "<div>\n",
       "<style scoped>\n",
       "    .dataframe tbody tr th:only-of-type {\n",
       "        vertical-align: middle;\n",
       "    }\n",
       "\n",
       "    .dataframe tbody tr th {\n",
       "        vertical-align: top;\n",
       "    }\n",
       "\n",
       "    .dataframe thead th {\n",
       "        text-align: right;\n",
       "    }\n",
       "</style>\n",
       "<table border=\"1\" class=\"dataframe\">\n",
       "  <thead>\n",
       "    <tr style=\"text-align: right;\">\n",
       "      <th></th>\n",
       "      <th>id</th>\n",
       "      <th>keyword</th>\n",
       "      <th>location</th>\n",
       "      <th>text</th>\n",
       "      <th>target</th>\n",
       "    </tr>\n",
       "  </thead>\n",
       "  <tbody>\n",
       "    <tr>\n",
       "      <th>2644</th>\n",
       "      <td>3796</td>\n",
       "      <td>destruction</td>\n",
       "      <td>NaN</td>\n",
       "      <td>So you have a new weapon that can cause un-ima...</td>\n",
       "      <td>1</td>\n",
       "    </tr>\n",
       "    <tr>\n",
       "      <th>2227</th>\n",
       "      <td>3185</td>\n",
       "      <td>deluge</td>\n",
       "      <td>NaN</td>\n",
       "      <td>The f$&amp;amp;@ing things I do for #GISHWHES Just...</td>\n",
       "      <td>0</td>\n",
       "    </tr>\n",
       "    <tr>\n",
       "      <th>5448</th>\n",
       "      <td>7769</td>\n",
       "      <td>police</td>\n",
       "      <td>UK</td>\n",
       "      <td>DT @georgegalloway: RT @Galloway4Mayor: ÛÏThe...</td>\n",
       "      <td>1</td>\n",
       "    </tr>\n",
       "    <tr>\n",
       "      <th>132</th>\n",
       "      <td>191</td>\n",
       "      <td>aftershock</td>\n",
       "      <td>NaN</td>\n",
       "      <td>Aftershock back to school kick off was great. ...</td>\n",
       "      <td>0</td>\n",
       "    </tr>\n",
       "    <tr>\n",
       "      <th>6845</th>\n",
       "      <td>9810</td>\n",
       "      <td>trauma</td>\n",
       "      <td>Montgomery County, MD</td>\n",
       "      <td>in response to trauma Children of Addicts deve...</td>\n",
       "      <td>0</td>\n",
       "    </tr>\n",
       "  </tbody>\n",
       "</table>\n",
       "</div>"
      ],
      "text/plain": [
       "        id      keyword               location  \\\n",
       "2644  3796  destruction                    NaN   \n",
       "2227  3185       deluge                    NaN   \n",
       "5448  7769       police                     UK   \n",
       "132    191   aftershock                    NaN   \n",
       "6845  9810       trauma  Montgomery County, MD   \n",
       "\n",
       "                                                   text  target  \n",
       "2644  So you have a new weapon that can cause un-ima...       1  \n",
       "2227  The f$&amp;@ing things I do for #GISHWHES Just...       0  \n",
       "5448  DT @georgegalloway: RT @Galloway4Mayor: ÛÏThe...       1  \n",
       "132   Aftershock back to school kick off was great. ...       0  \n",
       "6845  in response to trauma Children of Addicts deve...       0  "
      ]
     },
     "execution_count": 4,
     "metadata": {},
     "output_type": "execute_result"
    }
   ],
   "source": [
    "train_df.head()"
   ]
  },
  {
   "cell_type": "code",
   "execution_count": 5,
   "metadata": {},
   "outputs": [
    {
     "data": {
      "text/html": [
       "<div>\n",
       "<style scoped>\n",
       "    .dataframe tbody tr th:only-of-type {\n",
       "        vertical-align: middle;\n",
       "    }\n",
       "\n",
       "    .dataframe tbody tr th {\n",
       "        vertical-align: top;\n",
       "    }\n",
       "\n",
       "    .dataframe thead th {\n",
       "        text-align: right;\n",
       "    }\n",
       "</style>\n",
       "<table border=\"1\" class=\"dataframe\">\n",
       "  <thead>\n",
       "    <tr style=\"text-align: right;\">\n",
       "      <th></th>\n",
       "      <th>id</th>\n",
       "      <th>keyword</th>\n",
       "      <th>location</th>\n",
       "      <th>text</th>\n",
       "    </tr>\n",
       "  </thead>\n",
       "  <tbody>\n",
       "    <tr>\n",
       "      <th>0</th>\n",
       "      <td>0</td>\n",
       "      <td>NaN</td>\n",
       "      <td>NaN</td>\n",
       "      <td>Just happened a terrible car crash</td>\n",
       "    </tr>\n",
       "    <tr>\n",
       "      <th>1</th>\n",
       "      <td>2</td>\n",
       "      <td>NaN</td>\n",
       "      <td>NaN</td>\n",
       "      <td>Heard about #earthquake is different cities, s...</td>\n",
       "    </tr>\n",
       "    <tr>\n",
       "      <th>2</th>\n",
       "      <td>3</td>\n",
       "      <td>NaN</td>\n",
       "      <td>NaN</td>\n",
       "      <td>there is a forest fire at spot pond, geese are...</td>\n",
       "    </tr>\n",
       "    <tr>\n",
       "      <th>3</th>\n",
       "      <td>9</td>\n",
       "      <td>NaN</td>\n",
       "      <td>NaN</td>\n",
       "      <td>Apocalypse lighting. #Spokane #wildfires</td>\n",
       "    </tr>\n",
       "    <tr>\n",
       "      <th>4</th>\n",
       "      <td>11</td>\n",
       "      <td>NaN</td>\n",
       "      <td>NaN</td>\n",
       "      <td>Typhoon Soudelor kills 28 in China and Taiwan</td>\n",
       "    </tr>\n",
       "  </tbody>\n",
       "</table>\n",
       "</div>"
      ],
      "text/plain": [
       "   id keyword location                                               text\n",
       "0   0     NaN      NaN                 Just happened a terrible car crash\n",
       "1   2     NaN      NaN  Heard about #earthquake is different cities, s...\n",
       "2   3     NaN      NaN  there is a forest fire at spot pond, geese are...\n",
       "3   9     NaN      NaN           Apocalypse lighting. #Spokane #wildfires\n",
       "4  11     NaN      NaN      Typhoon Soudelor kills 28 in China and Taiwan"
      ]
     },
     "execution_count": 5,
     "metadata": {},
     "output_type": "execute_result"
    }
   ],
   "source": [
    "test_df.head()"
   ]
  },
  {
   "cell_type": "code",
   "execution_count": 6,
   "metadata": {},
   "outputs": [
    {
     "data": {
      "text/plain": [
       "target\n",
       "0    4342\n",
       "1    3271\n",
       "Name: count, dtype: int64"
      ]
     },
     "execution_count": 6,
     "metadata": {},
     "output_type": "execute_result"
    }
   ],
   "source": [
    "train_df['target'].value_counts()"
   ]
  },
  {
   "cell_type": "code",
   "execution_count": 7,
   "metadata": {},
   "outputs": [
    {
     "data": {
      "text/plain": [
       "(7613, 3263)"
      ]
     },
     "execution_count": 7,
     "metadata": {},
     "output_type": "execute_result"
    }
   ],
   "source": [
    "len(train_df), len(test_df)"
   ]
  },
  {
   "cell_type": "code",
   "execution_count": 8,
   "metadata": {},
   "outputs": [
    {
     "name": "stdout",
     "output_type": "stream",
     "text": [
      "Index: 4765\n",
      "Target: 0,  (not a real disaster)\n",
      "Text:#NowPlaying 'The Lightning Strike' de Snow Patrol de A Hundred Million Suns ? http://t.co/GrzcHkDF37\n",
      "\n"
     ]
    }
   ],
   "source": [
    "random_index = random.randint(0, len(train_df))\n",
    "target = train_df['target'][random_index]\n",
    "print(f\"Index: {random_index}\")\n",
    "print(f\"Target: {target}, {' (disaster)' if(target == 1) else ' (not a real disaster)'}\")\n",
    "print(f\"Text:{train_df['text'][random_index]}\\n\")"
   ]
  },
  {
   "cell_type": "code",
   "execution_count": 9,
   "metadata": {},
   "outputs": [],
   "source": [
    "from sklearn.model_selection import train_test_split\n",
    "\n",
    "train_sentences, val_sentences, train_labels, val_labels = train_test_split(train_df['text'].to_numpy(), train_df['target'].to_numpy(), test_size=0.1, random_state=42)"
   ]
  },
  {
   "cell_type": "code",
   "execution_count": 10,
   "metadata": {},
   "outputs": [
    {
     "data": {
      "text/plain": [
       "(6851, 762, 6851, 762)"
      ]
     },
     "execution_count": 10,
     "metadata": {},
     "output_type": "execute_result"
    }
   ],
   "source": [
    "len(train_sentences), len(val_sentences), len(train_labels), len(val_labels)"
   ]
  },
  {
   "cell_type": "code",
   "execution_count": 11,
   "metadata": {},
   "outputs": [
    {
     "name": "stderr",
     "output_type": "stream",
     "text": [
      "2024-01-18 01:51:22.870336: I metal_plugin/src/device/metal_device.cc:1154] Metal device set to: Apple M2\n",
      "2024-01-18 01:51:22.870385: I metal_plugin/src/device/metal_device.cc:296] systemMemory: 8.00 GB\n",
      "2024-01-18 01:51:22.870414: I metal_plugin/src/device/metal_device.cc:313] maxCacheSize: 2.67 GB\n",
      "2024-01-18 01:51:22.870618: I tensorflow/core/common_runtime/pluggable_device/pluggable_device_factory.cc:306] Could not identify NUMA node of platform GPU ID 0, defaulting to 0. Your kernel may not have been built with NUMA support.\n",
      "2024-01-18 01:51:22.870851: I tensorflow/core/common_runtime/pluggable_device/pluggable_device_factory.cc:272] Created TensorFlow device (/job:localhost/replica:0/task:0/device:GPU:0 with 0 MB memory) -> physical PluggableDevice (device: 0, name: METAL, pci bus id: <undefined>)\n",
      "2024-01-18 01:51:23.107170: I tensorflow/core/grappler/optimizers/custom_graph_optimizer_registry.cc:117] Plugin optimizer for device_type GPU is enabled.\n"
     ]
    }
   ],
   "source": [
    "text_vectorization_default = tf.keras.layers.TextVectorization(\n",
    "    max_tokens=None,\n",
    "    standardize=\"lower_and_strip_punctuation\",\n",
    "    split=\"whitespace\",\n",
    "    output_mode=\"int\",\n",
    "    output_sequence_length=None,\n",
    ")\n",
    "text_vectorization_default.adapt(train_sentences)"
   ]
  },
  {
   "cell_type": "code",
   "execution_count": 12,
   "metadata": {},
   "outputs": [
    {
     "data": {
      "text/plain": [
       "21056"
      ]
     },
     "execution_count": 12,
     "metadata": {},
     "output_type": "execute_result"
    }
   ],
   "source": [
    "len(text_vectorization_default.get_vocabulary())"
   ]
  },
  {
   "cell_type": "code",
   "execution_count": 13,
   "metadata": {},
   "outputs": [
    {
     "data": {
      "text/plain": [
       "31"
      ]
     },
     "execution_count": 13,
     "metadata": {},
     "output_type": "execute_result"
    }
   ],
   "source": [
    "max([len(i.split()) for i in train_sentences])"
   ]
  },
  {
   "cell_type": "code",
   "execution_count": 14,
   "metadata": {},
   "outputs": [],
   "source": [
    "max_vocab_length = 10000\n",
    "max_length = 15\n",
    "\n",
    "text_vectorization = tf.keras.layers.TextVectorization(\n",
    "    max_tokens=max_vocab_length,\n",
    "    output_mode=\"int\",\n",
    "    output_sequence_length=max_length,\n",
    ")"
   ]
  },
  {
   "cell_type": "code",
   "execution_count": 15,
   "metadata": {},
   "outputs": [],
   "source": [
    "text_vectorization.adapt(train_sentences)"
   ]
  },
  {
   "cell_type": "code",
   "execution_count": 16,
   "metadata": {},
   "outputs": [
    {
     "data": {
      "text/plain": [
       "<tf.Tensor: shape=(1, 15), dtype=int64, numpy=\n",
       "array([[264,   3, 232,   4,  13, 698,   0,   0,   0,   0,   0,   0,   0,\n",
       "          0,   0]])>"
      ]
     },
     "execution_count": 16,
     "metadata": {},
     "output_type": "execute_result"
    }
   ],
   "source": [
    "sample_sentence = \"There's a flood in my street!\"\n",
    "text_vectorization([sample_sentence])"
   ]
  },
  {
   "cell_type": "code",
   "execution_count": 17,
   "metadata": {},
   "outputs": [
    {
     "name": "stdout",
     "output_type": "stream",
     "text": [
      "Original text:\n",
      "@DannyRaynard not bad personally I'd get rid of either hazard or aguero for a better striker than berahino        \n",
      "\n",
      "Vectorized version:\n"
     ]
    },
    {
     "data": {
      "text/plain": [
       "<tf.Tensor: shape=(1, 15), dtype=int64, numpy=\n",
       "array([[   1,   34,  281, 4931,  508,   52, 3464,    6, 1416,  423,   53,\n",
       "           1,   10,    3,  441]])>"
      ]
     },
     "execution_count": 17,
     "metadata": {},
     "output_type": "execute_result"
    }
   ],
   "source": [
    "random_sentence = random.choice(train_sentences)\n",
    "print(f\"Original text:\\n{random_sentence}\\\n",
    "        \\n\\nVectorized version:\")\n",
    "text_vectorization([random_sentence])"
   ]
  },
  {
   "cell_type": "code",
   "execution_count": 18,
   "metadata": {},
   "outputs": [
    {
     "data": {
      "text/plain": [
       "['', '[UNK]', 'the', 'a', 'in', 'to', 'of', 'and', 'i', 'is']"
      ]
     },
     "execution_count": 18,
     "metadata": {},
     "output_type": "execute_result"
    }
   ],
   "source": [
    "text_vectorization.get_vocabulary()[:10]"
   ]
  },
  {
   "cell_type": "code",
   "execution_count": 19,
   "metadata": {},
   "outputs": [],
   "source": [
    "embedding = tf.keras.layers.Embedding(\n",
    "    input_dim=max_vocab_length,\n",
    "    output_dim=128,\n",
    "    input_length=max_length,\n",
    ")"
   ]
  },
  {
   "cell_type": "code",
   "execution_count": 20,
   "metadata": {},
   "outputs": [
    {
     "name": "stdout",
     "output_type": "stream",
     "text": [
      "Original text:\n",
      "Two giant cranes holding a bridge collapse into nearby homes http://t.co/OQpsvrGbJc        \n",
      "\n",
      "Embedded version:\n"
     ]
    },
    {
     "data": {
      "text/plain": [
       "<tf.Tensor: shape=(1, 15, 128), dtype=float32, numpy=\n",
       "array([[[-0.04246541, -0.03204773,  0.04435645, ...,  0.04761431,\n",
       "         -0.01852838,  0.03693471],\n",
       "        [-0.01181426,  0.03521517,  0.0448539 , ...,  0.00038818,\n",
       "         -0.00744265,  0.00199524],\n",
       "        [ 0.03775359, -0.01973156,  0.04260187, ..., -0.04509607,\n",
       "         -0.03660854,  0.01308036],\n",
       "        ...,\n",
       "        [-0.01545919,  0.04323978, -0.02930453, ...,  0.04829386,\n",
       "          0.04872984,  0.01113299],\n",
       "        [-0.01545919,  0.04323978, -0.02930453, ...,  0.04829386,\n",
       "          0.04872984,  0.01113299],\n",
       "        [-0.01545919,  0.04323978, -0.02930453, ...,  0.04829386,\n",
       "          0.04872984,  0.01113299]]], dtype=float32)>"
      ]
     },
     "execution_count": 20,
     "metadata": {},
     "output_type": "execute_result"
    }
   ],
   "source": [
    "random_sentence = random.choice(train_sentences)\n",
    "print(f\"Original text:\\n{random_sentence}\\\n",
    "        \\n\\nEmbedded version:\")\n",
    "embedding(text_vectorization([random_sentence]))"
   ]
  },
  {
   "cell_type": "markdown",
   "metadata": {},
   "source": [
    "### Model 0: Naive Bayes (baseline)"
   ]
  },
  {
   "cell_type": "code",
   "execution_count": 21,
   "metadata": {},
   "outputs": [
    {
     "data": {
      "text/html": [
       "<style>#sk-container-id-1 {color: black;}#sk-container-id-1 pre{padding: 0;}#sk-container-id-1 div.sk-toggleable {background-color: white;}#sk-container-id-1 label.sk-toggleable__label {cursor: pointer;display: block;width: 100%;margin-bottom: 0;padding: 0.3em;box-sizing: border-box;text-align: center;}#sk-container-id-1 label.sk-toggleable__label-arrow:before {content: \"▸\";float: left;margin-right: 0.25em;color: #696969;}#sk-container-id-1 label.sk-toggleable__label-arrow:hover:before {color: black;}#sk-container-id-1 div.sk-estimator:hover label.sk-toggleable__label-arrow:before {color: black;}#sk-container-id-1 div.sk-toggleable__content {max-height: 0;max-width: 0;overflow: hidden;text-align: left;background-color: #f0f8ff;}#sk-container-id-1 div.sk-toggleable__content pre {margin: 0.2em;color: black;border-radius: 0.25em;background-color: #f0f8ff;}#sk-container-id-1 input.sk-toggleable__control:checked~div.sk-toggleable__content {max-height: 200px;max-width: 100%;overflow: auto;}#sk-container-id-1 input.sk-toggleable__control:checked~label.sk-toggleable__label-arrow:before {content: \"▾\";}#sk-container-id-1 div.sk-estimator input.sk-toggleable__control:checked~label.sk-toggleable__label {background-color: #d4ebff;}#sk-container-id-1 div.sk-label input.sk-toggleable__control:checked~label.sk-toggleable__label {background-color: #d4ebff;}#sk-container-id-1 input.sk-hidden--visually {border: 0;clip: rect(1px 1px 1px 1px);clip: rect(1px, 1px, 1px, 1px);height: 1px;margin: -1px;overflow: hidden;padding: 0;position: absolute;width: 1px;}#sk-container-id-1 div.sk-estimator {font-family: monospace;background-color: #f0f8ff;border: 1px dotted black;border-radius: 0.25em;box-sizing: border-box;margin-bottom: 0.5em;}#sk-container-id-1 div.sk-estimator:hover {background-color: #d4ebff;}#sk-container-id-1 div.sk-parallel-item::after {content: \"\";width: 100%;border-bottom: 1px solid gray;flex-grow: 1;}#sk-container-id-1 div.sk-label:hover label.sk-toggleable__label {background-color: #d4ebff;}#sk-container-id-1 div.sk-serial::before {content: \"\";position: absolute;border-left: 1px solid gray;box-sizing: border-box;top: 0;bottom: 0;left: 50%;z-index: 0;}#sk-container-id-1 div.sk-serial {display: flex;flex-direction: column;align-items: center;background-color: white;padding-right: 0.2em;padding-left: 0.2em;position: relative;}#sk-container-id-1 div.sk-item {position: relative;z-index: 1;}#sk-container-id-1 div.sk-parallel {display: flex;align-items: stretch;justify-content: center;background-color: white;position: relative;}#sk-container-id-1 div.sk-item::before, #sk-container-id-1 div.sk-parallel-item::before {content: \"\";position: absolute;border-left: 1px solid gray;box-sizing: border-box;top: 0;bottom: 0;left: 50%;z-index: -1;}#sk-container-id-1 div.sk-parallel-item {display: flex;flex-direction: column;z-index: 1;position: relative;background-color: white;}#sk-container-id-1 div.sk-parallel-item:first-child::after {align-self: flex-end;width: 50%;}#sk-container-id-1 div.sk-parallel-item:last-child::after {align-self: flex-start;width: 50%;}#sk-container-id-1 div.sk-parallel-item:only-child::after {width: 0;}#sk-container-id-1 div.sk-dashed-wrapped {border: 1px dashed gray;margin: 0 0.4em 0.5em 0.4em;box-sizing: border-box;padding-bottom: 0.4em;background-color: white;}#sk-container-id-1 div.sk-label label {font-family: monospace;font-weight: bold;display: inline-block;line-height: 1.2em;}#sk-container-id-1 div.sk-label-container {text-align: center;}#sk-container-id-1 div.sk-container {/* jupyter's `normalize.less` sets `[hidden] { display: none; }` but bootstrap.min.css set `[hidden] { display: none !important; }` so we also need the `!important` here to be able to override the default hidden behavior on the sphinx rendered scikit-learn.org. See: https://github.com/scikit-learn/scikit-learn/issues/21755 */display: inline-block !important;position: relative;}#sk-container-id-1 div.sk-text-repr-fallback {display: none;}</style><div id=\"sk-container-id-1\" class=\"sk-top-container\"><div class=\"sk-text-repr-fallback\"><pre>Pipeline(steps=[(&#x27;tfidf&#x27;, TfidfVectorizer()), (&#x27;clf&#x27;, MultinomialNB())])</pre><b>In a Jupyter environment, please rerun this cell to show the HTML representation or trust the notebook. <br />On GitHub, the HTML representation is unable to render, please try loading this page with nbviewer.org.</b></div><div class=\"sk-container\" hidden><div class=\"sk-item sk-dashed-wrapped\"><div class=\"sk-label-container\"><div class=\"sk-label sk-toggleable\"><input class=\"sk-toggleable__control sk-hidden--visually\" id=\"sk-estimator-id-1\" type=\"checkbox\" ><label for=\"sk-estimator-id-1\" class=\"sk-toggleable__label sk-toggleable__label-arrow\">Pipeline</label><div class=\"sk-toggleable__content\"><pre>Pipeline(steps=[(&#x27;tfidf&#x27;, TfidfVectorizer()), (&#x27;clf&#x27;, MultinomialNB())])</pre></div></div></div><div class=\"sk-serial\"><div class=\"sk-item\"><div class=\"sk-estimator sk-toggleable\"><input class=\"sk-toggleable__control sk-hidden--visually\" id=\"sk-estimator-id-2\" type=\"checkbox\" ><label for=\"sk-estimator-id-2\" class=\"sk-toggleable__label sk-toggleable__label-arrow\">TfidfVectorizer</label><div class=\"sk-toggleable__content\"><pre>TfidfVectorizer()</pre></div></div></div><div class=\"sk-item\"><div class=\"sk-estimator sk-toggleable\"><input class=\"sk-toggleable__control sk-hidden--visually\" id=\"sk-estimator-id-3\" type=\"checkbox\" ><label for=\"sk-estimator-id-3\" class=\"sk-toggleable__label sk-toggleable__label-arrow\">MultinomialNB</label><div class=\"sk-toggleable__content\"><pre>MultinomialNB()</pre></div></div></div></div></div></div></div>"
      ],
      "text/plain": [
       "Pipeline(steps=[('tfidf', TfidfVectorizer()), ('clf', MultinomialNB())])"
      ]
     },
     "execution_count": 21,
     "metadata": {},
     "output_type": "execute_result"
    }
   ],
   "source": [
    "from sklearn.feature_extraction.text import TfidfVectorizer\n",
    "from sklearn.naive_bayes import MultinomialNB\n",
    "from sklearn.pipeline import Pipeline\n",
    "\n",
    "model_0 = Pipeline([\n",
    "    (\"tfidf\", TfidfVectorizer()),\n",
    "    (\"clf\", MultinomialNB()),\n",
    "])\n",
    "\n",
    "model_0.fit(train_sentences, train_labels)"
   ]
  },
  {
   "cell_type": "code",
   "execution_count": 106,
   "metadata": {},
   "outputs": [
    {
     "data": {
      "text/plain": [
       "0.7926509186351706"
      ]
     },
     "execution_count": 106,
     "metadata": {},
     "output_type": "execute_result"
    }
   ],
   "source": [
    "model_0.score(val_sentences, val_labels)"
   ]
  },
  {
   "cell_type": "code",
   "execution_count": 22,
   "metadata": {},
   "outputs": [
    {
     "data": {
      "text/plain": [
       "array([1, 1, 1, 0, 0, 1, 1, 1, 1, 0, 0, 1, 0, 0, 0, 0, 0, 0, 0, 1, 1, 0,\n",
       "       0, 0, 1, 1, 0, 0, 0, 0, 1, 0, 0, 0, 0, 0, 1, 0, 0, 1, 0, 0, 0, 0,\n",
       "       0, 1, 0, 1, 0, 1, 0, 1, 0, 0, 0, 0, 0, 1, 0, 0, 0, 1, 1, 0, 1, 1,\n",
       "       0, 0, 0, 0, 0, 0, 0, 0, 0, 1, 0, 0, 0, 1, 1, 0, 1, 0, 0, 0, 0, 0,\n",
       "       1, 1, 1, 0, 0, 0, 1, 1, 1, 1, 1, 1, 1, 0, 0, 1, 1, 0, 0, 1, 0, 0,\n",
       "       1, 0, 0, 0, 0, 0, 0, 1, 1, 0, 1, 0, 0, 1, 0, 0, 0, 0, 0, 1, 0, 1,\n",
       "       1, 1, 1, 0, 1, 0, 0, 0, 1, 0, 0, 0, 0, 0, 0, 0, 0, 1, 1, 0, 0, 0,\n",
       "       0, 1, 0, 0, 1, 0, 1, 0, 0, 1, 0, 0, 1, 0, 1, 0, 1, 0, 1, 0, 1, 0,\n",
       "       0, 0, 0, 1, 0, 1, 1, 1, 1, 0, 0, 1, 0, 0, 0, 1, 0, 0, 0, 0, 0, 0,\n",
       "       1, 0, 0, 1, 1, 0, 0, 1, 0, 1, 1, 1, 0, 1, 0, 0, 0, 0, 1, 1, 0, 0,\n",
       "       1, 0, 0, 0, 1, 0, 0, 1, 1, 1, 0, 0, 1, 0, 1, 0, 0, 0, 0, 0, 0, 0,\n",
       "       1, 1, 0, 0, 1, 0, 0, 0, 0, 0, 0, 0, 1, 0, 1, 1, 0, 0, 0, 0, 0, 1,\n",
       "       1, 0, 1, 0, 0, 0, 0, 0, 1, 0, 0, 1, 0, 0, 1, 0, 0, 0, 1, 0, 1, 0,\n",
       "       1, 0, 0, 0, 0, 0, 0, 0, 0, 1, 0, 1, 0, 0, 0, 0, 0, 1, 0, 0, 0, 0,\n",
       "       0, 0, 0, 1, 0, 0, 1, 0, 1, 0, 0, 0, 0, 0, 1, 0, 1, 0, 0, 1, 0, 1,\n",
       "       0, 0, 1, 0, 0, 1, 0, 0, 0, 0, 0, 0, 1, 1, 0, 0, 0, 0, 0, 0, 0, 0,\n",
       "       0, 0, 0, 0, 1, 1, 1, 0, 0, 0, 0, 0, 0, 0, 0, 0, 0, 0, 0, 0, 0, 0,\n",
       "       0, 0, 0, 0, 0, 1, 1, 1, 0, 0, 0, 1, 1, 0, 1, 0, 0, 0, 0, 0, 0, 1,\n",
       "       0, 0, 0, 0, 1, 0, 1, 1, 0, 1, 0, 0, 0, 0, 1, 0, 0, 0, 1, 1, 0, 1,\n",
       "       0, 0, 1, 1, 1, 1, 0, 0, 0, 1, 0, 0, 0, 0, 0, 0, 0, 0, 0, 0, 1, 1,\n",
       "       0, 1, 0, 0, 0, 1, 0, 0, 0, 0, 0, 1, 1, 1, 1, 1, 0, 0, 1, 1, 1, 0,\n",
       "       0, 0, 1, 1, 0, 0, 1, 0, 0, 1, 0, 0, 0, 0, 1, 1, 0, 0, 0, 0, 0, 1,\n",
       "       0, 1, 0, 0, 0, 0, 0, 1, 0, 0, 0, 0, 0, 1, 0, 0, 1, 0, 0, 1, 0, 0,\n",
       "       0, 1, 0, 0, 0, 0, 0, 0, 1, 0, 1, 1, 1, 1, 0, 0, 1, 1, 0, 0, 0, 0,\n",
       "       0, 1, 1, 1, 0, 0, 1, 0, 1, 0, 0, 0, 0, 0, 0, 0, 0, 0, 0, 1, 1, 0,\n",
       "       0, 1, 0, 1, 0, 1, 0, 0, 0, 0, 0, 0, 1, 1, 1, 0, 1, 1, 0, 0, 1, 1,\n",
       "       1, 0, 0, 0, 0, 0, 1, 0, 0, 0, 1, 0, 0, 1, 0, 0, 0, 0, 0, 0, 0, 0,\n",
       "       0, 0, 0, 1, 1, 0, 0, 0, 1, 1, 1, 0, 1, 0, 0, 1, 0, 1, 0, 0, 1, 0,\n",
       "       0, 1, 0, 1, 1, 0, 1, 0, 0, 0, 0, 0, 0, 0, 0, 1, 1, 1, 1, 0, 0, 0,\n",
       "       0, 0, 1, 0, 1, 0, 0, 0, 0, 0, 0, 0, 1, 0, 0, 0, 0, 0, 0, 1, 0, 0,\n",
       "       0, 0, 1, 0, 0, 0, 0, 0, 1, 1, 0, 0, 0, 0, 1, 0, 1, 1, 0, 0, 0, 0,\n",
       "       0, 0, 0, 1, 0, 0, 0, 0, 1, 1, 1, 0, 1, 1, 1, 1, 1, 0, 0, 0, 1, 0,\n",
       "       0, 0, 0, 0, 0, 0, 0, 0, 1, 0, 0, 0, 0, 0, 1, 0, 0, 0, 0, 1, 0, 0,\n",
       "       0, 0, 1, 0, 0, 1, 1, 1, 1, 1, 0, 0, 0, 1, 1, 0, 0, 1, 0, 0, 0, 0,\n",
       "       0, 0, 0, 0, 1, 0, 1, 1, 0, 0, 0, 1, 0, 0])"
      ]
     },
     "execution_count": 22,
     "metadata": {},
     "output_type": "execute_result"
    }
   ],
   "source": [
    "baseline_preds = model_0.predict(val_sentences)\n",
    "baseline_preds"
   ]
  },
  {
   "cell_type": "code",
   "execution_count": 23,
   "metadata": {},
   "outputs": [
    {
     "data": {
      "text/plain": [
       "{'accuracy': 79.26509186351706,\n",
       " 'precision': 0.8111390004213173,\n",
       " 'recall': 0.7926509186351706,\n",
       " 'f1': 0.7862189758049549}"
      ]
     },
     "execution_count": 23,
     "metadata": {},
     "output_type": "execute_result"
    }
   ],
   "source": [
    "model_0_result = calculate_results(val_labels, baseline_preds)\n",
    "model_0_result"
   ]
  },
  {
   "cell_type": "code",
   "execution_count": 149,
   "metadata": {},
   "outputs": [
    {
     "name": "stdout",
     "output_type": "stream",
     "text": [
      "Saving TensorBoard log files to: tensorboard/08_model_1/20240117-173030\n",
      "Saving model checkpoints to: checkpoints/08_model_1/checkpoint.ckpt\n",
      "Epoch 1/5\n",
      "215/215 [==============================] - 12s 50ms/step - loss: 0.6120 - accuracy: 0.6908 - val_loss: 0.5350 - val_accuracy: 0.7612\n",
      "Epoch 2/5\n",
      "215/215 [==============================] - 3s 15ms/step - loss: 0.4416 - accuracy: 0.8178 - val_loss: 0.4711 - val_accuracy: 0.7835\n",
      "Epoch 3/5\n",
      "215/215 [==============================] - 3s 15ms/step - loss: 0.3473 - accuracy: 0.8608 - val_loss: 0.4593 - val_accuracy: 0.7966\n",
      "Epoch 4/5\n",
      "215/215 [==============================] - 4s 20ms/step - loss: 0.2847 - accuracy: 0.8901 - val_loss: 0.4662 - val_accuracy: 0.7861\n",
      "Epoch 5/5\n",
      "215/215 [==============================] - 6s 27ms/step - loss: 0.2381 - accuracy: 0.9123 - val_loss: 0.4817 - val_accuracy: 0.7861\n"
     ]
    }
   ],
   "source": [
    "text_vectorizer = tf.keras.layers.TextVectorization(\n",
    "    max_tokens=max_vocab_length,\n",
    "    output_mode=\"int\",\n",
    "    output_sequence_length=max_length,\n",
    ")\n",
    "\n",
    "text_vectorizer.adapt(train_sentences)\n",
    "\n",
    "embedding = tf.keras.layers.Embedding(\n",
    "    input_dim=max_vocab_length,\n",
    "    output_dim=128,\n",
    "    input_length=max_length,\n",
    ")\n",
    "\n",
    "inputs = tf.keras.layers.Input(shape=(1,), dtype=tf.string)\n",
    "x = text_vectorization(inputs)\n",
    "x = embedding(x)\n",
    "x = tf.keras.layers.GlobalAveragePooling1D()(x)\n",
    "outputs = tf.keras.layers.Dense(1, activation=\"sigmoid\")(x)\n",
    "\n",
    "model_1 = tf.keras.Model(inputs, outputs, name=\"model_1_dense\")\n",
    "\n",
    "model_1.compile(\n",
    "    loss=tf.keras.losses.BinaryCrossentropy(),\n",
    "    optimizer=tf.keras.optimizers.legacy.Adam(),\n",
    "    metrics=[\"accuracy\"],\n",
    ")\n",
    "\n",
    "history_1 = model_1.fit(\n",
    "    x=train_sentences,\n",
    "    y=train_labels,\n",
    "    epochs=5,\n",
    "    validation_data=(val_sentences, val_labels),\n",
    "    callbacks=[\n",
    "        create_tensorboard_callback(\"tensorboard\", \"08_model_1\"),\n",
    "        create_checkpoint_callback(\"checkpoints\", \"08_model_1\"),\n",
    "    ],\n",
    ")\n"
   ]
  },
  {
   "cell_type": "code",
   "execution_count": 150,
   "metadata": {},
   "outputs": [
    {
     "name": "stdout",
     "output_type": "stream",
     "text": [
      "24/24 [==============================] - 0s 11ms/step - loss: 0.4817 - accuracy: 0.7861\n"
     ]
    },
    {
     "data": {
      "text/plain": [
       "[0.4817487299442291, 0.7860892415046692]"
      ]
     },
     "execution_count": 150,
     "metadata": {},
     "output_type": "execute_result"
    }
   ],
   "source": [
    "model_1.evaluate(val_sentences, val_labels)"
   ]
  },
  {
   "cell_type": "code",
   "execution_count": 151,
   "metadata": {},
   "outputs": [
    {
     "name": "stdout",
     "output_type": "stream",
     "text": [
      "24/24 [==============================] - 0s 6ms/step\n"
     ]
    },
    {
     "data": {
      "text/plain": [
       "array([[0.2945783 ],\n",
       "       [0.7794208 ],\n",
       "       [0.99821305],\n",
       "       [0.12164141],\n",
       "       [0.11060482],\n",
       "       [0.9374037 ],\n",
       "       [0.9179274 ],\n",
       "       [0.9927249 ],\n",
       "       [0.9626024 ],\n",
       "       [0.28204492]], dtype=float32)"
      ]
     },
     "execution_count": 151,
     "metadata": {},
     "output_type": "execute_result"
    }
   ],
   "source": [
    "model_1_pred_probs = model_1.predict(val_sentences)\n",
    "model_1_pred_probs[:10]"
   ]
  },
  {
   "cell_type": "code",
   "execution_count": 152,
   "metadata": {},
   "outputs": [
    {
     "data": {
      "text/plain": [
       "<tf.Tensor: shape=(10,), dtype=float32, numpy=array([0., 1., 1., 0., 0., 1., 1., 1., 1., 0.], dtype=float32)>"
      ]
     },
     "execution_count": 152,
     "metadata": {},
     "output_type": "execute_result"
    }
   ],
   "source": [
    "model_1_preds = tf.squeeze(tf.round(model_1_pred_probs))\n",
    "model_1_preds[:10]"
   ]
  },
  {
   "cell_type": "code",
   "execution_count": 172,
   "metadata": {},
   "outputs": [
    {
     "data": {
      "text/plain": [
       "{'accuracy': 78.60892388451444,\n",
       " 'precision': 0.7916211438846743,\n",
       " 'recall': 0.7860892388451444,\n",
       " 'f1': 0.782856754224963}"
      ]
     },
     "execution_count": 172,
     "metadata": {},
     "output_type": "execute_result"
    }
   ],
   "source": [
    "model_1_result = calculate_results(val_labels, model_1_preds)\n",
    "model_1_result"
   ]
  },
  {
   "cell_type": "code",
   "execution_count": 160,
   "metadata": {},
   "outputs": [
    {
     "data": {
      "text/plain": [
       "(10000, 128)"
      ]
     },
     "execution_count": 160,
     "metadata": {},
     "output_type": "execute_result"
    }
   ],
   "source": [
    "embed_weights = model_1.layers[2].get_weights()[0]\n",
    "embed_weights.shape"
   ]
  },
  {
   "cell_type": "code",
   "execution_count": 162,
   "metadata": {},
   "outputs": [
    {
     "data": {
      "text/plain": [
       "['',\n",
       " '[UNK]',\n",
       " 'the',\n",
       " 'a',\n",
       " 'in',\n",
       " 'to',\n",
       " 'of',\n",
       " 'and',\n",
       " 'i',\n",
       " 'is',\n",
       " 'for',\n",
       " 'on',\n",
       " 'you',\n",
       " 'my',\n",
       " 'with',\n",
       " 'it',\n",
       " 'that',\n",
       " 'at',\n",
       " 'by',\n",
       " 'this',\n",
       " 'from',\n",
       " 'be',\n",
       " 'are',\n",
       " 'was',\n",
       " 'have',\n",
       " 'like',\n",
       " 'as',\n",
       " 'up',\n",
       " 'so',\n",
       " 'just',\n",
       " 'but',\n",
       " 'me',\n",
       " 'im',\n",
       " 'your',\n",
       " 'not',\n",
       " 'amp',\n",
       " 'out',\n",
       " 'its',\n",
       " 'will',\n",
       " 'an',\n",
       " 'no',\n",
       " 'has',\n",
       " 'fire',\n",
       " 'after',\n",
       " 'all',\n",
       " 'when',\n",
       " 'we',\n",
       " 'if',\n",
       " 'now',\n",
       " 'via',\n",
       " 'new',\n",
       " 'more',\n",
       " 'get',\n",
       " 'or',\n",
       " 'about',\n",
       " 'what',\n",
       " 'he',\n",
       " 'people',\n",
       " 'news',\n",
       " 'been',\n",
       " 'over',\n",
       " 'one',\n",
       " 'how',\n",
       " 'dont',\n",
       " 'they',\n",
       " 'who',\n",
       " 'into',\n",
       " 'were',\n",
       " 'do',\n",
       " 'us',\n",
       " '2',\n",
       " 'can',\n",
       " 'video',\n",
       " 'emergency',\n",
       " 'there',\n",
       " 'disaster',\n",
       " 'than',\n",
       " 'police',\n",
       " 'would',\n",
       " 'his',\n",
       " 'still',\n",
       " 'her',\n",
       " 'some',\n",
       " 'body',\n",
       " 'storm',\n",
       " 'crash',\n",
       " 'burning',\n",
       " 'suicide',\n",
       " 'back',\n",
       " 'man',\n",
       " 'california',\n",
       " 'why',\n",
       " 'time',\n",
       " 'them',\n",
       " 'had',\n",
       " 'buildings',\n",
       " 'rt',\n",
       " 'first',\n",
       " 'cant',\n",
       " 'see',\n",
       " 'got',\n",
       " 'day',\n",
       " 'off',\n",
       " 'our',\n",
       " 'going',\n",
       " 'nuclear',\n",
       " 'know',\n",
       " 'world',\n",
       " 'bomb',\n",
       " 'fires',\n",
       " 'love',\n",
       " 'killed',\n",
       " 'go',\n",
       " 'attack',\n",
       " 'youtube',\n",
       " 'dead',\n",
       " 'two',\n",
       " 'families',\n",
       " '3',\n",
       " 'train',\n",
       " 'full',\n",
       " 'being',\n",
       " 'war',\n",
       " 'many',\n",
       " 'today',\n",
       " 'think',\n",
       " 'only',\n",
       " 'car',\n",
       " 'accident',\n",
       " 'life',\n",
       " 'hiroshima',\n",
       " 'their',\n",
       " 'say',\n",
       " 'may',\n",
       " 'down',\n",
       " 'watch',\n",
       " 'good',\n",
       " 'could',\n",
       " 'want',\n",
       " 'last',\n",
       " 'here',\n",
       " 'years',\n",
       " 'u',\n",
       " 'then',\n",
       " 'make',\n",
       " 'did',\n",
       " 'wildfire',\n",
       " 'way',\n",
       " 'help',\n",
       " 'best',\n",
       " 'too',\n",
       " 'even',\n",
       " 'because',\n",
       " 'home',\n",
       " 'death',\n",
       " 'collapse',\n",
       " 'bombing',\n",
       " 'mass',\n",
       " 'him',\n",
       " 'black',\n",
       " 'am',\n",
       " 'those',\n",
       " 'need',\n",
       " 'fatal',\n",
       " 'army',\n",
       " 'another',\n",
       " 'work',\n",
       " 'take',\n",
       " 'should',\n",
       " 'really',\n",
       " 'please',\n",
       " 'mh370',\n",
       " 'youre',\n",
       " 'look',\n",
       " 'lol',\n",
       " 'hot',\n",
       " 'pm',\n",
       " 'legionnaires',\n",
       " '4',\n",
       " 'right',\n",
       " '5',\n",
       " 'let',\n",
       " 'city',\n",
       " 'year',\n",
       " 'wreck',\n",
       " 'school',\n",
       " 'northern',\n",
       " 'much',\n",
       " 'forest',\n",
       " 'bomber',\n",
       " 'water',\n",
       " 'she',\n",
       " 'never',\n",
       " 'read',\n",
       " 'latest',\n",
       " 'homes',\n",
       " 'great',\n",
       " 'every',\n",
       " '1',\n",
       " 'live',\n",
       " 'god',\n",
       " 'fear',\n",
       " 'any',\n",
       " '\\x89Û',\n",
       " 'under',\n",
       " 'said',\n",
       " 'old',\n",
       " 'floods',\n",
       " '2015',\n",
       " 'getting',\n",
       " 'atomic',\n",
       " 'while',\n",
       " 'top',\n",
       " 'obama',\n",
       " 'feel',\n",
       " 'thats',\n",
       " 'since',\n",
       " 'near',\n",
       " 'flames',\n",
       " 'ever',\n",
       " 'come',\n",
       " 'where',\n",
       " 'these',\n",
       " 'military',\n",
       " 'japan',\n",
       " 'found',\n",
       " 'content',\n",
       " 'ass',\n",
       " 'without',\n",
       " 'weather',\n",
       " 'most',\n",
       " 'flooding',\n",
       " 'flood',\n",
       " 'damage',\n",
       " 'which',\n",
       " 'shit',\n",
       " 's',\n",
       " 'hope',\n",
       " 'everyone',\n",
       " 'before',\n",
       " 'stop',\n",
       " 'plan',\n",
       " 'malaysia',\n",
       " 'injured',\n",
       " 'hit',\n",
       " 'evacuation',\n",
       " 'during',\n",
       " 'debris',\n",
       " 'cross',\n",
       " 'coming',\n",
       " 'wild',\n",
       " 'well',\n",
       " 'times',\n",
       " 'sinking',\n",
       " 'oil',\n",
       " 'fucking',\n",
       " 'check',\n",
       " 'cause',\n",
       " 'weapons',\n",
       " 'truck',\n",
       " 'food',\n",
       " 'bloody',\n",
       " 'always',\n",
       " 'weapon',\n",
       " 'theres',\n",
       " 'state',\n",
       " 'little',\n",
       " 'injuries',\n",
       " 'free',\n",
       " 'wounded',\n",
       " 'summer',\n",
       " 'smoke',\n",
       " 'severe',\n",
       " 'reddit',\n",
       " 'next',\n",
       " 'movie',\n",
       " 'ive',\n",
       " 'hes',\n",
       " 'fall',\n",
       " 'evacuate',\n",
       " 'confirmed',\n",
       " 'bad',\n",
       " 'again',\n",
       " 'thunderstorm',\n",
       " 'set',\n",
       " 'night',\n",
       " 'natural',\n",
       " 'looks',\n",
       " 'heat',\n",
       " 'face',\n",
       " 'earthquake',\n",
       " 'boy',\n",
       " 'whole',\n",
       " 'until',\n",
       " 'thunder',\n",
       " 'through',\n",
       " 'says',\n",
       " 'panic',\n",
       " 'outbreak',\n",
       " 'made',\n",
       " 'lightning',\n",
       " 'fatalities',\n",
       " 'family',\n",
       " 'explosion',\n",
       " 'end',\n",
       " 'destroy',\n",
       " 'derailment',\n",
       " 'air',\n",
       " 'w',\n",
       " 'terrorist',\n",
       " 'survive',\n",
       " 'screaming',\n",
       " 'saudi',\n",
       " 'refugees',\n",
       " 'rain',\n",
       " 'murder',\n",
       " 'loud',\n",
       " 'liked',\n",
       " 'house',\n",
       " 'gonna',\n",
       " 'failure',\n",
       " 'collided',\n",
       " 'bag',\n",
       " 'attacked',\n",
       " 'ambulance',\n",
       " '70',\n",
       " 'wind',\n",
       " 'services',\n",
       " 'save',\n",
       " 'report',\n",
       " 'migrants',\n",
       " 'head',\n",
       " 'explode',\n",
       " 'charged',\n",
       " 'change',\n",
       " 'big',\n",
       " 'also',\n",
       " 'wrecked',\n",
       " 'warning',\n",
       " 'update',\n",
       " 'run',\n",
       " 'rescuers',\n",
       " 'released',\n",
       " 'photo',\n",
       " 'massacre',\n",
       " 'injury',\n",
       " 'hurricane',\n",
       " 'high',\n",
       " 'hail',\n",
       " 'fuck',\n",
       " 'does',\n",
       " 'destroyed',\n",
       " 'bus',\n",
       " 'blood',\n",
       " '40',\n",
       " '\\x89ÛÒ',\n",
       " 'wreckage',\n",
       " 'violent',\n",
       " 'twister',\n",
       " 'trauma',\n",
       " 'tragedy',\n",
       " 'terrorism',\n",
       " 'survivors',\n",
       " 'survived',\n",
       " 'sinkhole',\n",
       " 'sandstorm',\n",
       " 'road',\n",
       " 'rioting',\n",
       " 'red',\n",
       " 'real',\n",
       " 'put',\n",
       " 'post',\n",
       " 'national',\n",
       " 'missing',\n",
       " 'landslide',\n",
       " 'keep',\n",
       " 'girl',\n",
       " 'drought',\n",
       " 'curfew',\n",
       " 'breaking',\n",
       " 'bags',\n",
       " 'white',\n",
       " 'twitter',\n",
       " 'tonight',\n",
       " 'structural',\n",
       " 'spill',\n",
       " 'service',\n",
       " 'screamed',\n",
       " 'rescued',\n",
       " 'rescue',\n",
       " 'phone',\n",
       " 'ok',\n",
       " 'oh',\n",
       " 'mosque',\n",
       " 'lives',\n",
       " 'horrible',\n",
       " 'harm',\n",
       " 'game',\n",
       " 'dust',\n",
       " 'destruction',\n",
       " 'deluge',\n",
       " 'deaths',\n",
       " 'crashed',\n",
       " 'cliff',\n",
       " 'catastrophe',\n",
       " 'boat',\n",
       " 'away',\n",
       " 'august',\n",
       " 'area',\n",
       " 'apocalypse',\n",
       " 'woman',\n",
       " 'whirlwind',\n",
       " 'traumatised',\n",
       " 'stock',\n",
       " 'saw',\n",
       " 'ruin',\n",
       " 'riot',\n",
       " 'quarantine',\n",
       " 'kills',\n",
       " 'island',\n",
       " 'investigators',\n",
       " 'ill',\n",
       " 'hostages',\n",
       " 'hazard',\n",
       " 'danger',\n",
       " 'call',\n",
       " '15',\n",
       " 'women',\n",
       " 'windstorm',\n",
       " 'things',\n",
       " 'suspect',\n",
       " 'show',\n",
       " 'reunion',\n",
       " 'quarantined',\n",
       " 'lava',\n",
       " 'heart',\n",
       " 'engulfed',\n",
       " 'detonate',\n",
       " 'crush',\n",
       " 'collapsed',\n",
       " 'came',\n",
       " 'better',\n",
       " 'battle',\n",
       " 'armageddon',\n",
       " 'airplane',\n",
       " 'against',\n",
       " 'affected',\n",
       " 'use',\n",
       " 'trapped',\n",
       " 'thank',\n",
       " 'sunk',\n",
       " 'story',\n",
       " 'send',\n",
       " 'part',\n",
       " 'other',\n",
       " 'must',\n",
       " 'mudslide',\n",
       " 'market',\n",
       " 'iran',\n",
       " 'famine',\n",
       " 'exploded',\n",
       " 'electrocuted',\n",
       " 'ebay',\n",
       " 'displaced',\n",
       " 'derailed',\n",
       " 'derail',\n",
       " 'burned',\n",
       " 'bombed',\n",
       " 'blown',\n",
       " 'baby',\n",
       " 'around',\n",
       " 'zone',\n",
       " 'wave',\n",
       " 'wanna',\n",
       " 'sure',\n",
       " 'someone',\n",
       " 'screams',\n",
       " 'razed',\n",
       " 'power',\n",
       " 'obliterated',\n",
       " 'long',\n",
       " 'land',\n",
       " 'hundreds',\n",
       " 'heard',\n",
       " 'group',\n",
       " 'flattened',\n",
       " 'drown',\n",
       " 'doing',\n",
       " 'care',\n",
       " 'bridge',\n",
       " 'bagging',\n",
       " '9',\n",
       " 'went',\n",
       " 'used',\n",
       " 'typhoon',\n",
       " 'trouble',\n",
       " 'tornado',\n",
       " 'thought',\n",
       " 'thing',\n",
       " 'river',\n",
       " 'responders',\n",
       " 'past',\n",
       " 'pandemonium',\n",
       " 'officials',\n",
       " 'meltdown',\n",
       " 'lot',\n",
       " 'least',\n",
       " 'inundated',\n",
       " 'id',\n",
       " 'hostage',\n",
       " 'hijacking',\n",
       " 'hazardous',\n",
       " 'goes',\n",
       " 'drowning',\n",
       " 'didnt',\n",
       " 'devastation',\n",
       " 'demolish',\n",
       " 'collide',\n",
       " 'casualties',\n",
       " 'calgary',\n",
       " 'bang',\n",
       " 'anniversary',\n",
       " 'yet',\n",
       " 'wounds',\n",
       " 'volcano',\n",
       " 'tsunami',\n",
       " 'sue',\n",
       " 'st',\n",
       " 'song',\n",
       " 'something',\n",
       " 'shoulder',\n",
       " 'security',\n",
       " 'prebreak',\n",
       " 'possible',\n",
       " 'pkk',\n",
       " 'panicking',\n",
       " 'obliteration',\n",
       " 'obliterate',\n",
       " 'murderer',\n",
       " 'minute',\n",
       " 'light',\n",
       " 'lets',\n",
       " 'kill',\n",
       " 'isis',\n",
       " 'india',\n",
       " 'hijacker',\n",
       " 'hellfire',\n",
       " 'government',\n",
       " 'few',\n",
       " 'evacuated',\n",
       " 'due',\n",
       " 'detonated',\n",
       " 'desolation',\n",
       " 'crushed',\n",
       " 'chemical',\n",
       " 'blew',\n",
       " 'blazing',\n",
       " 'blast',\n",
       " 'annihilated',\n",
       " 'airport',\n",
       " '6',\n",
       " 'week',\n",
       " 'upheaval',\n",
       " 'trying',\n",
       " 'three',\n",
       " 'thanks',\n",
       " 'sound',\n",
       " 'soon',\n",
       " 'sirens',\n",
       " 'rainstorm',\n",
       " 'plane',\n",
       " 'music',\n",
       " 'making',\n",
       " 'kids',\n",
       " 'issues',\n",
       " 'half',\n",
       " 'guys',\n",
       " 'fedex',\n",
       " 'done',\n",
       " 'died',\n",
       " 'detonation',\n",
       " 'days',\n",
       " 'cyclone',\n",
       " 'county',\n",
       " 'collision',\n",
       " 'caused',\n",
       " 'catastrophic',\n",
       " 'bleeding',\n",
       " 'beautiful',\n",
       " '8',\n",
       " 'words',\n",
       " 'very',\n",
       " 'traffic',\n",
       " 'south',\n",
       " 'remember',\n",
       " 'policy',\n",
       " 'place',\n",
       " 'nothing',\n",
       " 'north',\n",
       " 'mp',\n",
       " 'longer',\n",
       " 'left',\n",
       " 'israeli',\n",
       " 'hell',\n",
       " 'fun',\n",
       " 'drowned',\n",
       " 'demolished',\n",
       " 'cool',\n",
       " 'both',\n",
       " 'bioterror',\n",
       " 'believe',\n",
       " 'avalanche',\n",
       " 'arson',\n",
       " 'turkey',\n",
       " 'snowstorm',\n",
       " 'site',\n",
       " 'shot',\n",
       " 'shooting',\n",
       " 'pic',\n",
       " 'nowplaying',\n",
       " 'media',\n",
       " 'islam',\n",
       " 'inside',\n",
       " 'hijack',\n",
       " 'helicopter',\n",
       " 'fight',\n",
       " 'fatality',\n",
       " 'fan',\n",
       " 'electrocute',\n",
       " 'doesnt',\n",
       " 'building',\n",
       " 'brown',\n",
       " 'bc',\n",
       " 'actually',\n",
       " '16yr',\n",
       " 'yes',\n",
       " 'watching',\n",
       " 'wait',\n",
       " 'ur',\n",
       " 'tell',\n",
       " 'swallowed',\n",
       " 'seismic',\n",
       " 'second',\n",
       " 'rubble',\n",
       " 're\\x89Û',\n",
       " 'plans',\n",
       " 'men',\n",
       " 'memories',\n",
       " 'line',\n",
       " 'la',\n",
       " 'horror',\n",
       " 'health',\n",
       " 'having',\n",
       " 'find',\n",
       " 'eyewitness',\n",
       " 'deluged',\n",
       " 'children',\n",
       " 'bush',\n",
       " 'anything',\n",
       " 'already',\n",
       " 'almost',\n",
       " 'aircraft',\n",
       " 'yourself',\n",
       " 'yeah',\n",
       " 'whats',\n",
       " 'tomorrow',\n",
       " 'such',\n",
       " 'start',\n",
       " 'side',\n",
       " 'searching',\n",
       " 'saved',\n",
       " 'reactor',\n",
       " 'probably',\n",
       " 'play',\n",
       " 'person',\n",
       " 'peace',\n",
       " 'outside',\n",
       " 'officer',\n",
       " 'nearby',\n",
       " 'n',\n",
       " 'maybe',\n",
       " 'lost',\n",
       " 'literally',\n",
       " 'hours',\n",
       " 'hear',\n",
       " 'far',\n",
       " 'die',\n",
       " 'demolition',\n",
       " 'data',\n",
       " 'crews',\n",
       " 'conclusively',\n",
       " 'business',\n",
       " 'american',\n",
       " '20',\n",
       " '\\x89ÛÓ',\n",
       " 'west',\n",
       " 'waves',\n",
       " 'team',\n",
       " 'street',\n",
       " 'stay',\n",
       " 'soudelor',\n",
       " 'reuters',\n",
       " 'manslaughter',\n",
       " 'leather',\n",
       " 'job',\n",
       " 'history',\n",
       " 'hey',\n",
       " 'feeling',\n",
       " 'eyes',\n",
       " 'everything',\n",
       " 'declares',\n",
       " 'deal',\n",
       " 'casualty',\n",
       " 'bodies',\n",
       " 'amid',\n",
       " 'ablaze',\n",
       " '7',\n",
       " '50',\n",
       " '30',\n",
       " '12',\n",
       " 'youth',\n",
       " 'wont',\n",
       " 'wake',\n",
       " 'theyre',\n",
       " 'support',\n",
       " 'stretcher',\n",
       " 'same',\n",
       " 'rise',\n",
       " 'picking',\n",
       " 'photos',\n",
       " 'own',\n",
       " 'others',\n",
       " 'order',\n",
       " 'omg',\n",
       " 'okay',\n",
       " 'name',\n",
       " 'myself',\n",
       " 'money',\n",
       " 'makes',\n",
       " 'leave',\n",
       " 'lab',\n",
       " 'gt',\n",
       " 'gets',\n",
       " 'flag',\n",
       " 'desolate',\n",
       " 'crisis',\n",
       " 'center',\n",
       " 'book',\n",
       " 'blight',\n",
       " 'blaze',\n",
       " 'ago',\n",
       " 'abc',\n",
       " '11yearold',\n",
       " 'womens',\n",
       " 'typhoondevastated',\n",
       " 'tv',\n",
       " 'trench',\n",
       " 'trains',\n",
       " 'texas',\n",
       " 'space',\n",
       " 'siren',\n",
       " 'shes',\n",
       " 'self',\n",
       " 'saipan',\n",
       " 'reason',\n",
       " 'rd',\n",
       " 'pretty',\n",
       " 'pick',\n",
       " 'offensive',\n",
       " 'move',\n",
       " 'meek',\n",
       " 'major',\n",
       " 'm',\n",
       " 'low',\n",
       " 'lord',\n",
       " 'huge',\n",
       " 'hat',\n",
       " 'flash',\n",
       " 'feared',\n",
       " 'fast',\n",
       " 'effect',\n",
       " 'course',\n",
       " 'country',\n",
       " 'control',\n",
       " 'class',\n",
       " 'child',\n",
       " 'chance',\n",
       " 'caught',\n",
       " 'called',\n",
       " 'bioterrorism',\n",
       " 'bestnaijamade',\n",
       " 'become',\n",
       " 'bar',\n",
       " 'banned',\n",
       " 'ball',\n",
       " 'aug',\n",
       " 'annihilation',\n",
       " 'wrong',\n",
       " 'win',\n",
       " 'usa',\n",
       " 'united',\n",
       " 'town',\n",
       " 'totally',\n",
       " 'toddler',\n",
       " 'though',\n",
       " 'temple',\n",
       " 'taken',\n",
       " 'stand',\n",
       " 'spot',\n",
       " 'signs',\n",
       " 'ship',\n",
       " 'pakistan',\n",
       " 'online',\n",
       " 'level',\n",
       " 'ladies',\n",
       " 'jobs',\n",
       " 'isnt',\n",
       " 'happy',\n",
       " 'hailstorm',\n",
       " 'friends',\n",
       " 'disea',\n",
       " 'damn',\n",
       " 'couple',\n",
       " 'case',\n",
       " 'blue',\n",
       " 'bigger',\n",
       " 'america',\n",
       " 'across',\n",
       " '10',\n",
       " 'yours',\n",
       " 'village',\n",
       " 'try',\n",
       " 'transport',\n",
       " 'talk',\n",
       " 'seen',\n",
       " 'russian',\n",
       " 'radio',\n",
       " 'projected',\n",
       " 'once',\n",
       " 'official',\n",
       " 'needs',\n",
       " 'nearly',\n",
       " 'mount',\n",
       " 'might',\n",
       " 'mayhem',\n",
       " 'instead',\n",
       " 'hollywood',\n",
       " 'haha',\n",
       " 'guy',\n",
       " 'gun',\n",
       " 'green',\n",
       " 'front',\n",
       " 'finally',\n",
       " 'favorite',\n",
       " 'experts',\n",
       " 'entire',\n",
       " 'east',\n",
       " 'daily',\n",
       " 'crazy',\n",
       " 'computers',\n",
       " 'coaches',\n",
       " 'christian',\n",
       " 'china',\n",
       " 'blizzard',\n",
       " 'anyone',\n",
       " 'aint',\n",
       " 'action',\n",
       " '25',\n",
       " 'virgin',\n",
       " 'vehicle',\n",
       " 'truth',\n",
       " 'trust',\n",
       " 'takes',\n",
       " 't',\n",
       " 'star',\n",
       " 'sorry',\n",
       " 'running',\n",
       " 'refugio',\n",
       " 'reddits',\n",
       " 'poor',\n",
       " 'pain',\n",
       " 'mom',\n",
       " 'miners',\n",
       " 'marks',\n",
       " 'looking',\n",
       " 'knock',\n",
       " 'issued',\n",
       " 'insurance',\n",
       " 'ignition',\n",
       " 'houses',\n",
       " 'heavy',\n",
       " 'hate',\n",
       " 'hard',\n",
       " 'happened',\n",
       " 'global',\n",
       " 'giant',\n",
       " 'gbbo',\n",
       " 'flight',\n",
       " 'eye',\n",
       " 'emmerdale',\n",
       " 'driver',\n",
       " 'devastated',\n",
       " 'd',\n",
       " 'costlier',\n",
       " 'cnn',\n",
       " 'cars',\n",
       " 'camp',\n",
       " 'beach',\n",
       " 'arsonist',\n",
       " 'angry',\n",
       " 'alone',\n",
       " 'added',\n",
       " '05',\n",
       " 'york',\n",
       " 'wonder',\n",
       " 'uk',\n",
       " 'turn',\n",
       " 'taking',\n",
       " 'subreddits',\n",
       " 'sounds',\n",
       " 'scared',\n",
       " 'russia',\n",
       " 'rly',\n",
       " 'reports',\n",
       " 'ready',\n",
       " 'quiz',\n",
       " 'public',\n",
       " 'property',\n",
       " 'pradesh',\n",
       " 'ppl',\n",
       " 'playing',\n",
       " 'pay',\n",
       " 'parole',\n",
       " 'pamela',\n",
       " 'pakistani',\n",
       " 'outrage',\n",
       " 'niggas',\n",
       " 'nagasaki',\n",
       " 'myanmar',\n",
       " 'muslims',\n",
       " 'mop',\n",
       " 'madhya',\n",
       " 'mad',\n",
       " 'lmao',\n",
       " 'learn',\n",
       " 'large',\n",
       " 'govt',\n",
       " 'give',\n",
       " 'gems',\n",
       " 'gave',\n",
       " 'funtenna',\n",
       " 'fukushima',\n",
       " 'former',\n",
       " 'film',\n",
       " 'earth',\n",
       " 'drive',\n",
       " 'downtown',\n",
       " 'dog',\n",
       " 'comes',\n",
       " 'closed',\n",
       " 'cake',\n",
       " 'british',\n",
       " 'bring',\n",
       " 'bbc',\n",
       " 'b',\n",
       " 'appears',\n",
       " 'aftershock',\n",
       " '13',\n",
       " '11',\n",
       " 'young',\n",
       " 'wow',\n",
       " 'worst',\n",
       " 'waving',\n",
       " 'washington',\n",
       " 'wanted',\n",
       " 'vs',\n",
       " 'view',\n",
       " 'upon',\n",
       " 'tweet',\n",
       " 'tree',\n",
       " 'tote',\n",
       " 'thousands',\n",
       " 'thinking',\n",
       " 'theater',\n",
       " 'soul',\n",
       " 'sky',\n",
       " 'sign',\n",
       " 'shows',\n",
       " 'shift',\n",
       " 'seeing',\n",
       " 'sea',\n",
       " 'scene',\n",
       " 'safety',\n",
       " 'rules',\n",
       " 'rock',\n",
       " 'reported',\n",
       " 'r',\n",
       " 'pray',\n",
       " 'playlist',\n",
       " 'patience',\n",
       " ...]"
      ]
     },
     "execution_count": 162,
     "metadata": {},
     "output_type": "execute_result"
    }
   ],
   "source": [
    "vocabulary = text_vectorizer.get_vocabulary()\n",
    "vocabulary"
   ]
  },
  {
   "cell_type": "code",
   "execution_count": 163,
   "metadata": {},
   "outputs": [],
   "source": [
    "import io\n",
    "\n",
    "out_v = io.open('vectors.tsv', 'w', encoding='utf-8')\n",
    "out_m = io.open('metadata.tsv', 'w', encoding='utf-8')\n",
    "\n",
    "for index, word in enumerate(vocabulary):\n",
    "  if index == 0:\n",
    "    continue  # skip 0, it's padding.\n",
    "  vec = embed_weights[index]\n",
    "  out_v.write('\\t'.join([str(x) for x in vec]) + \"\\n\")\n",
    "  out_m.write(word + \"\\n\")\n",
    "out_v.close()\n",
    "out_m.close()\n"
   ]
  },
  {
   "cell_type": "markdown",
   "metadata": {},
   "source": [
    "## Model 2: LSTM"
   ]
  },
  {
   "cell_type": "code",
   "execution_count": 166,
   "metadata": {},
   "outputs": [
    {
     "name": "stdout",
     "output_type": "stream",
     "text": [
      "Saving TensorBoard log files to: tensorboard/08_model_2/20240117-182633\n",
      "Saving model checkpoints to: checkpoints/08_model_2/checkpoint.ckpt\n",
      "Epoch 1/5\n",
      "215/215 [==============================] - 60s 122ms/step - loss: 0.5137 - accuracy: 0.7457 - val_loss: 0.4711 - val_accuracy: 0.7874\n",
      "Epoch 2/5\n",
      "215/215 [==============================] - 15s 68ms/step - loss: 0.3123 - accuracy: 0.8695 - val_loss: 0.4731 - val_accuracy: 0.7861\n",
      "Epoch 3/5\n",
      "215/215 [==============================] - 7s 32ms/step - loss: 0.2119 - accuracy: 0.9184 - val_loss: 0.6140 - val_accuracy: 0.7717\n",
      "Epoch 4/5\n",
      "215/215 [==============================] - 6s 30ms/step - loss: 0.1483 - accuracy: 0.9406 - val_loss: 0.6627 - val_accuracy: 0.7795\n",
      "Epoch 5/5\n",
      "215/215 [==============================] - 5s 25ms/step - loss: 0.1019 - accuracy: 0.9615 - val_loss: 0.8593 - val_accuracy: 0.7743\n"
     ]
    }
   ],
   "source": [
    "text_vectorizer = tf.keras.layers.TextVectorization(\n",
    "    max_tokens=max_vocab_length,\n",
    "    output_mode=\"int\",\n",
    "    output_sequence_length=max_length,\n",
    ")\n",
    "\n",
    "text_vectorizer.adapt(train_sentences)\n",
    "\n",
    "embedding = tf.keras.layers.Embedding(\n",
    "    input_dim=max_vocab_length,\n",
    "    output_dim=128,\n",
    "    input_length=max_length,\n",
    ")\n",
    "\n",
    "inputs = tf.keras.layers.Input(shape=(1,), dtype=tf.string)\n",
    "x = text_vectorizer(inputs)\n",
    "x = embedding(x)\n",
    "x = tf.keras.layers.LSTM(64)(x)\n",
    "# x = tf.keras.layers.Dense(64, activation=\"relu\")(x)\n",
    "outputs = tf.keras.layers.Dense(1, activation=\"sigmoid\")(x)\n",
    "\n",
    "model_2 = tf.keras.Model(inputs, outputs, name=\"model_2_LSTM\")\n",
    "\n",
    "model_2.compile(\n",
    "    loss=tf.keras.losses.BinaryCrossentropy(),\n",
    "    optimizer=tf.keras.optimizers.legacy.Adam(),\n",
    "    metrics=[\"accuracy\"],\n",
    ")\n",
    "\n",
    "history_2 = model_2.fit(\n",
    "    x=train_sentences,\n",
    "    y=train_labels,\n",
    "    epochs=5,\n",
    "    validation_data=(val_sentences, val_labels),\n",
    "    callbacks=[\n",
    "        create_tensorboard_callback(\"tensorboard\", \"08_model_2\"),\n",
    "        create_checkpoint_callback(\"checkpoints\", \"08_model_2\"),\n",
    "    ],\n",
    ")"
   ]
  },
  {
   "cell_type": "code",
   "execution_count": 167,
   "metadata": {},
   "outputs": [
    {
     "name": "stdout",
     "output_type": "stream",
     "text": [
      "24/24 [==============================] - 3s 90ms/step\n"
     ]
    },
    {
     "data": {
      "text/plain": [
       "array([[0.01292462],\n",
       "       [0.6812362 ],\n",
       "       [0.99875116],\n",
       "       [0.02365888],\n",
       "       [0.00188603],\n",
       "       [0.99676514],\n",
       "       [0.10164104],\n",
       "       [0.99936837],\n",
       "       [0.99930346],\n",
       "       [0.17050791]], dtype=float32)"
      ]
     },
     "execution_count": 167,
     "metadata": {},
     "output_type": "execute_result"
    }
   ],
   "source": [
    "model_2_pred_probs = model_2.predict(val_sentences)\n",
    "model_2_pred_probs[:10]\n"
   ]
  },
  {
   "cell_type": "code",
   "execution_count": 168,
   "metadata": {},
   "outputs": [
    {
     "data": {
      "text/plain": [
       "<tf.Tensor: shape=(10,), dtype=float32, numpy=array([0., 1., 1., 0., 0., 1., 0., 1., 1., 0.], dtype=float32)>"
      ]
     },
     "execution_count": 168,
     "metadata": {},
     "output_type": "execute_result"
    }
   ],
   "source": [
    "model_2_preds = tf.squeeze(tf.round(model_2_pred_probs))\n",
    "model_2_preds[:10]\n"
   ]
  },
  {
   "cell_type": "code",
   "execution_count": 173,
   "metadata": {},
   "outputs": [
    {
     "data": {
      "text/plain": [
       "{'accuracy': 77.42782152230971,\n",
       " 'precision': 0.779472762048361,\n",
       " 'recall': 0.7742782152230971,\n",
       " 'f1': 0.770786705353106}"
      ]
     },
     "execution_count": 173,
     "metadata": {},
     "output_type": "execute_result"
    }
   ],
   "source": [
    "model_2_result = calculate_results(val_labels, model_2_preds)\n",
    "model_2_result"
   ]
  },
  {
   "cell_type": "markdown",
   "metadata": {},
   "source": [
    "## Model 3: GRU"
   ]
  },
  {
   "cell_type": "code",
   "execution_count": 24,
   "metadata": {},
   "outputs": [
    {
     "name": "stdout",
     "output_type": "stream",
     "text": [
      "Saving TensorBoard log files to: tensorboard/08_model_3/20240118-015140\n",
      "Saving model checkpoints to: checkpoints/08_model_3/checkpoint.ckpt\n",
      "Epoch 1/5\n",
      "215/215 [==============================] - 9s 31ms/step - loss: 0.5335 - accuracy: 0.7243 - val_loss: 0.5100 - val_accuracy: 0.7769\n",
      "Epoch 2/5\n",
      "215/215 [==============================] - 5s 23ms/step - loss: 0.3212 - accuracy: 0.8702 - val_loss: 0.4731 - val_accuracy: 0.7795\n",
      "Epoch 3/5\n",
      "215/215 [==============================] - 5s 22ms/step - loss: 0.2169 - accuracy: 0.9196 - val_loss: 0.5212 - val_accuracy: 0.7730\n",
      "Epoch 4/5\n",
      "215/215 [==============================] - 5s 23ms/step - loss: 0.1511 - accuracy: 0.9470 - val_loss: 0.6850 - val_accuracy: 0.7612\n",
      "Epoch 5/5\n",
      "215/215 [==============================] - 5s 23ms/step - loss: 0.1121 - accuracy: 0.9626 - val_loss: 0.7162 - val_accuracy: 0.7743\n"
     ]
    }
   ],
   "source": [
    "text_vectorizer = tf.keras.layers.TextVectorization(\n",
    "    max_tokens=max_vocab_length,\n",
    "    output_mode=\"int\",\n",
    "    output_sequence_length=max_length,\n",
    ")\n",
    "\n",
    "text_vectorizer.adapt(train_sentences)\n",
    "\n",
    "embedding = tf.keras.layers.Embedding(\n",
    "    input_dim=max_vocab_length,\n",
    "    output_dim=128,\n",
    "    input_length=max_length,\n",
    ")\n",
    "\n",
    "inputs = tf.keras.layers.Input(shape=(1,), dtype=tf.string)\n",
    "x = text_vectorizer(inputs)\n",
    "x = embedding(x)\n",
    "x = tf.keras.layers.GRU(64)(x)\n",
    "# x = tf.keras.layers.Dense(64, activation=\"relu\")(x)\n",
    "outputs = tf.keras.layers.Dense(1, activation=\"sigmoid\")(x)\n",
    "\n",
    "model_3 = tf.keras.Model(inputs, outputs, name=\"model_3_GRU\")\n",
    "\n",
    "model_3.compile(\n",
    "    loss=tf.keras.losses.BinaryCrossentropy(),\n",
    "    optimizer=tf.keras.optimizers.legacy.Adam(),\n",
    "    metrics=[\"accuracy\"],\n",
    ")\n",
    "\n",
    "history_3 = model_3.fit(\n",
    "    x=train_sentences,\n",
    "    y=train_labels,\n",
    "    epochs=5,\n",
    "    validation_data=(val_sentences, val_labels),\n",
    "    callbacks=[\n",
    "        create_tensorboard_callback(\"tensorboard\", \"08_model_3\"),\n",
    "        create_checkpoint_callback(\"checkpoints\", \"08_model_3\"),\n",
    "    ],\n",
    ")"
   ]
  },
  {
   "cell_type": "code",
   "execution_count": 25,
   "metadata": {},
   "outputs": [
    {
     "name": "stdout",
     "output_type": "stream",
     "text": [
      "24/24 [==============================] - 1s 7ms/step\n"
     ]
    },
    {
     "data": {
      "text/plain": [
       "array([[0.07007099],\n",
       "       [0.8953155 ],\n",
       "       [0.99963236],\n",
       "       [0.05023453],\n",
       "       [0.00461387],\n",
       "       [0.9992599 ],\n",
       "       [0.9809295 ],\n",
       "       [0.9995956 ],\n",
       "       [0.99926335],\n",
       "       [0.05231824]], dtype=float32)"
      ]
     },
     "execution_count": 25,
     "metadata": {},
     "output_type": "execute_result"
    }
   ],
   "source": [
    "model_3_pred_probs = model_3.predict(val_sentences)\n",
    "model_3_pred_probs[:10]"
   ]
  },
  {
   "cell_type": "code",
   "execution_count": 26,
   "metadata": {},
   "outputs": [
    {
     "data": {
      "text/plain": [
       "<tf.Tensor: shape=(10,), dtype=float32, numpy=array([0., 1., 1., 0., 0., 1., 1., 1., 1., 0.], dtype=float32)>"
      ]
     },
     "execution_count": 26,
     "metadata": {},
     "output_type": "execute_result"
    }
   ],
   "source": [
    "model_3_preds = tf.squeeze(tf.round(model_3_pred_probs))\n",
    "model_3_preds[:10]"
   ]
  },
  {
   "cell_type": "code",
   "execution_count": 27,
   "metadata": {},
   "outputs": [
    {
     "data": {
      "text/plain": [
       "{'accuracy': 77.42782152230971,\n",
       " 'precision': 0.7771676205309502,\n",
       " 'recall': 0.7742782152230971,\n",
       " 'f1': 0.7716950935205196}"
      ]
     },
     "execution_count": 27,
     "metadata": {},
     "output_type": "execute_result"
    }
   ],
   "source": [
    "model_3_result = calculate_results(val_labels, model_3_preds)\n",
    "model_3_result"
   ]
  },
  {
   "cell_type": "markdown",
   "metadata": {},
   "source": [
    "## Model 4: Bidirectional RNN model"
   ]
  },
  {
   "cell_type": "code",
   "execution_count": 33,
   "metadata": {},
   "outputs": [
    {
     "name": "stdout",
     "output_type": "stream",
     "text": [
      "Saving TensorBoard log files to: tensorboard/08_model_4/20240118-020006\n",
      "Saving model checkpoints to: checkpoints/08_model_4/checkpoint.ckpt\n",
      "Epoch 1/5\n",
      "215/215 [==============================] - 9s 31ms/step - loss: 0.5152 - accuracy: 0.7408 - val_loss: 0.4607 - val_accuracy: 0.7927\n",
      "Epoch 2/5\n",
      "215/215 [==============================] - 5s 23ms/step - loss: 0.3135 - accuracy: 0.8711 - val_loss: 0.4964 - val_accuracy: 0.7703\n",
      "Epoch 3/5\n",
      "215/215 [==============================] - 5s 22ms/step - loss: 0.2067 - accuracy: 0.9234 - val_loss: 0.6193 - val_accuracy: 0.7703\n",
      "Epoch 4/5\n",
      "215/215 [==============================] - 4s 21ms/step - loss: 0.1426 - accuracy: 0.9502 - val_loss: 0.6529 - val_accuracy: 0.7572\n",
      "Epoch 5/5\n",
      "215/215 [==============================] - 5s 21ms/step - loss: 0.0937 - accuracy: 0.9653 - val_loss: 0.7635 - val_accuracy: 0.7598\n"
     ]
    }
   ],
   "source": [
    "text_vectorizer = tf.keras.layers.TextVectorization(\n",
    "    max_tokens=max_vocab_length,\n",
    "    output_mode=\"int\",\n",
    "    output_sequence_length=max_length,\n",
    ")\n",
    "\n",
    "text_vectorizer.adapt(train_sentences)\n",
    "\n",
    "embedding = tf.keras.layers.Embedding(\n",
    "    input_dim=max_vocab_length,\n",
    "    output_dim=128,\n",
    "    input_length=max_length,\n",
    ")\n",
    "\n",
    "inputs = tf.keras.layers.Input(shape=(1,), dtype=tf.string)\n",
    "x = text_vectorizer(inputs)\n",
    "x = embedding(x)\n",
    "x = tf.keras.layers.Bidirectional(tf.keras.layers.LSTM(64))(x)\n",
    "# x = tf.keras.layers.Dense(64, activation=\"relu\")(x)\n",
    "outputs = tf.keras.layers.Dense(1, activation=\"sigmoid\")(x)\n",
    "\n",
    "model_4 = tf.keras.Model(inputs, outputs)\n",
    "\n",
    "model_4.compile(\n",
    "    loss=tf.keras.losses.BinaryCrossentropy(),\n",
    "    optimizer=tf.keras.optimizers.legacy.Adam(),\n",
    "    metrics=[\"accuracy\"],\n",
    ")\n",
    "\n",
    "history_4 = model_4.fit(\n",
    "    x=train_sentences,\n",
    "    y=train_labels,\n",
    "    epochs=5,\n",
    "    validation_data=(val_sentences, val_labels),\n",
    "    callbacks=[\n",
    "        create_tensorboard_callback(\"tensorboard\", \"08_model_4\"),\n",
    "        create_checkpoint_callback(\"checkpoints\", \"08_model_4\"),\n",
    "    ],\n",
    ")"
   ]
  },
  {
   "cell_type": "code",
   "execution_count": 34,
   "metadata": {},
   "outputs": [
    {
     "name": "stdout",
     "output_type": "stream",
     "text": [
      "24/24 [==============================] - 1s 8ms/step\n"
     ]
    },
    {
     "data": {
      "text/plain": [
       "array([[0.5253565 ],\n",
       "       [0.89554745],\n",
       "       [0.9991524 ],\n",
       "       [0.0903252 ],\n",
       "       [0.00521479],\n",
       "       [0.97653097],\n",
       "       [0.5513199 ],\n",
       "       [0.9997787 ],\n",
       "       [0.99946445],\n",
       "       [0.2187153 ]], dtype=float32)"
      ]
     },
     "execution_count": 34,
     "metadata": {},
     "output_type": "execute_result"
    }
   ],
   "source": [
    "model_4_pred_probs = model_4.predict(val_sentences)\n",
    "model_4_pred_probs[:10]"
   ]
  },
  {
   "cell_type": "code",
   "execution_count": 35,
   "metadata": {},
   "outputs": [
    {
     "data": {
      "text/plain": [
       "<tf.Tensor: shape=(10,), dtype=float32, numpy=array([1., 1., 1., 0., 0., 1., 1., 1., 1., 0.], dtype=float32)>"
      ]
     },
     "execution_count": 35,
     "metadata": {},
     "output_type": "execute_result"
    }
   ],
   "source": [
    "model_4_preds = tf.squeeze(tf.round(model_4_pred_probs))\n",
    "model_4_preds[:10]"
   ]
  },
  {
   "cell_type": "code",
   "execution_count": 36,
   "metadata": {},
   "outputs": [
    {
     "data": {
      "text/plain": [
       "{'accuracy': 75.98425196850394,\n",
       " 'precision': 0.7618096125081139,\n",
       " 'recall': 0.7598425196850394,\n",
       " 'f1': 0.7573149475055201}"
      ]
     },
     "execution_count": 36,
     "metadata": {},
     "output_type": "execute_result"
    }
   ],
   "source": [
    "model_4_result = calculate_results(val_labels, model_4_preds)\n",
    "model_4_result"
   ]
  },
  {
   "cell_type": "code",
   "execution_count": null,
   "metadata": {},
   "outputs": [],
   "source": [
    "## Model 5: "
   ]
  }
 ],
 "metadata": {
  "kernelspec": {
   "display_name": "Python 3",
   "language": "python",
   "name": "python3"
  },
  "language_info": {
   "codemirror_mode": {
    "name": "ipython",
    "version": 3
   },
   "file_extension": ".py",
   "mimetype": "text/x-python",
   "name": "python",
   "nbconvert_exporter": "python",
   "pygments_lexer": "ipython3",
   "version": "3.11.5"
  }
 },
 "nbformat": 4,
 "nbformat_minor": 2
}
