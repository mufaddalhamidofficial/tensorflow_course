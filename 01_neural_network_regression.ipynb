{
  "cells": [
    {
      "cell_type": "markdown",
      "metadata": {
        "id": "nFedvq-0AYhF"
      },
      "source": [
        "# Introduction to Regression with Neural networks in TensorFlow\n",
        "\n",
        "There are many definitions for a regression problem but in our case, we're going to simplify it: pridcting a nemerical variable based on some other cmbination of varialles, even shorter... predicting a number"
      ]
    },
    {
      "cell_type": "code",
      "execution_count": 164,
      "metadata": {
        "colab": {
          "base_uri": "https://localhost:8080/"
        },
        "id": "VPAbgqbHA2cx",
        "outputId": "568845f0-e0d4-47bd-e65a-96dba7d405fc"
      },
      "outputs": [
        {
          "name": "stdout",
          "output_type": "stream",
          "text": [
            "2.14.0\n"
          ]
        }
      ],
      "source": [
        "import tensorflow as tf\n",
        "import numpy as np\n",
        "import matplotlib.pyplot as plt\n",
        "\n",
        "print(tf.__version__)"
      ]
    },
    {
      "cell_type": "markdown",
      "metadata": {
        "id": "-gV7EAhYA8zJ"
      },
      "source": [
        "## Creating data to view and fit"
      ]
    },
    {
      "cell_type": "code",
      "execution_count": 165,
      "metadata": {
        "colab": {
          "base_uri": "https://localhost:8080/",
          "height": 452
        },
        "id": "HLY0sRUqBEw8",
        "outputId": "5cef0d99-c9e0-4ab7-be40-b8ef0b224596"
      },
      "outputs": [
        {
          "data": {
            "text/plain": [
              "<matplotlib.collections.PathCollection at 0x2c66b9cd0>"
            ]
          },
          "execution_count": 165,
          "metadata": {},
          "output_type": "execute_result"
        },
        {
          "data": {
            "image/png": "[encoded data removed]",
            "text/plain": [
              "<Figure size 640x480 with 1 Axes>"
            ]
          },
          "metadata": {},
          "output_type": "display_data"
        }
      ],
      "source": [
        "# Create features\n",
        "X = np.array([-7.0, -4.0, -1.0, 2.0, 5.0, 8.0, 11.0, 14.0])\n",
        "\n",
        "# Create labels\n",
        "y  = np.array([3.0, 6.0, 9.0, 12.0, 15.0, 18.0, 21.0, 24.0])\n",
        "\n",
        "# Visualize it\n",
        "plt.scatter(X, y)"
      ]
    },
    {
      "cell_type": "code",
      "execution_count": 166,
      "metadata": {
        "colab": {
          "base_uri": "https://localhost:8080/"
        },
        "id": "Va2lmXhDBjeg",
        "outputId": "06a0d3e2-1086-454b-e1dd-fcc584654632"
      },
      "outputs": [
        {
          "data": {
            "text/plain": [
              "array([ True,  True,  True,  True,  True,  True,  True,  True])"
            ]
          },
          "execution_count": 166,
          "metadata": {},
          "output_type": "execute_result"
        }
      ],
      "source": [
        "y == X + 10"
      ]
    },
    {
      "cell_type": "markdown",
      "metadata": {
        "id": "Tcp4QSiqByHm"
      },
      "source": [
        "## Input and output shapes"
      ]
    },
    {
      "cell_type": "code",
      "execution_count": 167,
      "metadata": {
        "colab": {
          "base_uri": "https://localhost:8080/"
        },
        "id": "LXbuVFEQC4TN",
        "outputId": "489aff05-9d23-47d0-b1b7-4d93198efe4f"
      },
      "outputs": [
        {
          "data": {
            "text/plain": [
              "(<tf.Tensor: shape=(3,), dtype=string, numpy=array([b'bedroom', b'bathroom', b'garage'], dtype=object)>,\n",
              " <tf.Tensor: shape=(1,), dtype=int32, numpy=array([939700], dtype=int32)>)"
            ]
          },
          "execution_count": 167,
          "metadata": {},
          "output_type": "execute_result"
        }
      ],
      "source": [
        "# Create a demo tensor for our housing price prediction problem\n",
        "house_info = tf.constant([\"bedroom\", \"bathroom\", \"garage\"])\n",
        "house_price = tf.constant([939700])\n",
        "house_info, house_price"
      ]
    },
    {
      "cell_type": "code",
      "execution_count": 168,
      "metadata": {
        "id": "DrBr9uliDEPH"
      },
      "outputs": [],
      "source": [
        "input_shape = X.shape\n",
        "output_shape = y.shape"
      ]
    },
    {
      "cell_type": "code",
      "execution_count": 169,
      "metadata": {
        "colab": {
          "base_uri": "https://localhost:8080/"
        },
        "id": "-CTMhfN9DR9p",
        "outputId": "ba47a629-489c-46c3-d106-5cf8a4ff5b65"
      },
      "outputs": [
        {
          "data": {
            "text/plain": [
              "(<tf.Tensor: shape=(8,), dtype=float32, numpy=array([-7., -4., -1.,  2.,  5.,  8., 11., 14.], dtype=float32)>,\n",
              " <tf.Tensor: shape=(8,), dtype=float32, numpy=array([ 3.,  6.,  9., 12., 15., 18., 21., 24.], dtype=float32)>)"
            ]
          },
          "execution_count": 169,
          "metadata": {},
          "output_type": "execute_result"
        }
      ],
      "source": [
        "X = tf.cast(tf.constant(X), dtype=tf.float32)\n",
        "y = tf.cast(tf.constant(y), dtype=tf.float32)\n",
        "X, y"
      ]
    },
    {
      "cell_type": "code",
      "execution_count": 170,
      "metadata": {
        "colab": {
          "base_uri": "https://localhost:8080/"
        },
        "id": "Grtesu42Es7r",
        "outputId": "3a42bb73-5ff1-4d08-cca8-c50f8f87ff3b"
      },
      "outputs": [
        {
          "data": {
            "text/plain": [
              "(TensorShape([]), TensorShape([]))"
            ]
          },
          "execution_count": 170,
          "metadata": {},
          "output_type": "execute_result"
        }
      ],
      "source": [
        "input_shape = X[0].shape\n",
        "output_shape = y[0].shape\n",
        "\n",
        "input_shape, output_shape"
      ]
    },
    {
      "cell_type": "markdown",
      "metadata": {
        "id": "J6qsrbO4EwgR"
      },
      "source": [
        "## Steps in modelling with TensorFlow\n",
        "\n",
        "1. **Creating a model** - define the input and output layers as well as the hidden layers of a deep learning model\n",
        "2. **Compiling a model** - define the loss function, the optimizer and evaluation matrix\n",
        "3. Fitting the model - letting model try and find patterns between X & y (features and Label)"
      ]
    },
    {
      "cell_type": "code",
      "execution_count": 171,
      "metadata": {
        "colab": {
          "base_uri": "https://localhost:8080/"
        },
        "id": "utXih6u6E_R3",
        "outputId": "c16187bc-aea8-4ca7-dc2d-90037ac8762c"
      },
      "outputs": [
        {
          "name": "stderr",
          "output_type": "stream",
          "text": [
            "WARNING:absl:At this time, the v2.11+ optimizer `tf.keras.optimizers.SGD` runs slowly on M1/M2 Macs, please use the legacy Keras optimizer instead, located at `tf.keras.optimizers.legacy.SGD`.\n"
          ]
        },
        {
          "name": "stdout",
          "output_type": "stream",
          "text": [
            "Epoch 1/5\n",
            "1/1 [==============================] - 0s 171ms/step - loss: 8.7744 - mae: 8.7744\n",
            "Epoch 2/5\n",
            "1/1 [==============================] - 0s 2ms/step - loss: 8.6419 - mae: 8.6419\n",
            "Epoch 3/5\n",
            "1/1 [==============================] - 0s 2ms/step - loss: 8.5094 - mae: 8.5094\n",
            "Epoch 4/5\n",
            "1/1 [==============================] - 0s 2ms/step - loss: 8.3769 - mae: 8.3769\n",
            "Epoch 5/5\n",
            "1/1 [==============================] - 0s 2ms/step - loss: 8.2444 - mae: 8.2444\n"
          ]
        },
        {
          "data": {
            "text/plain": [
              "<keras.src.callbacks.History at 0x2c54c5910>"
            ]
          },
          "execution_count": 171,
          "metadata": {},
          "output_type": "execute_result"
        }
      ],
      "source": [
        "tf.random.set_seed(42)\n",
        "\n",
        "model = tf.keras.Sequential([\n",
        "    tf.keras.layers.Dense(1),\n",
        "])\n",
        "\n",
        "model.compile(loss=tf.keras.losses.mae,\n",
        "              optimizer=tf.keras.optimizers.SGD(),\n",
        "              metrics=[\"mae\"])\n",
        "\n",
        "model.fit(tf.expand_dims(X, axis=-1), y, epochs=5)"
      ]
    },
    {
      "cell_type": "code",
      "execution_count": 172,
      "metadata": {
        "colab": {
          "base_uri": "https://localhost:8080/"
        },
        "id": "2azSZ75ZHA_o",
        "outputId": "0eac4c22-fe91-461b-b604-c15df449d5c2"
      },
      "outputs": [
        {
          "name": "stdout",
          "output_type": "stream",
          "text": [
            "1/1 [==============================] - 0s 26ms/step\n"
          ]
        },
        {
          "data": {
            "text/plain": [
              "array([[25.977968]], dtype=float32)"
            ]
          },
          "execution_count": 172,
          "metadata": {},
          "output_type": "execute_result"
        }
      ],
      "source": [
        "model.predict([17.0])"
      ]
    },
    {
      "cell_type": "markdown",
      "metadata": {
        "id": "zig3FRkDHYU1"
      },
      "source": [
        "## Improving the model\n",
        "\n"
      ]
    },
    {
      "cell_type": "code",
      "execution_count": 173,
      "metadata": {
        "colab": {
          "base_uri": "https://localhost:8080/"
        },
        "id": "ez0YlR1eJX-i",
        "outputId": "724f6f14-1609-440d-c6b4-795eef723340"
      },
      "outputs": [
        {
          "name": "stderr",
          "output_type": "stream",
          "text": [
            "WARNING:absl:At this time, the v2.11+ optimizer `tf.keras.optimizers.Adam` runs slowly on M1/M2 Macs, please use the legacy Keras optimizer instead, located at `tf.keras.optimizers.legacy.Adam`.\n"
          ]
        },
        {
          "name": "stdout",
          "output_type": "stream",
          "text": [
            "Epoch 1/100\n",
            "1/1 [==============================] - 0s 221ms/step - loss: 14.2238 - mae: 14.2238\n",
            "Epoch 2/100\n",
            "1/1 [==============================] - 0s 2ms/step - loss: 14.1281 - mae: 14.1281\n",
            "Epoch 3/100\n",
            "1/1 [==============================] - 0s 2ms/step - loss: 14.0323 - mae: 14.0323\n",
            "Epoch 4/100\n",
            "1/1 [==============================] - 0s 2ms/step - loss: 13.9366 - mae: 13.9366\n",
            "Epoch 5/100\n",
            "1/1 [==============================] - 0s 2ms/step - loss: 13.8408 - mae: 13.8408\n",
            "Epoch 6/100\n",
            "1/1 [==============================] - 0s 2ms/step - loss: 13.7451 - mae: 13.7451\n",
            "Epoch 7/100\n",
            "1/1 [==============================] - 0s 2ms/step - loss: 13.6492 - mae: 13.6492\n",
            "Epoch 8/100\n",
            "1/1 [==============================] - 0s 2ms/step - loss: 13.5534 - mae: 13.5534\n",
            "Epoch 9/100\n",
            "1/1 [==============================] - 0s 2ms/step - loss: 13.4575 - mae: 13.4575\n",
            "Epoch 10/100\n",
            "1/1 [==============================] - 0s 2ms/step - loss: 13.3615 - mae: 13.3615\n",
            "Epoch 11/100\n",
            "1/1 [==============================] - 0s 2ms/step - loss: 13.2655 - mae: 13.2655\n",
            "Epoch 12/100\n",
            "1/1 [==============================] - 0s 2ms/step - loss: 13.1694 - mae: 13.1694\n",
            "Epoch 13/100\n",
            "1/1 [==============================] - 0s 2ms/step - loss: 13.0732 - mae: 13.0732\n",
            "Epoch 14/100\n",
            "1/1 [==============================] - 0s 2ms/step - loss: 12.9769 - mae: 12.9769\n",
            "Epoch 15/100\n",
            "1/1 [==============================] - 0s 2ms/step - loss: 12.8806 - mae: 12.8806\n",
            "Epoch 16/100\n",
            "1/1 [==============================] - 0s 2ms/step - loss: 12.7841 - mae: 12.7841\n",
            "Epoch 17/100\n",
            "1/1 [==============================] - 0s 2ms/step - loss: 12.6876 - mae: 12.6876\n",
            "Epoch 18/100\n",
            "1/1 [==============================] - 0s 2ms/step - loss: 12.5908 - mae: 12.5908\n",
            "Epoch 19/100\n",
            "1/1 [==============================] - 0s 2ms/step - loss: 12.4940 - mae: 12.4940\n",
            "Epoch 20/100\n",
            "1/1 [==============================] - 0s 2ms/step - loss: 12.3970 - mae: 12.3970\n",
            "Epoch 21/100\n",
            "1/1 [==============================] - 0s 2ms/step - loss: 12.2998 - mae: 12.2998\n",
            "Epoch 22/100\n",
            "1/1 [==============================] - 0s 2ms/step - loss: 12.2024 - mae: 12.2024\n",
            "Epoch 23/100\n",
            "1/1 [==============================] - 0s 2ms/step - loss: 12.1048 - mae: 12.1048\n",
            "Epoch 24/100\n",
            "1/1 [==============================] - 0s 2ms/step - loss: 12.0070 - mae: 12.0070\n",
            "Epoch 25/100\n",
            "1/1 [==============================] - 0s 2ms/step - loss: 11.9090 - mae: 11.9090\n",
            "Epoch 26/100\n",
            "1/1 [==============================] - 0s 2ms/step - loss: 11.8107 - mae: 11.8107\n",
            "Epoch 27/100\n",
            "1/1 [==============================] - 0s 2ms/step - loss: 11.7121 - mae: 11.7121\n",
            "Epoch 28/100\n",
            "1/1 [==============================] - 0s 2ms/step - loss: 11.6133 - mae: 11.6133\n",
            "Epoch 29/100\n",
            "1/1 [==============================] - 0s 2ms/step - loss: 11.5142 - mae: 11.5142\n",
            "Epoch 30/100\n",
            "1/1 [==============================] - 0s 2ms/step - loss: 11.4147 - mae: 11.4147\n",
            "Epoch 31/100\n",
            "1/1 [==============================] - 0s 2ms/step - loss: 11.3149 - mae: 11.3149\n",
            "Epoch 32/100\n",
            "1/1 [==============================] - 0s 2ms/step - loss: 11.2148 - mae: 11.2148\n",
            "Epoch 33/100\n",
            "1/1 [==============================] - 0s 2ms/step - loss: 11.1143 - mae: 11.1143\n",
            "Epoch 34/100\n",
            "1/1 [==============================] - 0s 2ms/step - loss: 11.0134 - mae: 11.0134\n",
            "Epoch 35/100\n",
            "1/1 [==============================] - 0s 2ms/step - loss: 10.9121 - mae: 10.9121\n",
            "Epoch 36/100\n",
            "1/1 [==============================] - 0s 2ms/step - loss: 10.8103 - mae: 10.8103\n",
            "Epoch 37/100\n",
            "1/1 [==============================] - 0s 2ms/step - loss: 10.7081 - mae: 10.7081\n",
            "Epoch 38/100\n",
            "1/1 [==============================] - 0s 2ms/step - loss: 10.6055 - mae: 10.6055\n",
            "Epoch 39/100\n",
            "1/1 [==============================] - 0s 2ms/step - loss: 10.5024 - mae: 10.5024\n",
            "Epoch 40/100\n",
            "1/1 [==============================] - 0s 2ms/step - loss: 10.3988 - mae: 10.3988\n",
            "Epoch 41/100\n",
            "1/1 [==============================] - 0s 2ms/step - loss: 10.2947 - mae: 10.2947\n",
            "Epoch 42/100\n",
            "1/1 [==============================] - 0s 2ms/step - loss: 10.1900 - mae: 10.1900\n",
            "Epoch 43/100\n",
            "1/1 [==============================] - 0s 2ms/step - loss: 10.0848 - mae: 10.0848\n",
            "Epoch 44/100\n",
            "1/1 [==============================] - 0s 2ms/step - loss: 9.9791 - mae: 9.9791\n",
            "Epoch 45/100\n",
            "1/1 [==============================] - 0s 2ms/step - loss: 9.8728 - mae: 9.8728\n",
            "Epoch 46/100\n",
            "1/1 [==============================] - 0s 2ms/step - loss: 9.7659 - mae: 9.7659\n",
            "Epoch 47/100\n",
            "1/1 [==============================] - 0s 2ms/step - loss: 9.6583 - mae: 9.6583\n",
            "Epoch 48/100\n",
            "1/1 [==============================] - 0s 2ms/step - loss: 9.5502 - mae: 9.5502\n",
            "Epoch 49/100\n",
            "1/1 [==============================] - 0s 2ms/step - loss: 9.4414 - mae: 9.4414\n",
            "Epoch 50/100\n",
            "1/1 [==============================] - 0s 2ms/step - loss: 9.3319 - mae: 9.3319\n",
            "Epoch 51/100\n",
            "1/1 [==============================] - 0s 2ms/step - loss: 9.2218 - mae: 9.2218\n",
            "Epoch 52/100\n",
            "1/1 [==============================] - 0s 2ms/step - loss: 9.1110 - mae: 9.1110\n",
            "Epoch 53/100\n",
            "1/1 [==============================] - 0s 2ms/step - loss: 8.9994 - mae: 8.9994\n",
            "Epoch 54/100\n",
            "1/1 [==============================] - 0s 2ms/step - loss: 8.8872 - mae: 8.8872\n",
            "Epoch 55/100\n",
            "1/1 [==============================] - 0s 2ms/step - loss: 8.7742 - mae: 8.7742\n",
            "Epoch 56/100\n",
            "1/1 [==============================] - 0s 2ms/step - loss: 8.6604 - mae: 8.6604\n",
            "Epoch 57/100\n",
            "1/1 [==============================] - 0s 2ms/step - loss: 8.5459 - mae: 8.5459\n",
            "Epoch 58/100\n",
            "1/1 [==============================] - 0s 2ms/step - loss: 8.4306 - mae: 8.4306\n",
            "Epoch 59/100\n",
            "1/1 [==============================] - 0s 2ms/step - loss: 8.3145 - mae: 8.3145\n",
            "Epoch 60/100\n",
            "1/1 [==============================] - 0s 2ms/step - loss: 8.1976 - mae: 8.1976\n",
            "Epoch 61/100\n",
            "1/1 [==============================] - 0s 2ms/step - loss: 8.0799 - mae: 8.0799\n",
            "Epoch 62/100\n",
            "1/1 [==============================] - 0s 2ms/step - loss: 7.9613 - mae: 7.9613\n",
            "Epoch 63/100\n",
            "1/1 [==============================] - 0s 2ms/step - loss: 7.8419 - mae: 7.8419\n",
            "Epoch 64/100\n",
            "1/1 [==============================] - 0s 2ms/step - loss: 7.7216 - mae: 7.7216\n",
            "Epoch 65/100\n",
            "1/1 [==============================] - 0s 2ms/step - loss: 7.6004 - mae: 7.6004\n",
            "Epoch 66/100\n",
            "1/1 [==============================] - 0s 2ms/step - loss: 7.4783 - mae: 7.4783\n",
            "Epoch 67/100\n",
            "1/1 [==============================] - 0s 2ms/step - loss: 7.3553 - mae: 7.3553\n",
            "Epoch 68/100\n",
            "1/1 [==============================] - 0s 2ms/step - loss: 7.2313 - mae: 7.2313\n",
            "Epoch 69/100\n",
            "1/1 [==============================] - 0s 2ms/step - loss: 7.1064 - mae: 7.1064\n",
            "Epoch 70/100\n",
            "1/1 [==============================] - 0s 2ms/step - loss: 6.9806 - mae: 6.9806\n",
            "Epoch 71/100\n",
            "1/1 [==============================] - 0s 2ms/step - loss: 6.8538 - mae: 6.8538\n",
            "Epoch 72/100\n",
            "1/1 [==============================] - 0s 2ms/step - loss: 6.7260 - mae: 6.7260\n",
            "Epoch 73/100\n",
            "1/1 [==============================] - 0s 2ms/step - loss: 6.6868 - mae: 6.6868\n",
            "Epoch 74/100\n",
            "1/1 [==============================] - 0s 2ms/step - loss: 6.6717 - mae: 6.6717\n",
            "Epoch 75/100\n",
            "1/1 [==============================] - 0s 2ms/step - loss: 6.6570 - mae: 6.6570\n",
            "Epoch 76/100\n",
            "1/1 [==============================] - 0s 2ms/step - loss: 6.6425 - mae: 6.6425\n",
            "Epoch 77/100\n",
            "1/1 [==============================] - 0s 2ms/step - loss: 6.6282 - mae: 6.6282\n",
            "Epoch 78/100\n",
            "1/1 [==============================] - 0s 2ms/step - loss: 6.6142 - mae: 6.6142\n",
            "Epoch 79/100\n",
            "1/1 [==============================] - 0s 2ms/step - loss: 6.6004 - mae: 6.6004\n",
            "Epoch 80/100\n",
            "1/1 [==============================] - 0s 2ms/step - loss: 6.6348 - mae: 6.6348\n",
            "Epoch 81/100\n",
            "1/1 [==============================] - 0s 2ms/step - loss: 6.6597 - mae: 6.6597\n",
            "Epoch 82/100\n",
            "1/1 [==============================] - 0s 2ms/step - loss: 6.6744 - mae: 6.6744\n",
            "Epoch 83/100\n",
            "1/1 [==============================] - 0s 2ms/step - loss: 6.6799 - mae: 6.6799\n",
            "Epoch 84/100\n",
            "1/1 [==============================] - 0s 2ms/step - loss: 6.6770 - mae: 6.6770\n",
            "Epoch 85/100\n",
            "1/1 [==============================] - 0s 2ms/step - loss: 6.6667 - mae: 6.6667\n",
            "Epoch 86/100\n",
            "1/1 [==============================] - 0s 2ms/step - loss: 6.6496 - mae: 6.6496\n",
            "Epoch 87/100\n",
            "1/1 [==============================] - 0s 2ms/step - loss: 6.6264 - mae: 6.6264\n",
            "Epoch 88/100\n",
            "1/1 [==============================] - 0s 2ms/step - loss: 6.5979 - mae: 6.5979\n",
            "Epoch 89/100\n",
            "1/1 [==============================] - 0s 2ms/step - loss: 6.5645 - mae: 6.5645\n",
            "Epoch 90/100\n",
            "1/1 [==============================] - 0s 2ms/step - loss: 6.5268 - mae: 6.5268\n",
            "Epoch 91/100\n",
            "1/1 [==============================] - 0s 2ms/step - loss: 6.4853 - mae: 6.4853\n",
            "Epoch 92/100\n",
            "1/1 [==============================] - 0s 2ms/step - loss: 6.4705 - mae: 6.4705\n",
            "Epoch 93/100\n",
            "1/1 [==============================] - 0s 2ms/step - loss: 6.4627 - mae: 6.4627\n",
            "Epoch 94/100\n",
            "1/1 [==============================] - 0s 2ms/step - loss: 6.4545 - mae: 6.4545\n",
            "Epoch 95/100\n",
            "1/1 [==============================] - 0s 2ms/step - loss: 6.4460 - mae: 6.4460\n",
            "Epoch 96/100\n",
            "1/1 [==============================] - 0s 2ms/step - loss: 6.4371 - mae: 6.4371\n",
            "Epoch 97/100\n",
            "1/1 [==============================] - 0s 2ms/step - loss: 6.4279 - mae: 6.4279\n",
            "Epoch 98/100\n",
            "1/1 [==============================] - 0s 2ms/step - loss: 6.4185 - mae: 6.4185\n",
            "Epoch 99/100\n",
            "1/1 [==============================] - 0s 2ms/step - loss: 6.4088 - mae: 6.4088\n",
            "Epoch 100/100\n",
            "1/1 [==============================] - 0s 2ms/step - loss: 6.3988 - mae: 6.3988\n"
          ]
        },
        {
          "data": {
            "text/plain": [
              "<keras.src.callbacks.History at 0x2c4763010>"
            ]
          },
          "execution_count": 173,
          "metadata": {},
          "output_type": "execute_result"
        }
      ],
      "source": [
        "model = tf.keras.Sequential([\n",
        "    tf.keras.layers.Dense(100, activation=None),\n",
        "    tf.keras.layers.Dense(1),\n",
        "])\n",
        "\n",
        "model.compile(loss=tf.keras.losses.mae,\n",
        "              optimizer=tf.keras.optimizers.Adam(learning_rate=0.001),\n",
        "              metrics=[\"mae\"])\n",
        "\n",
        "model.fit(tf.expand_dims(X, axis=-1), y, epochs=100)"
      ]
    },
    {
      "cell_type": "code",
      "execution_count": 174,
      "metadata": {
        "colab": {
          "base_uri": "https://localhost:8080/"
        },
        "id": "CVV-fBcPLpt6",
        "outputId": "3821ac80-7c10-4fdf-e594-a6c8564b0b70"
      },
      "outputs": [
        {
          "name": "stdout",
          "output_type": "stream",
          "text": [
            "1/1 [==============================] - 0s 31ms/step\n"
          ]
        },
        {
          "data": {
            "text/plain": [
              "array([[30.316431]], dtype=float32)"
            ]
          },
          "execution_count": 174,
          "metadata": {},
          "output_type": "execute_result"
        }
      ],
      "source": [
        "model.predict([17])"
      ]
    },
    {
      "cell_type": "code",
      "execution_count": 175,
      "metadata": {
        "colab": {
          "base_uri": "https://localhost:8080/"
        },
        "id": "itxYLXRnL6p5",
        "outputId": "256da838-42fa-46c3-f53f-98a127365e04"
      },
      "outputs": [
        {
          "data": {
            "text/plain": [
              "<tf.Tensor: shape=(50,), dtype=int32, numpy=\n",
              "array([-100,  -96,  -92,  -88,  -84,  -80,  -76,  -72,  -68,  -64,  -60,\n",
              "        -56,  -52,  -48,  -44,  -40,  -36,  -32,  -28,  -24,  -20,  -16,\n",
              "        -12,   -8,   -4,    0,    4,    8,   12,   16,   20,   24,   28,\n",
              "         32,   36,   40,   44,   48,   52,   56,   60,   64,   68,   72,\n",
              "         76,   80,   84,   88,   92,   96], dtype=int32)>"
            ]
          },
          "execution_count": 175,
          "metadata": {},
          "output_type": "execute_result"
        }
      ],
      "source": [
        "# Make bigger dataset -\n",
        "\n",
        "X = tf.range(-100, 100, 4)\n",
        "X"
      ]
    },
    {
      "cell_type": "code",
      "execution_count": 176,
      "metadata": {
        "colab": {
          "base_uri": "https://localhost:8080/"
        },
        "id": "hzqOk7v_MJtZ",
        "outputId": "9866d965-7605-4d88-fe7a-5eb474f4ec9f"
      },
      "outputs": [
        {
          "data": {
            "text/plain": [
              "<tf.Tensor: shape=(50,), dtype=int32, numpy=\n",
              "array([-90, -86, -82, -78, -74, -70, -66, -62, -58, -54, -50, -46, -42,\n",
              "       -38, -34, -30, -26, -22, -18, -14, -10,  -6,  -2,   2,   6,  10,\n",
              "        14,  18,  22,  26,  30,  34,  38,  42,  46,  50,  54,  58,  62,\n",
              "        66,  70,  74,  78,  82,  86,  90,  94,  98, 102, 106], dtype=int32)>"
            ]
          },
          "execution_count": 176,
          "metadata": {},
          "output_type": "execute_result"
        }
      ],
      "source": [
        "y = X + 10\n",
        "y"
      ]
    },
    {
      "cell_type": "code",
      "execution_count": 177,
      "metadata": {
        "colab": {
          "base_uri": "https://localhost:8080/",
          "height": 447
        },
        "id": "wczljkJPPrSR",
        "outputId": "0509ea6a-1fdd-4c68-deb0-70b0a1fda60a"
      },
      "outputs": [
        {
          "data": {
            "text/plain": [
              "<matplotlib.collections.PathCollection at 0x2c67e1090>"
            ]
          },
          "execution_count": 177,
          "metadata": {},
          "output_type": "execute_result"
        },
        {
          "data": {
            "image/png": "[encoded data removed]",
            "text/plain": [
              "<Figure size 640x480 with 1 Axes>"
            ]
          },
          "metadata": {},
          "output_type": "display_data"
        }
      ],
      "source": [
        "plt.scatter(X, y)"
      ]
    },
    {
      "cell_type": "markdown",
      "metadata": {
        "id": "5861sVvsP1Dq"
      },
      "source": [
        "### The 3 sets...\n",
        "\n"
      ]
    },
    {
      "cell_type": "code",
      "execution_count": 178,
      "metadata": {
        "colab": {
          "base_uri": "https://localhost:8080/"
        },
        "id": "HMv8pyIRR6py",
        "outputId": "81a6b6e9-d3e9-4724-c63b-1265c143141a"
      },
      "outputs": [
        {
          "data": {
            "text/plain": [
              "(<tf.Tensor: shape=(40,), dtype=int32, numpy=\n",
              " array([-100,  -96,  -92,  -88,  -84,  -80,  -76,  -72,  -68,  -64,  -60,\n",
              "         -56,  -52,  -48,  -44,  -40,  -36,  -32,  -28,  -24,  -20,  -16,\n",
              "         -12,   -8,   -4,    0,    4,    8,   12,   16,   20,   24,   28,\n",
              "          32,   36,   40,   44,   48,   52,   56], dtype=int32)>,\n",
              " <tf.Tensor: shape=(10,), dtype=int32, numpy=array([60, 64, 68, 72, 76, 80, 84, 88, 92, 96], dtype=int32)>,\n",
              " <tf.Tensor: shape=(40,), dtype=int32, numpy=\n",
              " array([-90, -86, -82, -78, -74, -70, -66, -62, -58, -54, -50, -46, -42,\n",
              "        -38, -34, -30, -26, -22, -18, -14, -10,  -6,  -2,   2,   6,  10,\n",
              "         14,  18,  22,  26,  30,  34,  38,  42,  46,  50,  54,  58,  62,\n",
              "         66], dtype=int32)>,\n",
              " <tf.Tensor: shape=(10,), dtype=int32, numpy=array([ 70,  74,  78,  82,  86,  90,  94,  98, 102, 106], dtype=int32)>)"
            ]
          },
          "execution_count": 178,
          "metadata": {},
          "output_type": "execute_result"
        }
      ],
      "source": [
        "X_train = X[:40]\n",
        "y_train = y[:40]\n",
        "\n",
        "X_test = X[40:]\n",
        "y_test = y[40:]\n",
        "\n",
        "X_train, X_test, y_train, y_test"
      ]
    },
    {
      "cell_type": "code",
      "execution_count": 179,
      "metadata": {
        "colab": {
          "base_uri": "https://localhost:8080/",
          "height": 599
        },
        "id": "uaDOaeLtSoWV",
        "outputId": "9a347edf-7f38-4e32-ddc3-283fba4119a7"
      },
      "outputs": [
        {
          "data": {
            "image/png": "[encoded data removed]",
            "text/plain": [
              "<Figure size 1000x700 with 1 Axes>"
            ]
          },
          "metadata": {},
          "output_type": "display_data"
        }
      ],
      "source": [
        "plt.figure(figsize=(10, 7))\n",
        "plt.scatter(X_train, y_train, label=\"Training data\", c=\"b\")\n",
        "plt.scatter(X_test, y_test, label=\"Testing data\", c=\"g\")\n",
        "plt.legend();"
      ]
    },
    {
      "cell_type": "code",
      "execution_count": 180,
      "metadata": {
        "colab": {
          "base_uri": "https://localhost:8080/"
        },
        "id": "tjVdahEHTc5-",
        "outputId": "9878dd41-4fe2-4785-8e6d-8c373125e57f"
      },
      "outputs": [
        {
          "name": "stderr",
          "output_type": "stream",
          "text": [
            "WARNING:absl:At this time, the v2.11+ optimizer `tf.keras.optimizers.Adam` runs slowly on M1/M2 Macs, please use the legacy Keras optimizer instead, located at `tf.keras.optimizers.legacy.Adam`.\n"
          ]
        },
        {
          "name": "stdout",
          "output_type": "stream",
          "text": [
            "Epoch 1/100\n",
            "2/2 [==============================] - 0s 3ms/step - loss: 45.5142 - mae: 45.5142\n",
            "Epoch 2/100\n",
            "2/2 [==============================] - 0s 2ms/step - loss: 33.6898 - mae: 33.6898\n",
            "Epoch 3/100\n",
            "2/2 [==============================] - 0s 2ms/step - loss: 12.2478 - mae: 12.2478\n",
            "Epoch 4/100\n",
            "2/2 [==============================] - 0s 2ms/step - loss: 23.6698 - mae: 23.6698\n",
            "Epoch 5/100\n",
            "2/2 [==============================] - 0s 2ms/step - loss: 17.5782 - mae: 17.5782\n",
            "Epoch 6/100\n",
            "2/2 [==============================] - 0s 2ms/step - loss: 8.0664 - mae: 8.0664\n",
            "Epoch 7/100\n",
            "2/2 [==============================] - 0s 2ms/step - loss: 11.5954 - mae: 11.5954\n",
            "Epoch 8/100\n",
            "2/2 [==============================] - 0s 2ms/step - loss: 8.4296 - mae: 8.4296\n",
            "Epoch 9/100\n",
            "2/2 [==============================] - 0s 2ms/step - loss: 8.6726 - mae: 8.6726\n",
            "Epoch 10/100\n",
            "2/2 [==============================] - 0s 2ms/step - loss: 11.4939 - mae: 11.4939\n",
            "Epoch 11/100\n",
            "2/2 [==============================] - 0s 2ms/step - loss: 7.5772 - mae: 7.5772\n",
            "Epoch 12/100\n",
            "2/2 [==============================] - 0s 2ms/step - loss: 6.4387 - mae: 6.4387\n",
            "Epoch 13/100\n",
            "2/2 [==============================] - 0s 2ms/step - loss: 7.1089 - mae: 7.1089\n",
            "Epoch 14/100\n",
            "2/2 [==============================] - 0s 2ms/step - loss: 4.9748 - mae: 4.9748\n",
            "Epoch 15/100\n",
            "2/2 [==============================] - 0s 2ms/step - loss: 4.5394 - mae: 4.5394\n",
            "Epoch 16/100\n",
            "2/2 [==============================] - 0s 2ms/step - loss: 3.3893 - mae: 3.3893\n",
            "Epoch 17/100\n",
            "2/2 [==============================] - 0s 2ms/step - loss: 3.4123 - mae: 3.4123\n",
            "Epoch 18/100\n",
            "2/2 [==============================] - 0s 2ms/step - loss: 2.4146 - mae: 2.4146\n",
            "Epoch 19/100\n",
            "2/2 [==============================] - 0s 2ms/step - loss: 1.5182 - mae: 1.5182\n",
            "Epoch 20/100\n",
            "2/2 [==============================] - 0s 2ms/step - loss: 1.0269 - mae: 1.0269\n",
            "Epoch 21/100\n",
            "2/2 [==============================] - 0s 2ms/step - loss: 0.5787 - mae: 0.5787\n",
            "Epoch 22/100\n",
            "2/2 [==============================] - 0s 2ms/step - loss: 1.0222 - mae: 1.0222\n",
            "Epoch 23/100\n",
            "2/2 [==============================] - 0s 2ms/step - loss: 1.1241 - mae: 1.1241\n",
            "Epoch 24/100\n",
            "2/2 [==============================] - 0s 8ms/step - loss: 0.9812 - mae: 0.9812\n",
            "Epoch 25/100\n",
            "2/2 [==============================] - 0s 2ms/step - loss: 0.8431 - mae: 0.8431\n",
            "Epoch 26/100\n",
            "2/2 [==============================] - 0s 2ms/step - loss: 1.0688 - mae: 1.0688\n",
            "Epoch 27/100\n",
            "2/2 [==============================] - 0s 2ms/step - loss: 2.8513 - mae: 2.8513\n",
            "Epoch 28/100\n",
            "2/2 [==============================] - 0s 2ms/step - loss: 1.0329 - mae: 1.0329\n",
            "Epoch 29/100\n",
            "2/2 [==============================] - 0s 2ms/step - loss: 4.1742 - mae: 4.1742\n",
            "Epoch 30/100\n",
            "2/2 [==============================] - 0s 2ms/step - loss: 2.0678 - mae: 2.0678\n",
            "Epoch 31/100\n",
            "2/2 [==============================] - 0s 2ms/step - loss: 2.4317 - mae: 2.4317\n",
            "Epoch 32/100\n",
            "2/2 [==============================] - 0s 2ms/step - loss: 2.2817 - mae: 2.2817\n",
            "Epoch 33/100\n",
            "2/2 [==============================] - 0s 2ms/step - loss: 0.9050 - mae: 0.9050\n",
            "Epoch 34/100\n",
            "2/2 [==============================] - 0s 2ms/step - loss: 0.3366 - mae: 0.3366\n",
            "Epoch 35/100\n",
            "2/2 [==============================] - 0s 2ms/step - loss: 0.4856 - mae: 0.4856\n",
            "Epoch 36/100\n",
            "2/2 [==============================] - 0s 3ms/step - loss: 1.4818 - mae: 1.4818\n",
            "Epoch 37/100\n",
            "2/2 [==============================] - 0s 2ms/step - loss: 2.6928 - mae: 2.6928\n",
            "Epoch 38/100\n",
            "2/2 [==============================] - 0s 2ms/step - loss: 1.1559 - mae: 1.1559\n",
            "Epoch 39/100\n",
            "2/2 [==============================] - 0s 2ms/step - loss: 1.1490 - mae: 1.1490\n",
            "Epoch 40/100\n",
            "2/2 [==============================] - 0s 2ms/step - loss: 1.4842 - mae: 1.4842\n",
            "Epoch 41/100\n",
            "2/2 [==============================] - 0s 2ms/step - loss: 0.7565 - mae: 0.7565\n",
            "Epoch 42/100\n",
            "2/2 [==============================] - 0s 2ms/step - loss: 0.8907 - mae: 0.8907\n",
            "Epoch 43/100\n",
            "2/2 [==============================] - 0s 2ms/step - loss: 2.4378 - mae: 2.4378\n",
            "Epoch 44/100\n",
            "2/2 [==============================] - 0s 2ms/step - loss: 2.9369 - mae: 2.9369\n",
            "Epoch 45/100\n",
            "2/2 [==============================] - 0s 2ms/step - loss: 3.3666 - mae: 3.3666\n",
            "Epoch 46/100\n",
            "2/2 [==============================] - 0s 2ms/step - loss: 2.5348 - mae: 2.5348\n",
            "Epoch 47/100\n",
            "2/2 [==============================] - 0s 2ms/step - loss: 3.1861 - mae: 3.1861\n",
            "Epoch 48/100\n",
            "2/2 [==============================] - 0s 2ms/step - loss: 2.7102 - mae: 2.7102\n",
            "Epoch 49/100\n",
            "2/2 [==============================] - 0s 2ms/step - loss: 3.0906 - mae: 3.0906\n",
            "Epoch 50/100\n",
            "2/2 [==============================] - 0s 2ms/step - loss: 2.6438 - mae: 2.6438\n",
            "Epoch 51/100\n",
            "2/2 [==============================] - 0s 2ms/step - loss: 2.1790 - mae: 2.1790\n",
            "Epoch 52/100\n",
            "2/2 [==============================] - 0s 2ms/step - loss: 3.4732 - mae: 3.4732\n",
            "Epoch 53/100\n",
            "2/2 [==============================] - 0s 2ms/step - loss: 3.1457 - mae: 3.1457\n",
            "Epoch 54/100\n",
            "2/2 [==============================] - 0s 2ms/step - loss: 3.9024 - mae: 3.9024\n",
            "Epoch 55/100\n",
            "2/2 [==============================] - 0s 2ms/step - loss: 4.3946 - mae: 4.3946\n",
            "Epoch 56/100\n",
            "2/2 [==============================] - 0s 2ms/step - loss: 2.6861 - mae: 2.6861\n",
            "Epoch 57/100\n",
            "2/2 [==============================] - 0s 1ms/step - loss: 3.9093 - mae: 3.9093\n",
            "Epoch 58/100\n",
            "2/2 [==============================] - 0s 2ms/step - loss: 0.7901 - mae: 0.7901\n",
            "Epoch 59/100\n",
            "2/2 [==============================] - 0s 2ms/step - loss: 0.8885 - mae: 0.8885\n",
            "Epoch 60/100\n",
            "2/2 [==============================] - 0s 2ms/step - loss: 2.6986 - mae: 2.6986\n",
            "Epoch 61/100\n",
            "2/2 [==============================] - 0s 2ms/step - loss: 0.7567 - mae: 0.7567\n",
            "Epoch 62/100\n",
            "2/2 [==============================] - 0s 2ms/step - loss: 0.3185 - mae: 0.3185\n",
            "Epoch 63/100\n",
            "2/2 [==============================] - 0s 2ms/step - loss: 0.9866 - mae: 0.9866\n",
            "Epoch 64/100\n",
            "2/2 [==============================] - 0s 2ms/step - loss: 1.9853 - mae: 1.9853\n",
            "Epoch 65/100\n",
            "2/2 [==============================] - 0s 2ms/step - loss: 0.9264 - mae: 0.9264\n",
            "Epoch 66/100\n",
            "2/2 [==============================] - 0s 2ms/step - loss: 3.6599 - mae: 3.6599\n",
            "Epoch 67/100\n",
            "2/2 [==============================] - 0s 2ms/step - loss: 1.3074 - mae: 1.3074\n",
            "Epoch 68/100\n",
            "2/2 [==============================] - 0s 2ms/step - loss: 4.9509 - mae: 4.9509\n",
            "Epoch 69/100\n",
            "2/2 [==============================] - 0s 2ms/step - loss: 2.2705 - mae: 2.2705\n",
            "Epoch 70/100\n",
            "2/2 [==============================] - 0s 2ms/step - loss: 3.4913 - mae: 3.4913\n",
            "Epoch 71/100\n",
            "2/2 [==============================] - 0s 2ms/step - loss: 1.9236 - mae: 1.9236\n",
            "Epoch 72/100\n",
            "2/2 [==============================] - 0s 1ms/step - loss: 1.4701 - mae: 1.4701\n",
            "Epoch 73/100\n",
            "2/2 [==============================] - 0s 2ms/step - loss: 2.2130 - mae: 2.2130\n",
            "Epoch 74/100\n",
            "2/2 [==============================] - 0s 2ms/step - loss: 1.3987 - mae: 1.3987\n",
            "Epoch 75/100\n",
            "2/2 [==============================] - 0s 2ms/step - loss: 3.0115 - mae: 3.0115\n",
            "Epoch 76/100\n",
            "2/2 [==============================] - 0s 2ms/step - loss: 0.4410 - mae: 0.4410\n",
            "Epoch 77/100\n",
            "2/2 [==============================] - 0s 2ms/step - loss: 1.0780 - mae: 1.0780\n",
            "Epoch 78/100\n",
            "2/2 [==============================] - 0s 2ms/step - loss: 0.9442 - mae: 0.9442\n",
            "Epoch 79/100\n",
            "2/2 [==============================] - 0s 2ms/step - loss: 0.3675 - mae: 0.3675\n",
            "Epoch 80/100\n",
            "2/2 [==============================] - 0s 2ms/step - loss: 0.9098 - mae: 0.9098\n",
            "Epoch 81/100\n",
            "2/2 [==============================] - 0s 1ms/step - loss: 1.3591 - mae: 1.3591\n",
            "Epoch 82/100\n",
            "2/2 [==============================] - 0s 2ms/step - loss: 0.8310 - mae: 0.8310\n",
            "Epoch 83/100\n",
            "2/2 [==============================] - 0s 2ms/step - loss: 2.1019 - mae: 2.1019\n",
            "Epoch 84/100\n",
            "2/2 [==============================] - 0s 2ms/step - loss: 1.4761 - mae: 1.4761\n",
            "Epoch 85/100\n",
            "2/2 [==============================] - 0s 2ms/step - loss: 0.8110 - mae: 0.8110\n",
            "Epoch 86/100\n",
            "2/2 [==============================] - 0s 2ms/step - loss: 3.0212 - mae: 3.0212\n",
            "Epoch 87/100\n",
            "2/2 [==============================] - 0s 2ms/step - loss: 1.0985 - mae: 1.0985\n",
            "Epoch 88/100\n",
            "2/2 [==============================] - 0s 2ms/step - loss: 0.9867 - mae: 0.9867\n",
            "Epoch 89/100\n",
            "2/2 [==============================] - 0s 2ms/step - loss: 2.4617 - mae: 2.4617\n",
            "Epoch 90/100\n",
            "2/2 [==============================] - 0s 2ms/step - loss: 1.2732 - mae: 1.2732\n",
            "Epoch 91/100\n",
            "2/2 [==============================] - 0s 2ms/step - loss: 1.1580 - mae: 1.1580\n",
            "Epoch 92/100\n",
            "2/2 [==============================] - 0s 2ms/step - loss: 0.8162 - mae: 0.8162\n",
            "Epoch 93/100\n",
            "2/2 [==============================] - 0s 2ms/step - loss: 1.0020 - mae: 1.0020\n",
            "Epoch 94/100\n",
            "2/2 [==============================] - 0s 2ms/step - loss: 0.5714 - mae: 0.5714\n",
            "Epoch 95/100\n",
            "2/2 [==============================] - 0s 2ms/step - loss: 0.8525 - mae: 0.8525\n",
            "Epoch 96/100\n",
            "2/2 [==============================] - 0s 2ms/step - loss: 1.1538 - mae: 1.1538\n",
            "Epoch 97/100\n",
            "2/2 [==============================] - 0s 2ms/step - loss: 2.4930 - mae: 2.4930\n",
            "Epoch 98/100\n",
            "2/2 [==============================] - 0s 2ms/step - loss: 1.9583 - mae: 1.9583\n",
            "Epoch 99/100\n",
            "2/2 [==============================] - 0s 2ms/step - loss: 3.6838 - mae: 3.6838\n",
            "Epoch 100/100\n",
            "2/2 [==============================] - 0s 2ms/step - loss: 3.5114 - mae: 3.5114\n"
          ]
        },
        {
          "data": {
            "text/plain": [
              "<keras.src.callbacks.History at 0x2c50ab710>"
            ]
          },
          "execution_count": 180,
          "metadata": {},
          "output_type": "execute_result"
        }
      ],
      "source": [
        "model = tf.keras.Sequential([\n",
        "    tf.keras.layers.Dense(1, input_shape=(1,), name=\"input_layer\"),\n",
        "    tf.keras.layers.Dense(100, input_shape=(1,), name=\"hidden_layer1\"),\n",
        "    tf.keras.layers.Dense(100, input_shape=(1,), name=\"hidden_layer2\"),\n",
        "    tf.keras.layers.Dense(1, name=\"output_layer\"),\n",
        "], name=\"model_name\")\n",
        "\n",
        "model.compile(loss=\"mae\",\n",
        "              optimizer=tf.keras.optimizers.Adam(learning_rate=0.01),\n",
        "              metrics=[\"mae\"])\n",
        "\n",
        "model.fit(tf.expand_dims(X_train, axis=-1), y_train, epochs=100, verbose=1)"
      ]
    },
    {
      "cell_type": "code",
      "execution_count": 181,
      "metadata": {
        "colab": {
          "base_uri": "https://localhost:8080/"
        },
        "id": "FREM1bqlUyfq",
        "outputId": "b98c54f6-bb94-4ac3-e3d2-ea7729b73651"
      },
      "outputs": [
        {
          "name": "stdout",
          "output_type": "stream",
          "text": [
            "Model: \"model_name\"\n",
            "_________________________________________________________________\n",
            " Layer (type)                Output Shape              Param #   \n",
            "=================================================================\n",
            " input_layer (Dense)         (None, 1)                 2         \n",
            "                                                                 \n",
            " hidden_layer1 (Dense)       (None, 100)               200       \n",
            "                                                                 \n",
            " hidden_layer2 (Dense)       (None, 100)               10100     \n",
            "                                                                 \n",
            " output_layer (Dense)        (None, 1)                 101       \n",
            "                                                                 \n",
            "=================================================================\n",
            "Total params: 10403 (40.64 KB)\n",
            "Trainable params: 10403 (40.64 KB)\n",
            "Non-trainable params: 0 (0.00 Byte)\n",
            "_________________________________________________________________\n"
          ]
        }
      ],
      "source": [
        "model.summary()"
      ]
    },
    {
      "cell_type": "code",
      "execution_count": 182,
      "metadata": {
        "colab": {
          "base_uri": "https://localhost:8080/",
          "height": 466
        },
        "id": "5wjiCLK5Zkk5",
        "outputId": "f705f77b-b2ab-426e-9c28-b7ccfe920e5d"
      },
      "outputs": [
        {
          "name": "stdout",
          "output_type": "stream",
          "text": [
            "You must install pydot (`pip install pydot`) and install graphviz (see instructions at https://graphviz.gitlab.io/download/) for plot_model to work.\n"
          ]
        }
      ],
      "source": [
        "from tensorflow.keras.utils import plot_model\n",
        "\n",
        "plot_model(model)"
      ]
    },
    {
      "cell_type": "code",
      "execution_count": 183,
      "metadata": {
        "colab": {
          "base_uri": "https://localhost:8080/",
          "height": 533
        },
        "id": "lNknG-UbZy7l",
        "outputId": "3d39af40-9507-4f01-c636-6cce194f4d8c"
      },
      "outputs": [
        {
          "name": "stdout",
          "output_type": "stream",
          "text": [
            "You must install pydot (`pip install pydot`) and install graphviz (see instructions at https://graphviz.gitlab.io/download/) for plot_model to work.\n"
          ]
        }
      ],
      "source": [
        "plot_model(model, show_shapes=True)"
      ]
    },
    {
      "cell_type": "markdown",
      "metadata": {
        "id": "LwuBV7OnZ9Xs"
      },
      "source": [
        "### Visualizing model's predictions\n",
        "\n"
      ]
    },
    {
      "cell_type": "code",
      "execution_count": 184,
      "metadata": {
        "colab": {
          "base_uri": "https://localhost:8080/"
        },
        "id": "NJcYJu5pa0cn",
        "outputId": "9721a2ec-d061-4ede-f61c-87225301fe88"
      },
      "outputs": [
        {
          "name": "stdout",
          "output_type": "stream",
          "text": [
            "1/1 [==============================] - 0s 32ms/step\n"
          ]
        },
        {
          "data": {
            "text/plain": [
              "array([[ 66.27975 ],\n",
              "       [ 70.056404],\n",
              "       [ 73.833046],\n",
              "       [ 77.60969 ],\n",
              "       [ 81.38634 ],\n",
              "       [ 85.162994],\n",
              "       [ 88.93964 ],\n",
              "       [ 92.716286],\n",
              "       [ 96.49294 ],\n",
              "       [100.269585]], dtype=float32)"
            ]
          },
          "execution_count": 184,
          "metadata": {},
          "output_type": "execute_result"
        }
      ],
      "source": [
        "y_pred = model.predict(X_test)\n",
        "y_pred"
      ]
    },
    {
      "cell_type": "code",
      "execution_count": 185,
      "metadata": {
        "colab": {
          "base_uri": "https://localhost:8080/"
        },
        "id": "fbLo1q8xbFK-",
        "outputId": "f0b34615-8878-4692-df9c-54c957596129"
      },
      "outputs": [
        {
          "data": {
            "text/plain": [
              "<tf.Tensor: shape=(10,), dtype=int32, numpy=array([ 70,  74,  78,  82,  86,  90,  94,  98, 102, 106], dtype=int32)>"
            ]
          },
          "execution_count": 185,
          "metadata": {},
          "output_type": "execute_result"
        }
      ],
      "source": [
        "y_test"
      ]
    },
    {
      "cell_type": "code",
      "execution_count": 186,
      "metadata": {
        "id": "X8hajlW0bIgj"
      },
      "outputs": [],
      "source": [
        "# Plotting function:\n",
        "def plotting_function(train_data=X_train,\n",
        "                      train_labels=y_train,\n",
        "                      test_data=X_test,\n",
        "                      test_labels=y_test,\n",
        "                      predictions=y_pred):\n",
        "  \"\"\"\n",
        "  Plots training data, test data and predictions to ground truth labels\n",
        "  \"\"\"\n",
        "  plt.figure(figsize=(10, 7))\n",
        "  plt.scatter(X_train, y_train, c=\"b\")\n",
        "  plt.scatter(X_test, y_test, c=\"g\")\n",
        "  plt.scatter(X_test, predictions, c=\"r\")\n",
        "  plt.legend"
      ]
    },
    {
      "cell_type": "code",
      "execution_count": 187,
      "metadata": {
        "colab": {
          "base_uri": "https://localhost:8080/",
          "height": 599
        },
        "id": "FF1ybuPXdYdB",
        "outputId": "07e51f88-27dc-41b0-b5fc-6a7f2dae7a6d"
      },
      "outputs": [
        {
          "data": {
            "image/png": "[encoded data removed]",
            "text/plain": [
              "<Figure size 1000x700 with 1 Axes>"
            ]
          },
          "metadata": {},
          "output_type": "display_data"
        }
      ],
      "source": [
        "plotting_function(train_data=X_train,\n",
        "                  train_labels=y_train,\n",
        "                  test_data=X_test,\n",
        "                  test_labels=y_test,\n",
        "                  predictions=y_pred)"
      ]
    },
    {
      "cell_type": "code",
      "execution_count": 188,
      "metadata": {
        "colab": {
          "base_uri": "https://localhost:8080/"
        },
        "id": "9O7gY8v_dpgC",
        "outputId": "25a41d3b-03a1-4fb1-f1bc-bfd3d40842e7"
      },
      "outputs": [
        {
          "name": "stdout",
          "output_type": "stream",
          "text": [
            "1/1 [==============================] - 0s 54ms/step - loss: 4.7253 - mae: 4.7253\n"
          ]
        },
        {
          "data": {
            "text/plain": [
              "[4.7253289222717285, 4.7253289222717285]"
            ]
          },
          "execution_count": 188,
          "metadata": {},
          "output_type": "execute_result"
        }
      ],
      "source": [
        "# Evaluate model on test set\n",
        "model.evaluate(X_test, y_test)"
      ]
    },
    {
      "cell_type": "code",
      "execution_count": 189,
      "metadata": {
        "colab": {
          "base_uri": "https://localhost:8080/"
        },
        "id": "1r8wz0COHmKD",
        "outputId": "2fc98288-1169-410b-86f2-67cbf0055b63"
      },
      "outputs": [
        {
          "data": {
            "text/plain": [
              "<tf.Tensor: shape=(), dtype=float32, numpy=4.725333>"
            ]
          },
          "execution_count": 189,
          "metadata": {},
          "output_type": "execute_result"
        }
      ],
      "source": [
        "mae = tf.metrics.mean_absolute_error(y_test, tf.squeeze(y_pred))\n",
        "mae"
      ]
    },
    {
      "cell_type": "code",
      "execution_count": 190,
      "metadata": {
        "colab": {
          "base_uri": "https://localhost:8080/"
        },
        "id": "AJr9ukjOH4Dd",
        "outputId": "7ae15864-c47c-4d5d-be46-cf2e815767ab"
      },
      "outputs": [
        {
          "data": {
            "text/plain": [
              "<tf.Tensor: shape=(), dtype=float32, numpy=22.740335>"
            ]
          },
          "execution_count": 190,
          "metadata": {},
          "output_type": "execute_result"
        }
      ],
      "source": [
        "mse = tf.metrics.mean_squared_error(y_test, tf.squeeze(y_pred))\n",
        "mse"
      ]
    },
    {
      "cell_type": "code",
      "execution_count": 191,
      "metadata": {
        "id": "E1JXFfnTJhYP"
      },
      "outputs": [],
      "source": [
        "def mae(y_pred, y_true = y_test):\n",
        "  return tf.metrics.mean_absolute_error(y_true, tf.squeeze(y_pred))\n",
        "def mse(y_pred, y_true = y_test):\n",
        "  return tf.metrics.mean_squared_error(y_true, tf.squeeze(y_pred))"
      ]
    },
    {
      "cell_type": "markdown",
      "metadata": {
        "id": "Mfh5tjtjKGdK"
      },
      "source": [
        "### Running Experiments to improve model"
      ]
    },
    {
      "cell_type": "markdown",
      "metadata": {
        "id": "4oZPccbCKRUC"
      },
      "source": [
        "#### Model: 1 layer trained for 100 epochs"
      ]
    },
    {
      "cell_type": "code",
      "execution_count": 192,
      "metadata": {
        "colab": {
          "base_uri": "https://localhost:8080/"
        },
        "id": "nrGUXCKTMYtX",
        "outputId": "edd3e55c-9519-4898-ceb6-3d17da56e619"
      },
      "outputs": [
        {
          "name": "stdout",
          "output_type": "stream",
          "text": [
            "Epoch 1/100\n"
          ]
        },
        {
          "name": "stdout",
          "output_type": "stream",
          "text": [
            "2/2 [==============================] - 0s 2ms/step - loss: 21.0521 - mae: 21.0521\n",
            "Epoch 2/100\n",
            "2/2 [==============================] - 0s 1ms/step - loss: 9.3677 - mae: 9.3677\n",
            "Epoch 3/100\n",
            "2/2 [==============================] - 0s 2ms/step - loss: 7.6377 - mae: 7.6377\n",
            "Epoch 4/100\n",
            "2/2 [==============================] - 0s 2ms/step - loss: 9.7471 - mae: 9.7471\n",
            "Epoch 5/100\n",
            "2/2 [==============================] - 0s 2ms/step - loss: 11.0444 - mae: 11.0444\n",
            "Epoch 6/100\n",
            "2/2 [==============================] - 0s 2ms/step - loss: 10.2015 - mae: 10.2015\n",
            "Epoch 7/100\n",
            "2/2 [==============================] - 0s 2ms/step - loss: 9.2150 - mae: 9.2150\n",
            "Epoch 8/100\n",
            "2/2 [==============================] - 0s 2ms/step - loss: 9.1449 - mae: 9.1449\n",
            "Epoch 9/100\n",
            "2/2 [==============================] - 0s 3ms/step - loss: 11.7641 - mae: 11.7641\n",
            "Epoch 10/100\n",
            "2/2 [==============================] - 0s 3ms/step - loss: 13.6872 - mae: 13.6872\n",
            "Epoch 11/100\n",
            "2/2 [==============================] - 0s 2ms/step - loss: 11.7603 - mae: 11.7603\n",
            "Epoch 12/100\n",
            "2/2 [==============================] - 0s 2ms/step - loss: 16.4189 - mae: 16.4189\n",
            "Epoch 13/100\n",
            "2/2 [==============================] - 0s 2ms/step - loss: 11.9509 - mae: 11.9509\n",
            "Epoch 14/100\n",
            "2/2 [==============================] - 0s 4ms/step - loss: 13.8840 - mae: 13.8840\n",
            "Epoch 15/100\n",
            "2/2 [==============================] - 0s 3ms/step - loss: 11.2720 - mae: 11.2720\n",
            "Epoch 16/100\n",
            "2/2 [==============================] - 0s 3ms/step - loss: 8.5778 - mae: 8.5778\n",
            "Epoch 17/100\n",
            "2/2 [==============================] - 0s 3ms/step - loss: 13.7254 - mae: 13.7254\n",
            "Epoch 18/100\n",
            "2/2 [==============================] - 0s 2ms/step - loss: 11.5765 - mae: 11.5765\n",
            "Epoch 19/100\n",
            "2/2 [==============================] - 0s 3ms/step - loss: 17.7748 - mae: 17.7748\n",
            "Epoch 20/100\n",
            "2/2 [==============================] - 0s 3ms/step - loss: 14.9105 - mae: 14.9105\n",
            "Epoch 21/100\n",
            "2/2 [==============================] - 0s 3ms/step - loss: 10.8032 - mae: 10.8032\n",
            "Epoch 22/100\n",
            "2/2 [==============================] - 0s 1ms/step - loss: 8.5492 - mae: 8.5492\n",
            "Epoch 23/100\n",
            "2/2 [==============================] - 0s 2ms/step - loss: 9.7438 - mae: 9.7438\n",
            "Epoch 24/100\n",
            "2/2 [==============================] - 0s 2ms/step - loss: 10.9105 - mae: 10.9105\n",
            "Epoch 25/100\n",
            "2/2 [==============================] - 0s 2ms/step - loss: 9.1399 - mae: 9.1399\n",
            "Epoch 26/100\n",
            "2/2 [==============================] - 0s 2ms/step - loss: 13.1451 - mae: 13.1451\n",
            "Epoch 27/100\n",
            "2/2 [==============================] - 0s 1ms/step - loss: 10.4468 - mae: 10.4468\n",
            "Epoch 28/100\n",
            "2/2 [==============================] - 0s 2ms/step - loss: 13.4887 - mae: 13.4887\n",
            "Epoch 29/100\n",
            "2/2 [==============================] - 0s 1ms/step - loss: 10.0025 - mae: 10.0025\n",
            "Epoch 30/100\n",
            "2/2 [==============================] - 0s 2ms/step - loss: 16.0237 - mae: 16.0237\n",
            "Epoch 31/100\n",
            "2/2 [==============================] - 0s 2ms/step - loss: 23.9284 - mae: 23.9284\n",
            "Epoch 32/100\n",
            "2/2 [==============================] - 0s 1ms/step - loss: 8.0033 - mae: 8.0033\n",
            "Epoch 33/100\n",
            "2/2 [==============================] - 0s 1ms/step - loss: 9.7191 - mae: 9.7191\n",
            "Epoch 34/100\n",
            "2/2 [==============================] - 0s 2ms/step - loss: 12.0759 - mae: 12.0759\n",
            "Epoch 35/100\n",
            "2/2 [==============================] - 0s 1ms/step - loss: 11.5414 - mae: 11.5414\n",
            "Epoch 36/100\n",
            "2/2 [==============================] - 0s 1ms/step - loss: 12.7375 - mae: 12.7375\n",
            "Epoch 37/100\n",
            "2/2 [==============================] - 0s 1ms/step - loss: 9.4718 - mae: 9.4718\n",
            "Epoch 38/100\n",
            "2/2 [==============================] - 0s 2ms/step - loss: 10.1341 - mae: 10.1341\n",
            "Epoch 39/100\n",
            "2/2 [==============================] - 0s 1ms/step - loss: 10.1708 - mae: 10.1708\n",
            "Epoch 40/100\n",
            "2/2 [==============================] - 0s 2ms/step - loss: 10.9051 - mae: 10.9051\n",
            "Epoch 41/100\n",
            "2/2 [==============================] - 0s 2ms/step - loss: 7.8975 - mae: 7.8975\n",
            "Epoch 42/100\n",
            "2/2 [==============================] - 0s 2ms/step - loss: 10.0871 - mae: 10.0871\n",
            "Epoch 43/100\n",
            "2/2 [==============================] - 0s 1ms/step - loss: 8.6950 - mae: 8.6950\n",
            "Epoch 44/100\n",
            "2/2 [==============================] - 0s 2ms/step - loss: 12.2035 - mae: 12.2035\n",
            "Epoch 45/100\n",
            "2/2 [==============================] - 0s 2ms/step - loss: 13.7880 - mae: 13.7880\n",
            "Epoch 46/100\n",
            "2/2 [==============================] - 0s 2ms/step - loss: 8.4597 - mae: 8.4597\n",
            "Epoch 47/100\n",
            "2/2 [==============================] - 0s 2ms/step - loss: 9.1287 - mae: 9.1287\n",
            "Epoch 48/100\n",
            "2/2 [==============================] - 0s 2ms/step - loss: 10.6152 - mae: 10.6152\n",
            "Epoch 49/100\n",
            "2/2 [==============================] - 0s 1ms/step - loss: 7.7459 - mae: 7.7459\n",
            "Epoch 50/100\n",
            "2/2 [==============================] - 0s 2ms/step - loss: 9.5370 - mae: 9.5370\n",
            "Epoch 51/100\n",
            "2/2 [==============================] - 0s 2ms/step - loss: 9.1528 - mae: 9.1528\n",
            "Epoch 52/100\n",
            "2/2 [==============================] - 0s 2ms/step - loss: 16.3666 - mae: 16.3666\n",
            "Epoch 53/100\n",
            "2/2 [==============================] - 0s 2ms/step - loss: 14.1227 - mae: 14.1227\n",
            "Epoch 54/100\n",
            "2/2 [==============================] - 0s 2ms/step - loss: 21.1152 - mae: 21.1152\n",
            "Epoch 55/100\n",
            "2/2 [==============================] - 0s 2ms/step - loss: 16.3979 - mae: 16.3979\n",
            "Epoch 56/100\n",
            "2/2 [==============================] - 0s 2ms/step - loss: 9.9718 - mae: 9.9718\n",
            "Epoch 57/100\n",
            "2/2 [==============================] - 0s 2ms/step - loss: 9.9565 - mae: 9.9565\n",
            "Epoch 58/100\n",
            "2/2 [==============================] - 0s 1ms/step - loss: 9.2162 - mae: 9.2162\n",
            "Epoch 59/100\n",
            "2/2 [==============================] - 0s 2ms/step - loss: 8.4202 - mae: 8.4202\n",
            "Epoch 60/100\n",
            "2/2 [==============================] - 0s 2ms/step - loss: 9.4820 - mae: 9.4820\n",
            "Epoch 61/100\n",
            "2/2 [==============================] - 0s 2ms/step - loss: 11.4321 - mae: 11.4321\n",
            "Epoch 62/100\n",
            "2/2 [==============================] - 0s 2ms/step - loss: 11.6796 - mae: 11.6796\n",
            "Epoch 63/100\n",
            "2/2 [==============================] - 0s 2ms/step - loss: 7.0782 - mae: 7.0782\n",
            "Epoch 64/100\n",
            "2/2 [==============================] - 0s 2ms/step - loss: 16.9593 - mae: 16.9593\n",
            "Epoch 65/100\n",
            "2/2 [==============================] - 0s 1ms/step - loss: 12.4518 - mae: 12.4518\n",
            "Epoch 66/100\n",
            "2/2 [==============================] - 0s 2ms/step - loss: 13.0095 - mae: 13.0095\n",
            "Epoch 67/100\n",
            "2/2 [==============================] - 0s 2ms/step - loss: 8.0522 - mae: 8.0522\n",
            "Epoch 68/100\n",
            "2/2 [==============================] - 0s 2ms/step - loss: 10.1807 - mae: 10.1807\n",
            "Epoch 69/100\n",
            "2/2 [==============================] - 0s 1ms/step - loss: 12.3540 - mae: 12.3540\n",
            "Epoch 70/100\n",
            "2/2 [==============================] - 0s 2ms/step - loss: 9.0469 - mae: 9.0469\n",
            "Epoch 71/100\n",
            "2/2 [==============================] - 0s 2ms/step - loss: 10.0335 - mae: 10.0335\n",
            "Epoch 72/100\n",
            "2/2 [==============================] - 0s 2ms/step - loss: 10.0468 - mae: 10.0468\n",
            "Epoch 73/100\n",
            "2/2 [==============================] - 0s 1ms/step - loss: 12.6128 - mae: 12.6128\n",
            "Epoch 74/100\n",
            "2/2 [==============================] - 0s 2ms/step - loss: 10.3723 - mae: 10.3723\n",
            "Epoch 75/100\n",
            "2/2 [==============================] - 0s 2ms/step - loss: 9.7186 - mae: 9.7186\n",
            "Epoch 76/100\n",
            "2/2 [==============================] - 0s 1ms/step - loss: 11.2213 - mae: 11.2213\n",
            "Epoch 77/100\n",
            "2/2 [==============================] - 0s 1ms/step - loss: 8.3601 - mae: 8.3601\n",
            "Epoch 78/100\n",
            "2/2 [==============================] - 0s 2ms/step - loss: 9.1241 - mae: 9.1241\n",
            "Epoch 79/100\n",
            "2/2 [==============================] - 0s 2ms/step - loss: 19.4945 - mae: 19.4945\n",
            "Epoch 80/100\n",
            "2/2 [==============================] - 0s 1ms/step - loss: 14.8952 - mae: 14.8952\n",
            "Epoch 81/100\n",
            "2/2 [==============================] - 0s 1ms/step - loss: 8.9934 - mae: 8.9934\n",
            "Epoch 82/100\n",
            "2/2 [==============================] - 0s 2ms/step - loss: 13.0200 - mae: 13.0200\n",
            "Epoch 83/100\n",
            "2/2 [==============================] - 0s 2ms/step - loss: 7.9262 - mae: 7.9262\n",
            "Epoch 84/100\n",
            "2/2 [==============================] - 0s 2ms/step - loss: 7.6798 - mae: 7.6798\n",
            "Epoch 85/100\n",
            "2/2 [==============================] - 0s 2ms/step - loss: 10.0245 - mae: 10.0245\n",
            "Epoch 86/100\n",
            "2/2 [==============================] - 0s 1ms/step - loss: 9.2358 - mae: 9.2358\n",
            "Epoch 87/100\n",
            "2/2 [==============================] - 0s 2ms/step - loss: 12.0131 - mae: 12.0131\n",
            "Epoch 88/100\n",
            "2/2 [==============================] - 0s 1ms/step - loss: 10.6303 - mae: 10.6303\n",
            "Epoch 89/100\n",
            "2/2 [==============================] - 0s 2ms/step - loss: 7.2599 - mae: 7.2599\n",
            "Epoch 90/100\n",
            "2/2 [==============================] - 0s 1ms/step - loss: 12.7698 - mae: 12.7698\n",
            "Epoch 91/100\n",
            "2/2 [==============================] - 0s 2ms/step - loss: 7.3404 - mae: 7.3404\n",
            "Epoch 92/100\n",
            "2/2 [==============================] - 0s 2ms/step - loss: 7.7093 - mae: 7.7093\n",
            "Epoch 93/100\n",
            "2/2 [==============================] - 0s 2ms/step - loss: 7.1196 - mae: 7.1196\n",
            "Epoch 94/100\n",
            "2/2 [==============================] - 0s 2ms/step - loss: 12.6104 - mae: 12.6104\n",
            "Epoch 95/100\n",
            "2/2 [==============================] - 0s 2ms/step - loss: 10.0819 - mae: 10.0819\n",
            "Epoch 96/100\n",
            "2/2 [==============================] - 0s 2ms/step - loss: 9.3506 - mae: 9.3506\n",
            "Epoch 97/100\n",
            "2/2 [==============================] - 0s 2ms/step - loss: 12.6826 - mae: 12.6826\n",
            "Epoch 98/100\n",
            "2/2 [==============================] - 0s 2ms/step - loss: 8.6717 - mae: 8.6717\n",
            "Epoch 99/100\n",
            "2/2 [==============================] - 0s 1ms/step - loss: 9.4653 - mae: 9.4653\n",
            "Epoch 100/100\n",
            "2/2 [==============================] - 0s 2ms/step - loss: 8.6982 - mae: 8.6982\n"
          ]
        },
        {
          "data": {
            "text/plain": [
              "<keras.src.callbacks.History at 0x2c7de26d0>"
            ]
          },
          "execution_count": 192,
          "metadata": {},
          "output_type": "execute_result"
        }
      ],
      "source": [
        "model_1 = tf.keras.Sequential([\n",
        "    tf.keras.layers.Dense(1)\n",
        "])\n",
        "\n",
        "model_1.compile(loss=\"mae\",\n",
        "                     optimizer=\"sgd\",\n",
        "                     metrics=[\"mae\"])\n",
        "\n",
        "model_1.fit(tf.expand_dims(X_train, axis=-1), y_train, epochs = 100)"
      ]
    },
    {
      "cell_type": "code",
      "execution_count": 193,
      "metadata": {
        "colab": {
          "base_uri": "https://localhost:8080/",
          "height": 616
        },
        "id": "JOgeKBjhMwKd",
        "outputId": "247b1a65-799d-4ce1-93dc-e03e5908d8ab"
      },
      "outputs": [
        {
          "name": "stdout",
          "output_type": "stream",
          "text": [
            "1/1 [==============================] - 0s 19ms/step\n"
          ]
        },
        {
          "data": {
            "image/png": "[encoded data removed]",
            "text/plain": [
              "<Figure size 1000x700 with 1 Axes>"
            ]
          },
          "metadata": {},
          "output_type": "display_data"
        }
      ],
      "source": [
        "# Make and plot predictions\n",
        "y_pred_1 = model_1.predict(X_test)\n",
        "plotting_function(predictions=y_pred_1)"
      ]
    },
    {
      "cell_type": "code",
      "execution_count": 194,
      "metadata": {
        "colab": {
          "base_uri": "https://localhost:8080/"
        },
        "id": "tmdC64R-NWCO",
        "outputId": "7d5c5785-ebee-4497-fcc4-8e87acb82068"
      },
      "outputs": [
        {
          "data": {
            "text/plain": [
              "(<tf.Tensor: shape=(), dtype=float32, numpy=18.717316>,\n",
              " <tf.Tensor: shape=(), dtype=float32, numpy=352.51556>)"
            ]
          },
          "execution_count": 194,
          "metadata": {},
          "output_type": "execute_result"
        }
      ],
      "source": [
        "mae_1 = mae(y_pred_1)\n",
        "mse_1 = mse(y_pred_1)\n",
        "mae_1, mse_1"
      ]
    },
    {
      "cell_type": "markdown",
      "metadata": {
        "id": "spHfwQj2NiML"
      },
      "source": [
        "#### Model 2 - 2 layers, 100 epochs"
      ]
    },
    {
      "cell_type": "code",
      "execution_count": 195,
      "metadata": {
        "colab": {
          "base_uri": "https://localhost:8080/"
        },
        "id": "8EHEWdNxODqT",
        "outputId": "880ad4cf-c123-4556-e4af-bd18aba9a5a8"
      },
      "outputs": [
        {
          "name": "stderr",
          "output_type": "stream",
          "text": [
            "WARNING:absl:At this time, the v2.11+ optimizer `tf.keras.optimizers.SGD` runs slowly on M1/M2 Macs, please use the legacy Keras optimizer instead, located at `tf.keras.optimizers.legacy.SGD`.\n"
          ]
        },
        {
          "name": "stdout",
          "output_type": "stream",
          "text": [
            "Epoch 1/100\n",
            "2/2 [==============================] - 0s 4ms/step - loss: 30.2833 - mae: 30.2833 - mse: 1352.0654\n",
            "Epoch 2/100\n",
            "2/2 [==============================] - 0s 2ms/step - loss: 26.1781 - mae: 26.1781 - mse: 889.2505\n",
            "Epoch 3/100\n",
            "2/2 [==============================] - 0s 2ms/step - loss: 30.4611 - mae: 30.4611 - mse: 1411.8274\n",
            "Epoch 4/100\n",
            "2/2 [==============================] - 0s 2ms/step - loss: 13.4015 - mae: 13.4015 - mse: 248.8863\n",
            "Epoch 5/100\n",
            "2/2 [==============================] - 0s 2ms/step - loss: 18.0312 - mae: 18.0312 - mse: 439.9840\n",
            "Epoch 6/100\n",
            "2/2 [==============================] - 0s 2ms/step - loss: 8.0152 - mae: 8.0152 - mse: 90.6381\n",
            "Epoch 7/100\n",
            "2/2 [==============================] - 0s 3ms/step - loss: 12.7993 - mae: 12.7993 - mse: 222.8720\n",
            "Epoch 8/100\n",
            "2/2 [==============================] - 0s 3ms/step - loss: 11.1208 - mae: 11.1208 - mse: 156.2759\n",
            "Epoch 9/100\n",
            "2/2 [==============================] - 0s 3ms/step - loss: 40.5802 - mae: 40.5802 - mse: 2596.0884\n",
            "Epoch 10/100\n",
            "2/2 [==============================] - 0s 4ms/step - loss: 27.9621 - mae: 27.9621 - mse: 1101.7297\n",
            "Epoch 11/100\n",
            "2/2 [==============================] - 0s 8ms/step - loss: 10.2477 - mae: 10.2477 - mse: 148.2912\n",
            "Epoch 12/100\n",
            "2/2 [==============================] - 0s 5ms/step - loss: 25.3214 - mae: 25.3214 - mse: 893.7946\n",
            "Epoch 13/100\n",
            "2/2 [==============================] - 0s 2ms/step - loss: 17.0492 - mae: 17.0492 - mse: 403.5786\n",
            "Epoch 14/100\n",
            "2/2 [==============================] - 0s 2ms/step - loss: 26.0424 - mae: 26.0424 - mse: 1060.5051\n",
            "Epoch 15/100\n",
            "2/2 [==============================] - 0s 2ms/step - loss: 18.0908 - mae: 18.0908 - mse: 455.0828\n",
            "Epoch 16/100\n",
            "2/2 [==============================] - 0s 2ms/step - loss: 7.8510 - mae: 7.8510 - mse: 89.6057\n",
            "Epoch 17/100\n",
            "2/2 [==============================] - 0s 2ms/step - loss: 22.2082 - mae: 22.2082 - mse: 683.3870\n",
            "Epoch 18/100\n",
            "2/2 [==============================] - 0s 2ms/step - loss: 10.8149 - mae: 10.8149 - mse: 171.4614\n",
            "Epoch 19/100\n",
            "2/2 [==============================] - 0s 2ms/step - loss: 10.7040 - mae: 10.7040 - mse: 139.0308\n",
            "Epoch 20/100\n",
            "2/2 [==============================] - 0s 2ms/step - loss: 12.0276 - mae: 12.0276 - mse: 164.9660\n",
            "Epoch 21/100\n",
            "2/2 [==============================] - 0s 2ms/step - loss: 20.1391 - mae: 20.1391 - mse: 588.8496\n",
            "Epoch 22/100\n",
            "2/2 [==============================] - 0s 2ms/step - loss: 13.7744 - mae: 13.7744 - mse: 242.7786\n",
            "Epoch 23/100\n",
            "2/2 [==============================] - 0s 2ms/step - loss: 9.5268 - mae: 9.5268 - mse: 94.7454\n",
            "Epoch 24/100\n",
            "2/2 [==============================] - 0s 2ms/step - loss: 11.8836 - mae: 11.8836 - mse: 163.6306\n",
            "Epoch 25/100\n",
            "2/2 [==============================] - 0s 2ms/step - loss: 16.2060 - mae: 16.2060 - mse: 384.7296\n",
            "Epoch 26/100\n",
            "2/2 [==============================] - 0s 2ms/step - loss: 16.3958 - mae: 16.3958 - mse: 374.3134\n",
            "Epoch 27/100\n",
            "2/2 [==============================] - 0s 2ms/step - loss: 11.5776 - mae: 11.5776 - mse: 181.3128\n",
            "Epoch 28/100\n",
            "2/2 [==============================] - 0s 2ms/step - loss: 29.9935 - mae: 29.9935 - mse: 1466.7620\n",
            "Epoch 29/100\n",
            "2/2 [==============================] - 0s 2ms/step - loss: 9.2427 - mae: 9.2427 - mse: 92.3642\n",
            "Epoch 30/100\n",
            "2/2 [==============================] - 0s 2ms/step - loss: 30.5429 - mae: 30.5429 - mse: 1710.9965\n",
            "Epoch 31/100\n",
            "2/2 [==============================] - 0s 2ms/step - loss: 55.5221 - mae: 55.5221 - mse: 5530.3926\n",
            "Epoch 32/100\n",
            "2/2 [==============================] - 0s 2ms/step - loss: 9.7217 - mae: 9.7217 - mse: 103.2090\n",
            "Epoch 33/100\n",
            "2/2 [==============================] - 0s 2ms/step - loss: 12.3412 - mae: 12.3412 - mse: 194.7453\n",
            "Epoch 34/100\n",
            "2/2 [==============================] - 0s 2ms/step - loss: 24.7198 - mae: 24.7198 - mse: 929.3718\n",
            "Epoch 35/100\n",
            "2/2 [==============================] - 0s 3ms/step - loss: 11.9084 - mae: 11.9084 - mse: 211.3497\n",
            "Epoch 36/100\n",
            "2/2 [==============================] - 0s 2ms/step - loss: 22.0896 - mae: 22.0896 - mse: 695.0906\n",
            "Epoch 37/100\n",
            "2/2 [==============================] - 0s 2ms/step - loss: 17.5751 - mae: 17.5751 - mse: 441.6838\n",
            "Epoch 38/100\n",
            "2/2 [==============================] - 0s 2ms/step - loss: 10.7274 - mae: 10.7274 - mse: 133.7765\n",
            "Epoch 39/100\n",
            "2/2 [==============================] - 0s 2ms/step - loss: 11.2460 - mae: 11.2460 - mse: 167.4158\n",
            "Epoch 40/100\n",
            "2/2 [==============================] - 0s 2ms/step - loss: 18.2568 - mae: 18.2568 - mse: 481.2384\n",
            "Epoch 41/100\n",
            "2/2 [==============================] - 0s 2ms/step - loss: 10.5015 - mae: 10.5015 - mse: 181.4836\n",
            "Epoch 42/100\n",
            "2/2 [==============================] - 0s 2ms/step - loss: 7.8356 - mae: 7.8356 - mse: 82.9212\n",
            "Epoch 43/100\n",
            "2/2 [==============================] - 0s 2ms/step - loss: 14.2325 - mae: 14.2325 - mse: 292.3677\n",
            "Epoch 44/100\n",
            "2/2 [==============================] - 0s 3ms/step - loss: 25.0352 - mae: 25.0352 - mse: 995.0203\n",
            "Epoch 45/100\n",
            "2/2 [==============================] - 0s 2ms/step - loss: 10.9653 - mae: 10.9653 - mse: 138.2637\n",
            "Epoch 46/100\n",
            "2/2 [==============================] - 0s 2ms/step - loss: 13.0884 - mae: 13.0884 - mse: 246.0271\n",
            "Epoch 47/100\n",
            "2/2 [==============================] - 0s 2ms/step - loss: 10.4130 - mae: 10.4130 - mse: 171.8808\n",
            "Epoch 48/100\n",
            "2/2 [==============================] - 0s 2ms/step - loss: 17.1143 - mae: 17.1143 - mse: 397.1491\n",
            "Epoch 49/100\n",
            "2/2 [==============================] - 0s 2ms/step - loss: 9.6409 - mae: 9.6409 - mse: 101.4758\n",
            "Epoch 50/100\n",
            "2/2 [==============================] - 0s 2ms/step - loss: 13.9479 - mae: 13.9479 - mse: 268.2950\n",
            "Epoch 51/100\n",
            "2/2 [==============================] - 0s 2ms/step - loss: 11.6394 - mae: 11.6394 - mse: 157.0401\n",
            "Epoch 52/100\n",
            "2/2 [==============================] - 0s 2ms/step - loss: 30.9184 - mae: 30.9184 - mse: 1655.5143\n",
            "Epoch 53/100\n",
            "2/2 [==============================] - 0s 2ms/step - loss: 14.5090 - mae: 14.5090 - mse: 310.1897\n",
            "Epoch 54/100\n",
            "2/2 [==============================] - 0s 2ms/step - loss: 24.2514 - mae: 24.2514 - mse: 881.7041\n",
            "Epoch 55/100\n",
            "2/2 [==============================] - 0s 2ms/step - loss: 23.4971 - mae: 23.4971 - mse: 828.1111\n",
            "Epoch 56/100\n",
            "2/2 [==============================] - 0s 2ms/step - loss: 10.9716 - mae: 10.9716 - mse: 170.5306\n",
            "Epoch 57/100\n",
            "2/2 [==============================] - 0s 3ms/step - loss: 12.8697 - mae: 12.8697 - mse: 203.9159\n",
            "Epoch 58/100\n",
            "2/2 [==============================] - 0s 2ms/step - loss: 9.6671 - mae: 9.6671 - mse: 103.5541\n",
            "Epoch 59/100\n",
            "2/2 [==============================] - 0s 2ms/step - loss: 13.0455 - mae: 13.0455 - mse: 235.5645\n",
            "Epoch 60/100\n",
            "2/2 [==============================] - 0s 2ms/step - loss: 10.7094 - mae: 10.7094 - mse: 134.1240\n",
            "Epoch 61/100\n",
            "2/2 [==============================] - 0s 2ms/step - loss: 13.2560 - mae: 13.2560 - mse: 230.3735\n",
            "Epoch 62/100\n",
            "2/2 [==============================] - 0s 2ms/step - loss: 17.1213 - mae: 17.1213 - mse: 446.4608\n",
            "Epoch 63/100\n",
            "2/2 [==============================] - 0s 2ms/step - loss: 9.0573 - mae: 9.0573 - mse: 87.2309\n",
            "Epoch 64/100\n",
            "2/2 [==============================] - 0s 2ms/step - loss: 17.7646 - mae: 17.7646 - mse: 457.5120\n",
            "Epoch 65/100\n",
            "2/2 [==============================] - 0s 2ms/step - loss: 10.5332 - mae: 10.5332 - mse: 134.5780\n",
            "Epoch 66/100\n",
            "2/2 [==============================] - 0s 2ms/step - loss: 21.2663 - mae: 21.2663 - mse: 667.6705\n",
            "Epoch 67/100\n",
            "2/2 [==============================] - 0s 2ms/step - loss: 10.5358 - mae: 10.5358 - mse: 129.6648\n",
            "Epoch 68/100\n",
            "2/2 [==============================] - 0s 2ms/step - loss: 14.7087 - mae: 14.7087 - mse: 328.9125\n",
            "Epoch 69/100\n",
            "2/2 [==============================] - 0s 2ms/step - loss: 10.6735 - mae: 10.6735 - mse: 131.2824\n",
            "Epoch 70/100\n",
            "2/2 [==============================] - 0s 2ms/step - loss: 12.7665 - mae: 12.7665 - mse: 207.6423\n",
            "Epoch 71/100\n",
            "2/2 [==============================] - 0s 2ms/step - loss: 13.1958 - mae: 13.1958 - mse: 236.3833\n",
            "Epoch 72/100\n",
            "2/2 [==============================] - 0s 2ms/step - loss: 19.7933 - mae: 19.7933 - mse: 556.6959\n",
            "Epoch 73/100\n",
            "2/2 [==============================] - 0s 2ms/step - loss: 11.2350 - mae: 11.2350 - mse: 190.1197\n",
            "Epoch 74/100\n",
            "2/2 [==============================] - 0s 2ms/step - loss: 22.1083 - mae: 22.1083 - mse: 761.3090\n",
            "Epoch 75/100\n",
            "2/2 [==============================] - 0s 2ms/step - loss: 6.9276 - mae: 6.9276 - mse: 64.2422\n",
            "Epoch 76/100\n",
            "2/2 [==============================] - 0s 2ms/step - loss: 11.4215 - mae: 11.4215 - mse: 203.3115\n",
            "Epoch 77/100\n",
            "2/2 [==============================] - 0s 2ms/step - loss: 21.5714 - mae: 21.5714 - mse: 700.2332\n",
            "Epoch 78/100\n",
            "2/2 [==============================] - 0s 2ms/step - loss: 18.6192 - mae: 18.6192 - mse: 526.7292\n",
            "Epoch 79/100\n",
            "2/2 [==============================] - 0s 2ms/step - loss: 15.9368 - mae: 15.9368 - mse: 373.0827\n",
            "Epoch 80/100\n",
            "2/2 [==============================] - 0s 2ms/step - loss: 23.5681 - mae: 23.5681 - mse: 840.8815\n",
            "Epoch 81/100\n",
            "2/2 [==============================] - 0s 2ms/step - loss: 10.9569 - mae: 10.9569 - mse: 142.4739\n",
            "Epoch 82/100\n",
            "2/2 [==============================] - 0s 2ms/step - loss: 12.7229 - mae: 12.7229 - mse: 231.6520\n",
            "Epoch 83/100\n",
            "2/2 [==============================] - 0s 2ms/step - loss: 17.4854 - mae: 17.4854 - mse: 398.5554\n",
            "Epoch 84/100\n",
            "2/2 [==============================] - 0s 2ms/step - loss: 7.2801 - mae: 7.2801 - mse: 73.1587\n",
            "Epoch 85/100\n",
            "2/2 [==============================] - 0s 2ms/step - loss: 15.0142 - mae: 15.0142 - mse: 314.7350\n",
            "Epoch 86/100\n",
            "2/2 [==============================] - 0s 2ms/step - loss: 15.3260 - mae: 15.3260 - mse: 316.4026\n",
            "Epoch 87/100\n",
            "2/2 [==============================] - 0s 2ms/step - loss: 19.1866 - mae: 19.1866 - mse: 524.8007\n",
            "Epoch 88/100\n",
            "2/2 [==============================] - 0s 2ms/step - loss: 29.6190 - mae: 29.6190 - mse: 1268.4082\n",
            "Epoch 89/100\n",
            "2/2 [==============================] - 0s 2ms/step - loss: 10.1499 - mae: 10.1499 - mse: 124.1653\n",
            "Epoch 90/100\n",
            "2/2 [==============================] - 0s 2ms/step - loss: 21.3557 - mae: 21.3557 - mse: 653.2708\n",
            "Epoch 91/100\n",
            "2/2 [==============================] - 0s 2ms/step - loss: 10.5362 - mae: 10.5362 - mse: 162.5451\n",
            "Epoch 92/100\n",
            "2/2 [==============================] - 0s 2ms/step - loss: 18.2460 - mae: 18.2460 - mse: 456.0694\n",
            "Epoch 93/100\n",
            "2/2 [==============================] - 0s 2ms/step - loss: 6.8138 - mae: 6.8138 - mse: 67.1275\n",
            "Epoch 94/100\n",
            "2/2 [==============================] - 0s 2ms/step - loss: 13.0295 - mae: 13.0295 - mse: 231.0009\n",
            "Epoch 95/100\n",
            "2/2 [==============================] - 0s 2ms/step - loss: 18.4368 - mae: 18.4368 - mse: 501.4731\n",
            "Epoch 96/100\n",
            "2/2 [==============================] - 0s 2ms/step - loss: 10.3612 - mae: 10.3612 - mse: 178.2498\n",
            "Epoch 97/100\n",
            "2/2 [==============================] - 0s 2ms/step - loss: 14.4468 - mae: 14.4468 - mse: 315.4207\n",
            "Epoch 98/100\n",
            "2/2 [==============================] - 0s 2ms/step - loss: 6.5753 - mae: 6.5753 - mse: 60.4195\n",
            "Epoch 99/100\n",
            "2/2 [==============================] - 0s 2ms/step - loss: 12.5896 - mae: 12.5896 - mse: 229.3112\n",
            "Epoch 100/100\n",
            "2/2 [==============================] - 0s 2ms/step - loss: 19.3977 - mae: 19.3977 - mse: 552.6786\n"
          ]
        },
        {
          "data": {
            "text/plain": [
              "<keras.src.callbacks.History at 0x2c7f9cc50>"
            ]
          },
          "execution_count": 195,
          "metadata": {},
          "output_type": "execute_result"
        }
      ],
      "source": [
        "tf.random.set_seed(42)\n",
        "\n",
        "model_2 = tf.keras.Sequential([\n",
        "    tf.keras.layers.Dense(100),\n",
        "    tf.keras.layers.Dense(1),\n",
        "])\n",
        "\n",
        "model_2.compile(loss=tf.keras.losses.mae,\n",
        "                optimizer=tf.keras.optimizers.SGD(),\n",
        "                metrics=[\"mae\", \"mse\"])\n",
        "\n",
        "model_2.fit(tf.expand_dims(X_train, axis=-1), y_train, epochs=100)"
      ]
    },
    {
      "cell_type": "code",
      "execution_count": 196,
      "metadata": {
        "colab": {
          "base_uri": "https://localhost:8080/",
          "height": 651
        },
        "id": "V0cKfJKSOTxF",
        "outputId": "d77a01b5-cc32-4d7c-992f-b5d9b50a2a3c"
      },
      "outputs": [
        {
          "name": "stdout",
          "output_type": "stream",
          "text": [
            "1/1 [==============================] - 0s 22ms/step\n"
          ]
        },
        {
          "data": {
            "text/plain": [
              "(<tf.Tensor: shape=(), dtype=float32, numpy=13.35112>,\n",
              " <tf.Tensor: shape=(), dtype=float32, numpy=188.34348>)"
            ]
          },
          "execution_count": 196,
          "metadata": {},
          "output_type": "execute_result"
        },
        {
          "data": {
            "image/png": "[encoded data removed]",
            "text/plain": [
              "<Figure size 1000x700 with 1 Axes>"
            ]
          },
          "metadata": {},
          "output_type": "display_data"
        }
      ],
      "source": [
        "# Make and plot predictions\n",
        "y_pred_2 = model_2.predict(X_test)\n",
        "plotting_function(predictions=y_pred_2)\n",
        "mae_2 = mae(y_pred_2)\n",
        "mse_2 = mse(y_pred_2)\n",
        "mae_2, mse_2"
      ]
    },
    {
      "cell_type": "markdown",
      "metadata": {
        "id": "AjsIUHYSOfSq"
      },
      "source": [
        "#### Model 2 - 2 layers, 100 epochs"
      ]
    },
    {
      "cell_type": "code",
      "execution_count": 197,
      "metadata": {
        "colab": {
          "base_uri": "https://localhost:8080/"
        },
        "id": "FJ3qIxdEPbKM",
        "outputId": "05c7eed0-c935-42f1-a6a0-ec6a4cb08f13"
      },
      "outputs": [
        {
          "name": "stderr",
          "output_type": "stream",
          "text": [
            "WARNING:absl:At this time, the v2.11+ optimizer `tf.keras.optimizers.Adam` runs slowly on M1/M2 Macs, please use the legacy Keras optimizer instead, located at `tf.keras.optimizers.legacy.Adam`.\n"
          ]
        },
        {
          "name": "stdout",
          "output_type": "stream",
          "text": [
            "Epoch 1/250\n",
            "2/2 [==============================] - 0s 2ms/step - loss: 46.7826 - mae: 46.7826 - mse: 2990.4434\n",
            "Epoch 2/250\n",
            "2/2 [==============================] - 0s 2ms/step - loss: 44.6078 - mae: 44.6078 - mse: 2717.3728\n",
            "Epoch 3/250\n",
            "2/2 [==============================] - 0s 3ms/step - loss: 42.5197 - mae: 42.5197 - mse: 2462.3291\n",
            "Epoch 4/250\n",
            "2/2 [==============================] - 0s 2ms/step - loss: 40.3818 - mae: 40.3818 - mse: 2217.7930\n",
            "Epoch 5/250\n",
            "2/2 [==============================] - 0s 2ms/step - loss: 38.2966 - mae: 38.2966 - mse: 1994.9949\n",
            "Epoch 6/250\n",
            "2/2 [==============================] - 0s 2ms/step - loss: 36.1931 - mae: 36.1931 - mse: 1779.3254\n",
            "Epoch 7/250\n",
            "2/2 [==============================] - 0s 2ms/step - loss: 34.0705 - mae: 34.0705 - mse: 1572.4705\n",
            "Epoch 8/250\n",
            "2/2 [==============================] - 0s 2ms/step - loss: 31.9070 - mae: 31.9070 - mse: 1367.9408\n",
            "Epoch 9/250\n",
            "2/2 [==============================] - 0s 2ms/step - loss: 29.8859 - mae: 29.8859 - mse: 1201.5992\n",
            "Epoch 10/250\n",
            "2/2 [==============================] - 0s 2ms/step - loss: 27.8648 - mae: 27.8648 - mse: 1041.5327\n",
            "Epoch 11/250\n",
            "2/2 [==============================] - 0s 2ms/step - loss: 25.6809 - mae: 25.6809 - mse: 885.7414\n",
            "Epoch 12/250\n",
            "2/2 [==============================] - 0s 2ms/step - loss: 23.6612 - mae: 23.6612 - mse: 748.5873\n",
            "Epoch 13/250\n",
            "2/2 [==============================] - 0s 2ms/step - loss: 21.5391 - mae: 21.5391 - mse: 617.4669\n",
            "Epoch 14/250\n",
            "2/2 [==============================] - 0s 2ms/step - loss: 19.5541 - mae: 19.5541 - mse: 508.0944\n",
            "Epoch 15/250\n",
            "2/2 [==============================] - 0s 2ms/step - loss: 17.5691 - mae: 17.5691 - mse: 411.5734\n",
            "Epoch 16/250\n",
            "2/2 [==============================] - 0s 2ms/step - loss: 15.5524 - mae: 15.5524 - mse: 325.0928\n",
            "Epoch 17/250\n",
            "2/2 [==============================] - 0s 2ms/step - loss: 13.6246 - mae: 13.6246 - mse: 249.1231\n",
            "Epoch 18/250\n",
            "2/2 [==============================] - 0s 2ms/step - loss: 11.8979 - mae: 11.8979 - mse: 193.8391\n",
            "Epoch 19/250\n",
            "2/2 [==============================] - 0s 2ms/step - loss: 10.3177 - mae: 10.3177 - mse: 148.8759\n",
            "Epoch 20/250\n",
            "2/2 [==============================] - 0s 2ms/step - loss: 8.8574 - mae: 8.8574 - mse: 115.2953\n",
            "Epoch 21/250\n",
            "2/2 [==============================] - 0s 2ms/step - loss: 7.9756 - mae: 7.9756 - mse: 95.3917\n",
            "Epoch 22/250\n",
            "2/2 [==============================] - 0s 2ms/step - loss: 7.7402 - mae: 7.7402 - mse: 85.2297\n",
            "Epoch 23/250\n",
            "2/2 [==============================] - 0s 2ms/step - loss: 8.3861 - mae: 8.3861 - mse: 84.5557\n",
            "Epoch 24/250\n",
            "2/2 [==============================] - 0s 2ms/step - loss: 8.7483 - mae: 8.7483 - mse: 84.4899\n",
            "Epoch 25/250\n",
            "2/2 [==============================] - 0s 2ms/step - loss: 8.9155 - mae: 8.9155 - mse: 85.3306\n",
            "Epoch 26/250\n",
            "2/2 [==============================] - 0s 2ms/step - loss: 8.8708 - mae: 8.8708 - mse: 84.5154\n",
            "Epoch 27/250\n",
            "2/2 [==============================] - 0s 2ms/step - loss: 8.6614 - mae: 8.6614 - mse: 82.6224\n",
            "Epoch 28/250\n",
            "2/2 [==============================] - 0s 2ms/step - loss: 8.3486 - mae: 8.3486 - mse: 80.7534\n",
            "Epoch 29/250\n",
            "2/2 [==============================] - 0s 2ms/step - loss: 7.8637 - mae: 7.8637 - mse: 79.4527\n",
            "Epoch 30/250\n",
            "2/2 [==============================] - 0s 2ms/step - loss: 7.5163 - mae: 7.5163 - mse: 81.1826\n",
            "Epoch 31/250\n",
            "2/2 [==============================] - 0s 2ms/step - loss: 7.4976 - mae: 7.4976 - mse: 84.6434\n",
            "Epoch 32/250\n",
            "2/2 [==============================] - 0s 2ms/step - loss: 7.6718 - mae: 7.6718 - mse: 88.2742\n",
            "Epoch 33/250\n",
            "2/2 [==============================] - 0s 2ms/step - loss: 7.8187 - mae: 7.8187 - mse: 91.2375\n",
            "Epoch 34/250\n",
            "2/2 [==============================] - 0s 2ms/step - loss: 7.8352 - mae: 7.8352 - mse: 91.6077\n",
            "Epoch 35/250\n",
            "2/2 [==============================] - 0s 2ms/step - loss: 7.7621 - mae: 7.7621 - mse: 90.0521\n",
            "Epoch 36/250\n",
            "2/2 [==============================] - 0s 2ms/step - loss: 7.6286 - mae: 7.6286 - mse: 87.1529\n",
            "Epoch 37/250\n",
            "2/2 [==============================] - 0s 2ms/step - loss: 7.5010 - mae: 7.5010 - mse: 84.1106\n",
            "Epoch 38/250\n",
            "2/2 [==============================] - 0s 2ms/step - loss: 7.3703 - mae: 7.3703 - mse: 81.3263\n",
            "Epoch 39/250\n",
            "2/2 [==============================] - 0s 2ms/step - loss: 7.3072 - mae: 7.3072 - mse: 78.6647\n",
            "Epoch 40/250\n",
            "2/2 [==============================] - 0s 2ms/step - loss: 7.2808 - mae: 7.2808 - mse: 76.4351\n",
            "Epoch 41/250\n",
            "2/2 [==============================] - 0s 2ms/step - loss: 7.2925 - mae: 7.2925 - mse: 74.9375\n",
            "Epoch 42/250\n",
            "2/2 [==============================] - 0s 2ms/step - loss: 7.3103 - mae: 7.3103 - mse: 74.2255\n",
            "Epoch 43/250\n",
            "2/2 [==============================] - 0s 2ms/step - loss: 7.2688 - mae: 7.2688 - mse: 73.7548\n",
            "Epoch 44/250\n",
            "2/2 [==============================] - 0s 2ms/step - loss: 7.1785 - mae: 7.1785 - mse: 73.8318\n",
            "Epoch 45/250\n",
            "2/2 [==============================] - 0s 2ms/step - loss: 7.1256 - mae: 7.1256 - mse: 74.8469\n",
            "Epoch 46/250\n",
            "2/2 [==============================] - 0s 2ms/step - loss: 7.1409 - mae: 7.1409 - mse: 76.2052\n",
            "Epoch 47/250\n",
            "2/2 [==============================] - 0s 2ms/step - loss: 7.2086 - mae: 7.2086 - mse: 77.9693\n",
            "Epoch 48/250\n",
            "2/2 [==============================] - 0s 2ms/step - loss: 7.2494 - mae: 7.2494 - mse: 78.8933\n",
            "Epoch 49/250\n",
            "2/2 [==============================] - 0s 2ms/step - loss: 7.2342 - mae: 7.2342 - mse: 78.4764\n",
            "Epoch 50/250\n",
            "2/2 [==============================] - 0s 2ms/step - loss: 7.1617 - mae: 7.1617 - mse: 76.6728\n",
            "Epoch 51/250\n",
            "2/2 [==============================] - 0s 2ms/step - loss: 7.0664 - mae: 7.0664 - mse: 74.9082\n",
            "Epoch 52/250\n",
            "2/2 [==============================] - 0s 2ms/step - loss: 7.0187 - mae: 7.0187 - mse: 73.0386\n",
            "Epoch 53/250\n",
            "2/2 [==============================] - 0s 2ms/step - loss: 6.9709 - mae: 6.9709 - mse: 70.7700\n",
            "Epoch 54/250\n",
            "2/2 [==============================] - 0s 2ms/step - loss: 6.9278 - mae: 6.9278 - mse: 69.5101\n",
            "Epoch 55/250\n",
            "2/2 [==============================] - 0s 2ms/step - loss: 6.8978 - mae: 6.8978 - mse: 69.2516\n",
            "Epoch 56/250\n",
            "2/2 [==============================] - 0s 2ms/step - loss: 6.8883 - mae: 6.8883 - mse: 69.4947\n",
            "Epoch 57/250\n",
            "2/2 [==============================] - 0s 2ms/step - loss: 6.8471 - mae: 6.8471 - mse: 68.9470\n",
            "Epoch 58/250\n",
            "2/2 [==============================] - 0s 2ms/step - loss: 6.8277 - mae: 6.8277 - mse: 68.0183\n",
            "Epoch 59/250\n",
            "2/2 [==============================] - 0s 2ms/step - loss: 6.8129 - mae: 6.8129 - mse: 66.8565\n",
            "Epoch 60/250\n",
            "2/2 [==============================] - 0s 2ms/step - loss: 6.7895 - mae: 6.7895 - mse: 66.2519\n",
            "Epoch 61/250\n",
            "2/2 [==============================] - 0s 2ms/step - loss: 6.7556 - mae: 6.7556 - mse: 66.0408\n",
            "Epoch 62/250\n",
            "2/2 [==============================] - 0s 2ms/step - loss: 6.7258 - mae: 6.7258 - mse: 66.1220\n",
            "Epoch 63/250\n",
            "2/2 [==============================] - 0s 2ms/step - loss: 6.7008 - mae: 6.7008 - mse: 66.3290\n",
            "Epoch 64/250\n",
            "2/2 [==============================] - 0s 2ms/step - loss: 6.7049 - mae: 6.7049 - mse: 66.5809\n",
            "Epoch 65/250\n",
            "2/2 [==============================] - 0s 2ms/step - loss: 6.6792 - mae: 6.6792 - mse: 66.3935\n",
            "Epoch 66/250\n",
            "2/2 [==============================] - 0s 2ms/step - loss: 6.6444 - mae: 6.6444 - mse: 65.3980\n",
            "Epoch 67/250\n",
            "2/2 [==============================] - 0s 2ms/step - loss: 6.6026 - mae: 6.6026 - mse: 64.2909\n",
            "Epoch 68/250\n",
            "2/2 [==============================] - 0s 2ms/step - loss: 6.5890 - mae: 6.5890 - mse: 63.1549\n",
            "Epoch 69/250\n",
            "2/2 [==============================] - 0s 2ms/step - loss: 6.5699 - mae: 6.5699 - mse: 62.1409\n",
            "Epoch 70/250\n",
            "2/2 [==============================] - 0s 2ms/step - loss: 6.5468 - mae: 6.5468 - mse: 61.8502\n",
            "Epoch 71/250\n",
            "2/2 [==============================] - 0s 2ms/step - loss: 6.5142 - mae: 6.5142 - mse: 61.5841\n",
            "Epoch 72/250\n",
            "2/2 [==============================] - 0s 2ms/step - loss: 6.4863 - mae: 6.4863 - mse: 61.1016\n",
            "Epoch 73/250\n",
            "2/2 [==============================] - 0s 2ms/step - loss: 6.4670 - mae: 6.4670 - mse: 60.6009\n",
            "Epoch 74/250\n",
            "2/2 [==============================] - 0s 2ms/step - loss: 6.4473 - mae: 6.4473 - mse: 59.7654\n",
            "Epoch 75/250\n",
            "2/2 [==============================] - 0s 2ms/step - loss: 6.4344 - mae: 6.4344 - mse: 59.0281\n",
            "Epoch 76/250\n",
            "2/2 [==============================] - 0s 2ms/step - loss: 6.3931 - mae: 6.3931 - mse: 58.8613\n",
            "Epoch 77/250\n",
            "2/2 [==============================] - 0s 2ms/step - loss: 6.3483 - mae: 6.3483 - mse: 59.0480\n",
            "Epoch 78/250\n",
            "2/2 [==============================] - 0s 2ms/step - loss: 6.3406 - mae: 6.3406 - mse: 59.5746\n",
            "Epoch 79/250\n",
            "2/2 [==============================] - 0s 2ms/step - loss: 6.3681 - mae: 6.3681 - mse: 60.4078\n",
            "Epoch 80/250\n",
            "2/2 [==============================] - 0s 2ms/step - loss: 6.3429 - mae: 6.3429 - mse: 60.0634\n",
            "Epoch 81/250\n",
            "2/2 [==============================] - 0s 2ms/step - loss: 6.2870 - mae: 6.2870 - mse: 58.8354\n",
            "Epoch 82/250\n",
            "2/2 [==============================] - 0s 2ms/step - loss: 6.2414 - mae: 6.2414 - mse: 57.3683\n",
            "Epoch 83/250\n",
            "2/2 [==============================] - 0s 2ms/step - loss: 6.2140 - mae: 6.2140 - mse: 56.3981\n",
            "Epoch 84/250\n",
            "2/2 [==============================] - 0s 2ms/step - loss: 6.1901 - mae: 6.1901 - mse: 55.7195\n",
            "Epoch 85/250\n",
            "2/2 [==============================] - 0s 2ms/step - loss: 6.1714 - mae: 6.1714 - mse: 55.0685\n",
            "Epoch 86/250\n",
            "2/2 [==============================] - 0s 2ms/step - loss: 6.1396 - mae: 6.1396 - mse: 54.6213\n",
            "Epoch 87/250\n",
            "2/2 [==============================] - 0s 2ms/step - loss: 6.1262 - mae: 6.1262 - mse: 54.7297\n",
            "Epoch 88/250\n",
            "2/2 [==============================] - 0s 2ms/step - loss: 6.0814 - mae: 6.0814 - mse: 53.9674\n",
            "Epoch 89/250\n",
            "2/2 [==============================] - 0s 2ms/step - loss: 6.0771 - mae: 6.0771 - mse: 52.8537\n",
            "Epoch 90/250\n",
            "2/2 [==============================] - 0s 2ms/step - loss: 6.0660 - mae: 6.0660 - mse: 52.2205\n",
            "Epoch 91/250\n",
            "2/2 [==============================] - 0s 2ms/step - loss: 6.0298 - mae: 6.0298 - mse: 52.2439\n",
            "Epoch 92/250\n",
            "2/2 [==============================] - 0s 2ms/step - loss: 5.9788 - mae: 5.9788 - mse: 52.3173\n",
            "Epoch 93/250\n",
            "2/2 [==============================] - 0s 2ms/step - loss: 5.9692 - mae: 5.9692 - mse: 52.5499\n",
            "Epoch 94/250\n",
            "2/2 [==============================] - 0s 2ms/step - loss: 5.9555 - mae: 5.9555 - mse: 52.6764\n",
            "Epoch 95/250\n",
            "2/2 [==============================] - 0s 2ms/step - loss: 5.9340 - mae: 5.9340 - mse: 52.0023\n",
            "Epoch 96/250\n",
            "2/2 [==============================] - 0s 2ms/step - loss: 5.8904 - mae: 5.8904 - mse: 51.1863\n",
            "Epoch 97/250\n",
            "2/2 [==============================] - 0s 2ms/step - loss: 5.8561 - mae: 5.8561 - mse: 50.2308\n",
            "Epoch 98/250\n",
            "2/2 [==============================] - 0s 2ms/step - loss: 5.8358 - mae: 5.8358 - mse: 49.3582\n",
            "Epoch 99/250\n",
            "2/2 [==============================] - 0s 2ms/step - loss: 5.8167 - mae: 5.8167 - mse: 48.7341\n",
            "Epoch 100/250\n",
            "2/2 [==============================] - 0s 2ms/step - loss: 5.7919 - mae: 5.7919 - mse: 48.2396\n",
            "Epoch 101/250\n",
            "2/2 [==============================] - 0s 2ms/step - loss: 5.7628 - mae: 5.7628 - mse: 47.9121\n",
            "Epoch 102/250\n",
            "2/2 [==============================] - 0s 2ms/step - loss: 5.7307 - mae: 5.7307 - mse: 47.7296\n",
            "Epoch 103/250\n",
            "2/2 [==============================] - 0s 2ms/step - loss: 5.7040 - mae: 5.7040 - mse: 47.6057\n",
            "Epoch 104/250\n",
            "2/2 [==============================] - 0s 2ms/step - loss: 5.6816 - mae: 5.6816 - mse: 47.4396\n",
            "Epoch 105/250\n",
            "2/2 [==============================] - 0s 2ms/step - loss: 5.6475 - mae: 5.6475 - mse: 46.8649\n",
            "Epoch 106/250\n",
            "2/2 [==============================] - 0s 2ms/step - loss: 5.6258 - mae: 5.6258 - mse: 45.8537\n",
            "Epoch 107/250\n",
            "2/2 [==============================] - 0s 2ms/step - loss: 5.6460 - mae: 5.6460 - mse: 44.9468\n",
            "Epoch 108/250\n",
            "2/2 [==============================] - 0s 2ms/step - loss: 5.6026 - mae: 5.6026 - mse: 44.3592\n",
            "Epoch 109/250\n",
            "2/2 [==============================] - 0s 2ms/step - loss: 5.5338 - mae: 5.5338 - mse: 44.9749\n",
            "Epoch 110/250\n",
            "2/2 [==============================] - 0s 2ms/step - loss: 5.5686 - mae: 5.5686 - mse: 46.3763\n",
            "Epoch 111/250\n",
            "2/2 [==============================] - 0s 2ms/step - loss: 5.6111 - mae: 5.6111 - mse: 47.2153\n",
            "Epoch 112/250\n",
            "2/2 [==============================] - 0s 2ms/step - loss: 5.5722 - mae: 5.5722 - mse: 46.5682\n",
            "Epoch 113/250\n",
            "2/2 [==============================] - 0s 2ms/step - loss: 5.4526 - mae: 5.4526 - mse: 44.7453\n",
            "Epoch 114/250\n",
            "2/2 [==============================] - 0s 2ms/step - loss: 5.4572 - mae: 5.4572 - mse: 42.4942\n",
            "Epoch 115/250\n",
            "2/2 [==============================] - 0s 2ms/step - loss: 5.5147 - mae: 5.5147 - mse: 41.0906\n",
            "Epoch 116/250\n",
            "2/2 [==============================] - 0s 2ms/step - loss: 5.4703 - mae: 5.4703 - mse: 40.8760\n",
            "Epoch 117/250\n",
            "2/2 [==============================] - 0s 2ms/step - loss: 5.3383 - mae: 5.3383 - mse: 41.2416\n",
            "Epoch 118/250\n",
            "2/2 [==============================] - 0s 2ms/step - loss: 5.3394 - mae: 5.3394 - mse: 42.3545\n",
            "Epoch 119/250\n",
            "2/2 [==============================] - 0s 2ms/step - loss: 5.3781 - mae: 5.3781 - mse: 43.2536\n",
            "Epoch 120/250\n",
            "2/2 [==============================] - 0s 2ms/step - loss: 5.3314 - mae: 5.3314 - mse: 42.5224\n",
            "Epoch 121/250\n",
            "2/2 [==============================] - 0s 2ms/step - loss: 5.2445 - mae: 5.2445 - mse: 40.9242\n",
            "Epoch 122/250\n",
            "2/2 [==============================] - 0s 2ms/step - loss: 5.1950 - mae: 5.1950 - mse: 39.4955\n",
            "Epoch 123/250\n",
            "2/2 [==============================] - 0s 2ms/step - loss: 5.1967 - mae: 5.1967 - mse: 38.4292\n",
            "Epoch 124/250\n",
            "2/2 [==============================] - 0s 2ms/step - loss: 5.2535 - mae: 5.2535 - mse: 37.5663\n",
            "Epoch 125/250\n",
            "2/2 [==============================] - 0s 2ms/step - loss: 5.2278 - mae: 5.2278 - mse: 37.3480\n",
            "Epoch 126/250\n",
            "2/2 [==============================] - 0s 2ms/step - loss: 5.1308 - mae: 5.1308 - mse: 37.1494\n",
            "Epoch 127/250\n",
            "2/2 [==============================] - 0s 2ms/step - loss: 5.0529 - mae: 5.0529 - mse: 37.3063\n",
            "Epoch 128/250\n",
            "2/2 [==============================] - 0s 2ms/step - loss: 5.0864 - mae: 5.0864 - mse: 38.4687\n",
            "Epoch 129/250\n",
            "2/2 [==============================] - 0s 2ms/step - loss: 5.1032 - mae: 5.1032 - mse: 39.0381\n",
            "Epoch 130/250\n",
            "2/2 [==============================] - 0s 2ms/step - loss: 5.0574 - mae: 5.0574 - mse: 38.3755\n",
            "Epoch 131/250\n",
            "2/2 [==============================] - 0s 2ms/step - loss: 4.9903 - mae: 4.9903 - mse: 37.2665\n",
            "Epoch 132/250\n",
            "2/2 [==============================] - 0s 2ms/step - loss: 4.9381 - mae: 4.9381 - mse: 35.5763\n",
            "Epoch 133/250\n",
            "2/2 [==============================] - 0s 2ms/step - loss: 4.9701 - mae: 4.9701 - mse: 34.4726\n",
            "Epoch 134/250\n",
            "2/2 [==============================] - 0s 2ms/step - loss: 4.9029 - mae: 4.9029 - mse: 34.1974\n",
            "Epoch 135/250\n",
            "2/2 [==============================] - 0s 2ms/step - loss: 4.8677 - mae: 4.8677 - mse: 34.5135\n",
            "Epoch 136/250\n",
            "2/2 [==============================] - 0s 2ms/step - loss: 4.8220 - mae: 4.8220 - mse: 34.1572\n",
            "Epoch 137/250\n",
            "2/2 [==============================] - 0s 2ms/step - loss: 4.7895 - mae: 4.7895 - mse: 33.2578\n",
            "Epoch 138/250\n",
            "2/2 [==============================] - 0s 2ms/step - loss: 4.8024 - mae: 4.8024 - mse: 32.3015\n",
            "Epoch 139/250\n",
            "2/2 [==============================] - 0s 2ms/step - loss: 4.8342 - mae: 4.8342 - mse: 31.7347\n",
            "Epoch 140/250\n",
            "2/2 [==============================] - 0s 2ms/step - loss: 4.7636 - mae: 4.7636 - mse: 31.6835\n",
            "Epoch 141/250\n",
            "2/2 [==============================] - 0s 2ms/step - loss: 4.6692 - mae: 4.6692 - mse: 31.8768\n",
            "Epoch 142/250\n",
            "2/2 [==============================] - 0s 2ms/step - loss: 4.6519 - mae: 4.6519 - mse: 32.2594\n",
            "Epoch 143/250\n",
            "2/2 [==============================] - 0s 2ms/step - loss: 4.7028 - mae: 4.7028 - mse: 33.1650\n",
            "Epoch 144/250\n",
            "2/2 [==============================] - 0s 2ms/step - loss: 4.7251 - mae: 4.7251 - mse: 33.4011\n",
            "Epoch 145/250\n",
            "2/2 [==============================] - 0s 2ms/step - loss: 4.6664 - mae: 4.6664 - mse: 32.6995\n",
            "Epoch 146/250\n",
            "2/2 [==============================] - 0s 2ms/step - loss: 4.5800 - mae: 4.5800 - mse: 31.2987\n",
            "Epoch 147/250\n",
            "2/2 [==============================] - 0s 2ms/step - loss: 4.5326 - mae: 4.5326 - mse: 29.8141\n",
            "Epoch 148/250\n",
            "2/2 [==============================] - 0s 2ms/step - loss: 4.4808 - mae: 4.4808 - mse: 28.7386\n",
            "Epoch 149/250\n",
            "2/2 [==============================] - 0s 2ms/step - loss: 4.4332 - mae: 4.4332 - mse: 28.4129\n",
            "Epoch 150/250\n",
            "2/2 [==============================] - 0s 2ms/step - loss: 4.3989 - mae: 4.3989 - mse: 28.1018\n",
            "Epoch 151/250\n",
            "2/2 [==============================] - 0s 2ms/step - loss: 4.3674 - mae: 4.3674 - mse: 28.0764\n",
            "Epoch 152/250\n",
            "2/2 [==============================] - 0s 2ms/step - loss: 4.3441 - mae: 4.3441 - mse: 27.9500\n",
            "Epoch 153/250\n",
            "2/2 [==============================] - 0s 2ms/step - loss: 4.3030 - mae: 4.3030 - mse: 27.2914\n",
            "Epoch 154/250\n",
            "2/2 [==============================] - 0s 2ms/step - loss: 4.2715 - mae: 4.2715 - mse: 26.4608\n",
            "Epoch 155/250\n",
            "2/2 [==============================] - 0s 2ms/step - loss: 4.2546 - mae: 4.2546 - mse: 25.8242\n",
            "Epoch 156/250\n",
            "2/2 [==============================] - 0s 2ms/step - loss: 4.2285 - mae: 4.2285 - mse: 25.3293\n",
            "Epoch 157/250\n",
            "2/2 [==============================] - 0s 2ms/step - loss: 4.1976 - mae: 4.1976 - mse: 24.8793\n",
            "Epoch 158/250\n",
            "2/2 [==============================] - 0s 2ms/step - loss: 4.1569 - mae: 4.1569 - mse: 25.2086\n",
            "Epoch 159/250\n",
            "2/2 [==============================] - 0s 2ms/step - loss: 4.1382 - mae: 4.1382 - mse: 25.5536\n",
            "Epoch 160/250\n",
            "2/2 [==============================] - 0s 2ms/step - loss: 4.0996 - mae: 4.0996 - mse: 25.0695\n",
            "Epoch 161/250\n",
            "2/2 [==============================] - 0s 2ms/step - loss: 4.0458 - mae: 4.0458 - mse: 24.2763\n",
            "Epoch 162/250\n",
            "2/2 [==============================] - 0s 2ms/step - loss: 4.0156 - mae: 4.0156 - mse: 23.3283\n",
            "Epoch 163/250\n",
            "2/2 [==============================] - 0s 2ms/step - loss: 3.9963 - mae: 3.9963 - mse: 22.5981\n",
            "Epoch 164/250\n",
            "2/2 [==============================] - 0s 2ms/step - loss: 3.9436 - mae: 3.9436 - mse: 22.4333\n",
            "Epoch 165/250\n",
            "2/2 [==============================] - 0s 2ms/step - loss: 3.9138 - mae: 3.9138 - mse: 22.4125\n",
            "Epoch 166/250\n",
            "2/2 [==============================] - 0s 2ms/step - loss: 3.8816 - mae: 3.8816 - mse: 21.8616\n",
            "Epoch 167/250\n",
            "2/2 [==============================] - 0s 2ms/step - loss: 3.8410 - mae: 3.8410 - mse: 21.6324\n",
            "Epoch 168/250\n",
            "2/2 [==============================] - 0s 2ms/step - loss: 3.8231 - mae: 3.8231 - mse: 21.7672\n",
            "Epoch 169/250\n",
            "2/2 [==============================] - 0s 2ms/step - loss: 3.7836 - mae: 3.7836 - mse: 21.3143\n",
            "Epoch 170/250\n",
            "2/2 [==============================] - 0s 2ms/step - loss: 3.7276 - mae: 3.7276 - mse: 20.4573\n",
            "Epoch 171/250\n",
            "2/2 [==============================] - 0s 2ms/step - loss: 3.7095 - mae: 3.7095 - mse: 19.5758\n",
            "Epoch 172/250\n",
            "2/2 [==============================] - 0s 2ms/step - loss: 3.6781 - mae: 3.6781 - mse: 19.1721\n",
            "Epoch 173/250\n",
            "2/2 [==============================] - 0s 2ms/step - loss: 3.6239 - mae: 3.6239 - mse: 19.1884\n",
            "Epoch 174/250\n",
            "2/2 [==============================] - 0s 2ms/step - loss: 3.6044 - mae: 3.6044 - mse: 19.3600\n",
            "Epoch 175/250\n",
            "2/2 [==============================] - 0s 2ms/step - loss: 3.5832 - mae: 3.5832 - mse: 18.9979\n",
            "Epoch 176/250\n",
            "2/2 [==============================] - 0s 2ms/step - loss: 3.5292 - mae: 3.5292 - mse: 18.5504\n",
            "Epoch 177/250\n",
            "2/2 [==============================] - 0s 2ms/step - loss: 3.5248 - mae: 3.5248 - mse: 18.5729\n",
            "Epoch 178/250\n",
            "2/2 [==============================] - 0s 2ms/step - loss: 3.4749 - mae: 3.4749 - mse: 18.0532\n",
            "Epoch 179/250\n",
            "2/2 [==============================] - 0s 2ms/step - loss: 3.3959 - mae: 3.3959 - mse: 16.8646\n",
            "Epoch 180/250\n",
            "2/2 [==============================] - 0s 2ms/step - loss: 3.4392 - mae: 3.4392 - mse: 16.0923\n",
            "Epoch 181/250\n",
            "2/2 [==============================] - 0s 2ms/step - loss: 3.3616 - mae: 3.3616 - mse: 15.7656\n",
            "Epoch 182/250\n",
            "2/2 [==============================] - 0s 2ms/step - loss: 3.3214 - mae: 3.3214 - mse: 16.4356\n",
            "Epoch 183/250\n",
            "2/2 [==============================] - 0s 2ms/step - loss: 3.3315 - mae: 3.3315 - mse: 16.6573\n",
            "Epoch 184/250\n",
            "2/2 [==============================] - 0s 2ms/step - loss: 3.2342 - mae: 3.2342 - mse: 15.5959\n",
            "Epoch 185/250\n",
            "2/2 [==============================] - 0s 2ms/step - loss: 3.2256 - mae: 3.2256 - mse: 14.3680\n",
            "Epoch 186/250\n",
            "2/2 [==============================] - 0s 2ms/step - loss: 3.1977 - mae: 3.1977 - mse: 14.1121\n",
            "Epoch 187/250\n",
            "2/2 [==============================] - 0s 2ms/step - loss: 3.0992 - mae: 3.0992 - mse: 14.0911\n",
            "Epoch 188/250\n",
            "2/2 [==============================] - 0s 2ms/step - loss: 3.0615 - mae: 3.0615 - mse: 13.8720\n",
            "Epoch 189/250\n",
            "2/2 [==============================] - 0s 2ms/step - loss: 3.0173 - mae: 3.0173 - mse: 13.4298\n",
            "Epoch 190/250\n",
            "2/2 [==============================] - 0s 2ms/step - loss: 2.9744 - mae: 2.9744 - mse: 12.9553\n",
            "Epoch 191/250\n",
            "2/2 [==============================] - 0s 2ms/step - loss: 2.9376 - mae: 2.9376 - mse: 12.4434\n",
            "Epoch 192/250\n",
            "2/2 [==============================] - 0s 2ms/step - loss: 2.8970 - mae: 2.8970 - mse: 12.1063\n",
            "Epoch 193/250\n",
            "2/2 [==============================] - 0s 2ms/step - loss: 2.8585 - mae: 2.8585 - mse: 12.0820\n",
            "Epoch 194/250\n",
            "2/2 [==============================] - 0s 2ms/step - loss: 2.8368 - mae: 2.8368 - mse: 11.9712\n",
            "Epoch 195/250\n",
            "2/2 [==============================] - 0s 2ms/step - loss: 2.7905 - mae: 2.7905 - mse: 11.4794\n",
            "Epoch 196/250\n",
            "2/2 [==============================] - 0s 2ms/step - loss: 2.7596 - mae: 2.7596 - mse: 11.3498\n",
            "Epoch 197/250\n",
            "2/2 [==============================] - 0s 2ms/step - loss: 2.6866 - mae: 2.6866 - mse: 10.6900\n",
            "Epoch 198/250\n",
            "2/2 [==============================] - 0s 2ms/step - loss: 2.6843 - mae: 2.6843 - mse: 9.9349\n",
            "Epoch 199/250\n",
            "2/2 [==============================] - 0s 2ms/step - loss: 2.5952 - mae: 2.5952 - mse: 9.8035\n",
            "Epoch 200/250\n",
            "2/2 [==============================] - 0s 2ms/step - loss: 2.6007 - mae: 2.6007 - mse: 10.1874\n",
            "Epoch 201/250\n",
            "2/2 [==============================] - 0s 2ms/step - loss: 2.6522 - mae: 2.6522 - mse: 10.5037\n",
            "Epoch 202/250\n",
            "2/2 [==============================] - 0s 2ms/step - loss: 2.5515 - mae: 2.5515 - mse: 9.7838\n",
            "Epoch 203/250\n",
            "2/2 [==============================] - 0s 2ms/step - loss: 2.4055 - mae: 2.4055 - mse: 8.3455\n",
            "Epoch 204/250\n",
            "2/2 [==============================] - 0s 2ms/step - loss: 2.4533 - mae: 2.4533 - mse: 7.9676\n",
            "Epoch 205/250\n",
            "2/2 [==============================] - 0s 2ms/step - loss: 2.3427 - mae: 2.3427 - mse: 8.1415\n",
            "Epoch 206/250\n",
            "2/2 [==============================] - 0s 2ms/step - loss: 2.3530 - mae: 2.3530 - mse: 8.2980\n",
            "Epoch 207/250\n",
            "2/2 [==============================] - 0s 2ms/step - loss: 2.2956 - mae: 2.2956 - mse: 7.8853\n",
            "Epoch 208/250\n",
            "2/2 [==============================] - 0s 2ms/step - loss: 2.1874 - mae: 2.1874 - mse: 7.0509\n",
            "Epoch 209/250\n",
            "2/2 [==============================] - 0s 2ms/step - loss: 2.2941 - mae: 2.2941 - mse: 6.6056\n",
            "Epoch 210/250\n",
            "2/2 [==============================] - 0s 2ms/step - loss: 2.1557 - mae: 2.1557 - mse: 6.3381\n",
            "Epoch 211/250\n",
            "2/2 [==============================] - 0s 2ms/step - loss: 2.2535 - mae: 2.2535 - mse: 7.4823\n",
            "Epoch 212/250\n",
            "2/2 [==============================] - 0s 2ms/step - loss: 2.1957 - mae: 2.1957 - mse: 7.1330\n",
            "Epoch 213/250\n",
            "2/2 [==============================] - 0s 2ms/step - loss: 2.0170 - mae: 2.0170 - mse: 5.6839\n",
            "Epoch 214/250\n",
            "2/2 [==============================] - 0s 2ms/step - loss: 2.0232 - mae: 2.0232 - mse: 5.2293\n",
            "Epoch 215/250\n",
            "2/2 [==============================] - 0s 2ms/step - loss: 1.8803 - mae: 1.8803 - mse: 5.3744\n",
            "Epoch 216/250\n",
            "2/2 [==============================] - 0s 2ms/step - loss: 2.0388 - mae: 2.0388 - mse: 6.1268\n",
            "Epoch 217/250\n",
            "2/2 [==============================] - 0s 2ms/step - loss: 1.9452 - mae: 1.9452 - mse: 5.5492\n",
            "Epoch 218/250\n",
            "2/2 [==============================] - 0s 2ms/step - loss: 1.7573 - mae: 1.7573 - mse: 4.3549\n",
            "Epoch 219/250\n",
            "2/2 [==============================] - 0s 2ms/step - loss: 1.8903 - mae: 1.8903 - mse: 4.0727\n",
            "Epoch 220/250\n",
            "2/2 [==============================] - 0s 2ms/step - loss: 1.6933 - mae: 1.6933 - mse: 3.7730\n",
            "Epoch 221/250\n",
            "2/2 [==============================] - 0s 2ms/step - loss: 1.6833 - mae: 1.6833 - mse: 4.2386\n",
            "Epoch 222/250\n",
            "2/2 [==============================] - 0s 2ms/step - loss: 1.6788 - mae: 1.6788 - mse: 4.1076\n",
            "Epoch 223/250\n",
            "2/2 [==============================] - 0s 2ms/step - loss: 1.4995 - mae: 1.4995 - mse: 3.2408\n",
            "Epoch 224/250\n",
            "2/2 [==============================] - 0s 2ms/step - loss: 1.5632 - mae: 1.5632 - mse: 2.9726\n",
            "Epoch 225/250\n",
            "2/2 [==============================] - 0s 2ms/step - loss: 1.4056 - mae: 1.4056 - mse: 2.7783\n",
            "Epoch 226/250\n",
            "2/2 [==============================] - 0s 2ms/step - loss: 1.5181 - mae: 1.5181 - mse: 3.3785\n",
            "Epoch 227/250\n",
            "2/2 [==============================] - 0s 2ms/step - loss: 1.3909 - mae: 1.3909 - mse: 2.8378\n",
            "Epoch 228/250\n",
            "2/2 [==============================] - 0s 2ms/step - loss: 1.4021 - mae: 1.4021 - mse: 2.2066\n",
            "Epoch 229/250\n",
            "2/2 [==============================] - 0s 2ms/step - loss: 1.4717 - mae: 1.4717 - mse: 2.2219\n",
            "Epoch 230/250\n",
            "2/2 [==============================] - 0s 2ms/step - loss: 1.2240 - mae: 1.2240 - mse: 1.8164\n",
            "Epoch 231/250\n",
            "2/2 [==============================] - 0s 2ms/step - loss: 1.3229 - mae: 1.3229 - mse: 2.5154\n",
            "Epoch 232/250\n",
            "2/2 [==============================] - 0s 2ms/step - loss: 1.2904 - mae: 1.2904 - mse: 2.4216\n",
            "Epoch 233/250\n",
            "2/2 [==============================] - 0s 2ms/step - loss: 1.1321 - mae: 1.1321 - mse: 1.4925\n",
            "Epoch 234/250\n",
            "2/2 [==============================] - 0s 2ms/step - loss: 1.2822 - mae: 1.2822 - mse: 1.6474\n",
            "Epoch 235/250\n",
            "2/2 [==============================] - 0s 2ms/step - loss: 1.0526 - mae: 1.0526 - mse: 1.2675\n",
            "Epoch 236/250\n",
            "2/2 [==============================] - 0s 2ms/step - loss: 1.0564 - mae: 1.0564 - mse: 1.5997\n",
            "Epoch 237/250\n",
            "2/2 [==============================] - 0s 2ms/step - loss: 0.9703 - mae: 0.9703 - mse: 1.3221\n",
            "Epoch 238/250\n",
            "2/2 [==============================] - 0s 2ms/step - loss: 0.9120 - mae: 0.9120 - mse: 0.8802\n",
            "Epoch 239/250\n",
            "2/2 [==============================] - 0s 2ms/step - loss: 0.9076 - mae: 0.9076 - mse: 0.8340\n",
            "Epoch 240/250\n",
            "2/2 [==============================] - 0s 2ms/step - loss: 0.6740 - mae: 0.6740 - mse: 0.6935\n",
            "Epoch 241/250\n",
            "2/2 [==============================] - 0s 2ms/step - loss: 0.6861 - mae: 0.6861 - mse: 0.6819\n",
            "Epoch 242/250\n",
            "2/2 [==============================] - 0s 2ms/step - loss: 0.7251 - mae: 0.7251 - mse: 0.5391\n",
            "Epoch 243/250\n",
            "2/2 [==============================] - 0s 10ms/step - loss: 0.7534 - mae: 0.7534 - mse: 0.6113\n",
            "Epoch 244/250\n",
            "2/2 [==============================] - 0s 2ms/step - loss: 0.4895 - mae: 0.4895 - mse: 0.2834\n",
            "Epoch 245/250\n",
            "2/2 [==============================] - 0s 7ms/step - loss: 0.5368 - mae: 0.5368 - mse: 0.3904\n",
            "Epoch 246/250\n",
            "2/2 [==============================] - 0s 2ms/step - loss: 0.3780 - mae: 0.3780 - mse: 0.1592\n",
            "Epoch 247/250\n",
            "2/2 [==============================] - 0s 2ms/step - loss: 0.2754 - mae: 0.2754 - mse: 0.1128\n",
            "Epoch 248/250\n",
            "2/2 [==============================] - 0s 2ms/step - loss: 0.2585 - mae: 0.2585 - mse: 0.0928\n",
            "Epoch 249/250\n",
            "2/2 [==============================] - 0s 2ms/step - loss: 0.2302 - mae: 0.2302 - mse: 0.0576\n",
            "Epoch 250/250\n",
            "2/2 [==============================] - 0s 2ms/step - loss: 0.3556 - mae: 0.3556 - mse: 0.1702\n"
          ]
        },
        {
          "data": {
            "text/plain": [
              "<keras.src.callbacks.History at 0x2c7b5cc50>"
            ]
          },
          "execution_count": 197,
          "metadata": {},
          "output_type": "execute_result"
        }
      ],
      "source": [
        "model_3 = tf.keras.Sequential([\n",
        "    tf.keras.layers.Dense(100),\n",
        "    tf.keras.layers.Dense(1)\n",
        "])\n",
        "\n",
        "model_3.compile(loss=tf.keras.losses.mae,\n",
        "                optimizer=tf.keras.optimizers.Adam(),\n",
        "                metrics=[\"mae\", \"mse\"])\n",
        "\n",
        "model_3.fit(tf.expand_dims(X_train, axis=-1), y_train, epochs=250)"
      ]
    },
    {
      "cell_type": "code",
      "execution_count": 198,
      "metadata": {
        "colab": {
          "base_uri": "https://localhost:8080/",
          "height": 651
        },
        "id": "CR2PZijoPw_K",
        "outputId": "4d23edf8-3440-493f-b819-616590c03d68"
      },
      "outputs": [
        {
          "name": "stdout",
          "output_type": "stream",
          "text": [
            "1/1 [==============================] - 0s 26ms/step\n"
          ]
        },
        {
          "data": {
            "text/plain": [
              "(<tf.Tensor: shape=(), dtype=float32, numpy=0.23763886>,\n",
              " <tf.Tensor: shape=(), dtype=float32, numpy=0.056979537>)"
            ]
          },
          "execution_count": 198,
          "metadata": {},
          "output_type": "execute_result"
        },
        {
          "data": {
            "image/png": "[encoded data removed]",
            "text/plain": [
              "<Figure size 1000x700 with 1 Axes>"
            ]
          },
          "metadata": {},
          "output_type": "display_data"
        }
      ],
      "source": [
        "# Make and plot predictions\n",
        "y_pred_3 = model_3.predict(X_test)\n",
        "plotting_function(predictions=y_pred_3)\n",
        "mae_3 = mae(y_pred_3)\n",
        "mse_3 = mse(y_pred_3)\n",
        "mae_3, mse_3"
      ]
    },
    {
      "cell_type": "markdown",
      "metadata": {
        "id": "2WylRB4xP_nN"
      },
      "source": [
        "## Comparing results of our experiments"
      ]
    },
    {
      "cell_type": "code",
      "execution_count": 199,
      "metadata": {
        "colab": {
          "base_uri": "https://localhost:8080/",
          "height": 143
        },
        "id": "8GX7WgSZQY8S",
        "outputId": "4e1a0f75-24be-4e1d-cb41-e2679ab0b778"
      },
      "outputs": [
        {
          "data": {
            "text/html": [
              "<div>\n",
              "<style scoped>\n",
              "    .dataframe tbody tr th:only-of-type {\n",
              "        vertical-align: middle;\n",
              "    }\n",
              "\n",
              "    .dataframe tbody tr th {\n",
              "        vertical-align: top;\n",
              "    }\n",
              "\n",
              "    .dataframe thead th {\n",
              "        text-align: right;\n",
              "    }\n",
              "</style>\n",
              "<table border=\"1\" class=\"dataframe\">\n",
              "  <thead>\n",
              "    <tr style=\"text-align: right;\">\n",
              "      <th></th>\n",
              "      <th>model</th>\n",
              "      <th>mae</th>\n",
              "      <th>mse</th>\n",
              "    </tr>\n",
              "  </thead>\n",
              "  <tbody>\n",
              "    <tr>\n",
              "      <th>0</th>\n",
              "      <td>model_1</td>\n",
              "      <td>18.717316</td>\n",
              "      <td>352.515564</td>\n",
              "    </tr>\n",
              "    <tr>\n",
              "      <th>1</th>\n",
              "      <td>model_2</td>\n",
              "      <td>13.351120</td>\n",
              "      <td>188.343475</td>\n",
              "    </tr>\n",
              "    <tr>\n",
              "      <th>2</th>\n",
              "      <td>model_3</td>\n",
              "      <td>0.237639</td>\n",
              "      <td>0.056980</td>\n",
              "    </tr>\n",
              "  </tbody>\n",
              "</table>\n",
              "</div>"
            ],
            "text/plain": [
              "     model        mae         mse\n",
              "0  model_1  18.717316  352.515564\n",
              "1  model_2  13.351120  188.343475\n",
              "2  model_3   0.237639    0.056980"
            ]
          },
          "execution_count": 199,
          "metadata": {},
          "output_type": "execute_result"
        }
      ],
      "source": [
        "import pandas as pd\n",
        "\n",
        "model_results = [[\"model_1\", mae_1.numpy(), mse_1.numpy()],\n",
        "                 [\"model_2\", mae_2.numpy(), mse_2.numpy()],\n",
        "                 [\"model_3\", mae_3.numpy(), mse_3.numpy()]]\n",
        "\n",
        "all_results=pd.DataFrame(model_results, columns=[\"model\", \"mae\", \"mse\"])\n",
        "all_results"
      ]
    },
    {
      "cell_type": "code",
      "execution_count": 200,
      "metadata": {
        "id": "0fJnDA6hRSrc"
      },
      "outputs": [],
      "source": [
        "model_2.save(\"model.keras\")"
      ]
    },
    {
      "cell_type": "markdown",
      "metadata": {
        "id": "6GaqM-T7Ssw7"
      },
      "source": [
        "### Download a file from colab"
      ]
    },
    {
      "cell_type": "code",
      "execution_count": 201,
      "metadata": {
        "colab": {
          "base_uri": "https://localhost:8080/"
        },
        "id": "8mlnwI8MWiyu",
        "outputId": "1da1e5eb-3a88-4ab0-d28c-734b8253f8e8"
      },
      "outputs": [],
      "source": [
        "# from google.colab import files\n",
        "# files.download(\"model\")"
      ]
    },
    {
      "cell_type": "markdown",
      "metadata": {
        "id": "4OKXDgDnWxVI"
      },
      "source": [
        "# A larger example"
      ]
    },
    {
      "cell_type": "code",
      "execution_count": 202,
      "metadata": {
        "id": "Ltv7chDPolsp"
      },
      "outputs": [],
      "source": [
        "import tensorflow as tf\n",
        "import pandas as pd\n",
        "import numpy as np\n",
        "import matplotlib.pyplot as plt"
      ]
    },
    {
      "cell_type": "code",
      "execution_count": 203,
      "metadata": {
        "colab": {
          "base_uri": "https://localhost:8080/",
          "height": 423
        },
        "id": "_DYMFpAqpflS",
        "outputId": "3db4c5a6-acf8-45c9-e6a8-3e299d86322c"
      },
      "outputs": [
        {
          "data": {
            "text/html": [
              "<div>\n",
              "<style scoped>\n",
              "    .dataframe tbody tr th:only-of-type {\n",
              "        vertical-align: middle;\n",
              "    }\n",
              "\n",
              "    .dataframe tbody tr th {\n",
              "        vertical-align: top;\n",
              "    }\n",
              "\n",
              "    .dataframe thead th {\n",
              "        text-align: right;\n",
              "    }\n",
              "</style>\n",
              "<table border=\"1\" class=\"dataframe\">\n",
              "  <thead>\n",
              "    <tr style=\"text-align: right;\">\n",
              "      <th></th>\n",
              "      <th>age</th>\n",
              "      <th>sex</th>\n",
              "      <th>bmi</th>\n",
              "      <th>children</th>\n",
              "      <th>smoker</th>\n",
              "      <th>region</th>\n",
              "      <th>charges</th>\n",
              "    </tr>\n",
              "  </thead>\n",
              "  <tbody>\n",
              "    <tr>\n",
              "      <th>0</th>\n",
              "      <td>19</td>\n",
              "      <td>female</td>\n",
              "      <td>27.900</td>\n",
              "      <td>0</td>\n",
              "      <td>yes</td>\n",
              "      <td>southwest</td>\n",
              "      <td>16884.92400</td>\n",
              "    </tr>\n",
              "    <tr>\n",
              "      <th>1</th>\n",
              "      <td>18</td>\n",
              "      <td>male</td>\n",
              "      <td>33.770</td>\n",
              "      <td>1</td>\n",
              "      <td>no</td>\n",
              "      <td>southeast</td>\n",
              "      <td>1725.55230</td>\n",
              "    </tr>\n",
              "    <tr>\n",
              "      <th>2</th>\n",
              "      <td>28</td>\n",
              "      <td>male</td>\n",
              "      <td>33.000</td>\n",
              "      <td>3</td>\n",
              "      <td>no</td>\n",
              "      <td>southeast</td>\n",
              "      <td>4449.46200</td>\n",
              "    </tr>\n",
              "    <tr>\n",
              "      <th>3</th>\n",
              "      <td>33</td>\n",
              "      <td>male</td>\n",
              "      <td>22.705</td>\n",
              "      <td>0</td>\n",
              "      <td>no</td>\n",
              "      <td>northwest</td>\n",
              "      <td>21984.47061</td>\n",
              "    </tr>\n",
              "    <tr>\n",
              "      <th>4</th>\n",
              "      <td>32</td>\n",
              "      <td>male</td>\n",
              "      <td>28.880</td>\n",
              "      <td>0</td>\n",
              "      <td>no</td>\n",
              "      <td>northwest</td>\n",
              "      <td>3866.85520</td>\n",
              "    </tr>\n",
              "    <tr>\n",
              "      <th>...</th>\n",
              "      <td>...</td>\n",
              "      <td>...</td>\n",
              "      <td>...</td>\n",
              "      <td>...</td>\n",
              "      <td>...</td>\n",
              "      <td>...</td>\n",
              "      <td>...</td>\n",
              "    </tr>\n",
              "    <tr>\n",
              "      <th>1333</th>\n",
              "      <td>50</td>\n",
              "      <td>male</td>\n",
              "      <td>30.970</td>\n",
              "      <td>3</td>\n",
              "      <td>no</td>\n",
              "      <td>northwest</td>\n",
              "      <td>10600.54830</td>\n",
              "    </tr>\n",
              "    <tr>\n",
              "      <th>1334</th>\n",
              "      <td>18</td>\n",
              "      <td>female</td>\n",
              "      <td>31.920</td>\n",
              "      <td>0</td>\n",
              "      <td>no</td>\n",
              "      <td>northeast</td>\n",
              "      <td>2205.98080</td>\n",
              "    </tr>\n",
              "    <tr>\n",
              "      <th>1335</th>\n",
              "      <td>18</td>\n",
              "      <td>female</td>\n",
              "      <td>36.850</td>\n",
              "      <td>0</td>\n",
              "      <td>no</td>\n",
              "      <td>southeast</td>\n",
              "      <td>1629.83350</td>\n",
              "    </tr>\n",
              "    <tr>\n",
              "      <th>1336</th>\n",
              "      <td>21</td>\n",
              "      <td>female</td>\n",
              "      <td>25.800</td>\n",
              "      <td>0</td>\n",
              "      <td>no</td>\n",
              "      <td>southwest</td>\n",
              "      <td>2007.94500</td>\n",
              "    </tr>\n",
              "    <tr>\n",
              "      <th>1337</th>\n",
              "      <td>61</td>\n",
              "      <td>female</td>\n",
              "      <td>29.070</td>\n",
              "      <td>0</td>\n",
              "      <td>yes</td>\n",
              "      <td>northwest</td>\n",
              "      <td>29141.36030</td>\n",
              "    </tr>\n",
              "  </tbody>\n",
              "</table>\n",
              "<p>1338 rows × 7 columns</p>\n",
              "</div>"
            ],
            "text/plain": [
              "      age     sex     bmi  children smoker     region      charges\n",
              "0      19  female  27.900         0    yes  southwest  16884.92400\n",
              "1      18    male  33.770         1     no  southeast   1725.55230\n",
              "2      28    male  33.000         3     no  southeast   4449.46200\n",
              "3      33    male  22.705         0     no  northwest  21984.47061\n",
              "4      32    male  28.880         0     no  northwest   3866.85520\n",
              "...   ...     ...     ...       ...    ...        ...          ...\n",
              "1333   50    male  30.970         3     no  northwest  10600.54830\n",
              "1334   18  female  31.920         0     no  northeast   2205.98080\n",
              "1335   18  female  36.850         0     no  southeast   1629.83350\n",
              "1336   21  female  25.800         0     no  southwest   2007.94500\n",
              "1337   61  female  29.070         0    yes  northwest  29141.36030\n",
              "\n",
              "[1338 rows x 7 columns]"
            ]
          },
          "execution_count": 203,
          "metadata": {},
          "output_type": "execute_result"
        }
      ],
      "source": [
        "insurance = pd.read_csv(\"https://raw.githubusercontent.com/stedy/Machine-Learning-with-R-datasets/master/insurance.csv\")\n",
        "insurance"
      ]
    },
    {
      "cell_type": "code",
      "execution_count": 204,
      "metadata": {
        "colab": {
          "base_uri": "https://localhost:8080/",
          "height": 206
        },
        "id": "EQkCHiHCph1B",
        "outputId": "da3de2b4-f0a4-4079-bd99-755d24ab83b9"
      },
      "outputs": [
        {
          "data": {
            "text/html": [
              "<div>\n",
              "<style scoped>\n",
              "    .dataframe tbody tr th:only-of-type {\n",
              "        vertical-align: middle;\n",
              "    }\n",
              "\n",
              "    .dataframe tbody tr th {\n",
              "        vertical-align: top;\n",
              "    }\n",
              "\n",
              "    .dataframe thead th {\n",
              "        text-align: right;\n",
              "    }\n",
              "</style>\n",
              "<table border=\"1\" class=\"dataframe\">\n",
              "  <thead>\n",
              "    <tr style=\"text-align: right;\">\n",
              "      <th></th>\n",
              "      <th>age</th>\n",
              "      <th>bmi</th>\n",
              "      <th>children</th>\n",
              "      <th>charges</th>\n",
              "      <th>sex_female</th>\n",
              "      <th>sex_male</th>\n",
              "      <th>smoker_no</th>\n",
              "      <th>smoker_yes</th>\n",
              "      <th>region_northeast</th>\n",
              "      <th>region_northwest</th>\n",
              "      <th>region_southeast</th>\n",
              "      <th>region_southwest</th>\n",
              "    </tr>\n",
              "  </thead>\n",
              "  <tbody>\n",
              "    <tr>\n",
              "      <th>0</th>\n",
              "      <td>19</td>\n",
              "      <td>27.900</td>\n",
              "      <td>0</td>\n",
              "      <td>16884.92400</td>\n",
              "      <td>True</td>\n",
              "      <td>False</td>\n",
              "      <td>False</td>\n",
              "      <td>True</td>\n",
              "      <td>False</td>\n",
              "      <td>False</td>\n",
              "      <td>False</td>\n",
              "      <td>True</td>\n",
              "    </tr>\n",
              "    <tr>\n",
              "      <th>1</th>\n",
              "      <td>18</td>\n",
              "      <td>33.770</td>\n",
              "      <td>1</td>\n",
              "      <td>1725.55230</td>\n",
              "      <td>False</td>\n",
              "      <td>True</td>\n",
              "      <td>True</td>\n",
              "      <td>False</td>\n",
              "      <td>False</td>\n",
              "      <td>False</td>\n",
              "      <td>True</td>\n",
              "      <td>False</td>\n",
              "    </tr>\n",
              "    <tr>\n",
              "      <th>2</th>\n",
              "      <td>28</td>\n",
              "      <td>33.000</td>\n",
              "      <td>3</td>\n",
              "      <td>4449.46200</td>\n",
              "      <td>False</td>\n",
              "      <td>True</td>\n",
              "      <td>True</td>\n",
              "      <td>False</td>\n",
              "      <td>False</td>\n",
              "      <td>False</td>\n",
              "      <td>True</td>\n",
              "      <td>False</td>\n",
              "    </tr>\n",
              "    <tr>\n",
              "      <th>3</th>\n",
              "      <td>33</td>\n",
              "      <td>22.705</td>\n",
              "      <td>0</td>\n",
              "      <td>21984.47061</td>\n",
              "      <td>False</td>\n",
              "      <td>True</td>\n",
              "      <td>True</td>\n",
              "      <td>False</td>\n",
              "      <td>False</td>\n",
              "      <td>True</td>\n",
              "      <td>False</td>\n",
              "      <td>False</td>\n",
              "    </tr>\n",
              "    <tr>\n",
              "      <th>4</th>\n",
              "      <td>32</td>\n",
              "      <td>28.880</td>\n",
              "      <td>0</td>\n",
              "      <td>3866.85520</td>\n",
              "      <td>False</td>\n",
              "      <td>True</td>\n",
              "      <td>True</td>\n",
              "      <td>False</td>\n",
              "      <td>False</td>\n",
              "      <td>True</td>\n",
              "      <td>False</td>\n",
              "      <td>False</td>\n",
              "    </tr>\n",
              "  </tbody>\n",
              "</table>\n",
              "</div>"
            ],
            "text/plain": [
              "   age     bmi  children      charges  sex_female  sex_male  smoker_no  \\\n",
              "0   19  27.900         0  16884.92400        True     False      False   \n",
              "1   18  33.770         1   1725.55230       False      True       True   \n",
              "2   28  33.000         3   4449.46200       False      True       True   \n",
              "3   33  22.705         0  21984.47061       False      True       True   \n",
              "4   32  28.880         0   3866.85520       False      True       True   \n",
              "\n",
              "   smoker_yes  region_northeast  region_northwest  region_southeast  \\\n",
              "0        True             False             False             False   \n",
              "1       False             False             False              True   \n",
              "2       False             False             False              True   \n",
              "3       False             False              True             False   \n",
              "4       False             False              True             False   \n",
              "\n",
              "   region_southwest  \n",
              "0              True  \n",
              "1             False  \n",
              "2             False  \n",
              "3             False  \n",
              "4             False  "
            ]
          },
          "execution_count": 204,
          "metadata": {},
          "output_type": "execute_result"
        }
      ],
      "source": [
        "insurance_one_hot = pd.get_dummies(insurance)\n",
        "insurance_one_hot.head()"
      ]
    },
    {
      "cell_type": "code",
      "execution_count": 205,
      "metadata": {
        "id": "0JDxGHK5pzCA"
      },
      "outputs": [],
      "source": [
        "# Separate X and y\n",
        "X = insurance_one_hot.drop(\"charges\", axis=1).to_numpy(dtype=np.float32)\n",
        "y = insurance_one_hot[\"charges\"].to_numpy(dtype=np.float32)"
      ]
    },
    {
      "cell_type": "code",
      "execution_count": 206,
      "metadata": {
        "colab": {
          "base_uri": "https://localhost:8080/",
          "height": 423
        },
        "id": "i7Gc5It6rvpx",
        "outputId": "6688af08-0483-490b-9adb-f57dd85f1c9c"
      },
      "outputs": [
        {
          "data": {
            "text/plain": [
              "array([[19.  , 27.9 ,  0.  , ...,  0.  ,  0.  ,  1.  ],\n",
              "       [18.  , 33.77,  1.  , ...,  0.  ,  1.  ,  0.  ],\n",
              "       [28.  , 33.  ,  3.  , ...,  0.  ,  1.  ,  0.  ],\n",
              "       ...,\n",
              "       [18.  , 36.85,  0.  , ...,  0.  ,  1.  ,  0.  ],\n",
              "       [21.  , 25.8 ,  0.  , ...,  0.  ,  0.  ,  1.  ],\n",
              "       [61.  , 29.07,  0.  , ...,  1.  ,  0.  ,  0.  ]], dtype=float32)"
            ]
          },
          "execution_count": 206,
          "metadata": {},
          "output_type": "execute_result"
        }
      ],
      "source": [
        "X"
      ]
    },
    {
      "cell_type": "code",
      "execution_count": 207,
      "metadata": {
        "colab": {
          "base_uri": "https://localhost:8080/"
        },
        "id": "Bg5mCwsUrCC5",
        "outputId": "deccb77a-bd8b-43a2-c4ea-243d1d2512f3"
      },
      "outputs": [
        {
          "data": {
            "text/plain": [
              "array([16884.924 ,  1725.5522,  4449.462 , ...,  1629.8335,  2007.945 ,\n",
              "       29141.36  ], dtype=float32)"
            ]
          },
          "execution_count": 207,
          "metadata": {},
          "output_type": "execute_result"
        }
      ],
      "source": [
        "y"
      ]
    },
    {
      "cell_type": "code",
      "execution_count": 208,
      "metadata": {
        "colab": {
          "base_uri": "https://localhost:8080/"
        },
        "id": "RiiTPFfrrjYZ",
        "outputId": "86467e92-d50e-4d94-a772-5cd26e4ea66b"
      },
      "outputs": [
        {
          "data": {
            "text/plain": [
              "(1338, 1070, 268, 1338, 1070, 268)"
            ]
          },
          "execution_count": 208,
          "metadata": {},
          "output_type": "execute_result"
        }
      ],
      "source": [
        "from sklearn.model_selection import train_test_split\n",
        "\n",
        "X_train, X_test, y_train, y_test = train_test_split(X, y, test_size=0.2)\n",
        "len(X), len(X_train), len(X_test), len(y), len(y_train), len(y_test)"
      ]
    },
    {
      "cell_type": "code",
      "execution_count": 209,
      "metadata": {
        "colab": {
          "base_uri": "https://localhost:8080/"
        },
        "id": "efjVwwEnsV7F",
        "outputId": "2644fd24-cdd3-4f43-8864-1ddc333d34f5"
      },
      "outputs": [
        {
          "name": "stdout",
          "output_type": "stream",
          "text": [
            "Epoch 1/100\n"
          ]
        },
        {
          "name": "stdout",
          "output_type": "stream",
          "text": [
            "34/34 [==============================] - 0s 606us/step - loss: 8564.7764 - mae: 8564.7764\n",
            "Epoch 2/100\n",
            "34/34 [==============================] - 0s 539us/step - loss: 7667.3652 - mae: 7667.3652\n",
            "Epoch 3/100\n",
            "34/34 [==============================] - 0s 583us/step - loss: 7514.4448 - mae: 7514.4448\n",
            "Epoch 4/100\n",
            "34/34 [==============================] - 0s 513us/step - loss: 7757.3950 - mae: 7757.3950\n",
            "Epoch 5/100\n",
            "34/34 [==============================] - 0s 525us/step - loss: 7410.8579 - mae: 7410.8579\n",
            "Epoch 6/100\n",
            "34/34 [==============================] - 0s 513us/step - loss: 7544.1787 - mae: 7544.1787\n",
            "Epoch 7/100\n",
            "34/34 [==============================] - 0s 497us/step - loss: 7791.8931 - mae: 7791.8931\n",
            "Epoch 8/100\n",
            "34/34 [==============================] - 0s 500us/step - loss: 7451.3145 - mae: 7451.3145\n",
            "Epoch 9/100\n",
            "34/34 [==============================] - 0s 491us/step - loss: 7666.8296 - mae: 7666.8296\n",
            "Epoch 10/100\n",
            "34/34 [==============================] - 0s 494us/step - loss: 7607.2554 - mae: 7607.2554\n",
            "Epoch 11/100\n",
            "34/34 [==============================] - 0s 502us/step - loss: 7622.0078 - mae: 7622.0078\n",
            "Epoch 12/100\n",
            "34/34 [==============================] - 0s 504us/step - loss: 7701.4575 - mae: 7701.4575\n",
            "Epoch 13/100\n",
            "34/34 [==============================] - 0s 499us/step - loss: 7657.9565 - mae: 7657.9565\n",
            "Epoch 14/100\n",
            "34/34 [==============================] - 0s 532us/step - loss: 7389.0942 - mae: 7389.0942\n",
            "Epoch 15/100\n",
            "34/34 [==============================] - 0s 538us/step - loss: 7468.4541 - mae: 7468.4541\n",
            "Epoch 16/100\n",
            "34/34 [==============================] - 0s 554us/step - loss: 7542.3159 - mae: 7542.3159\n",
            "Epoch 17/100\n",
            "34/34 [==============================] - 0s 503us/step - loss: 7702.5200 - mae: 7702.5200\n",
            "Epoch 18/100\n",
            "34/34 [==============================] - 0s 501us/step - loss: 7542.2510 - mae: 7542.2510\n",
            "Epoch 19/100\n",
            "34/34 [==============================] - 0s 499us/step - loss: 7552.6670 - mae: 7552.6670\n",
            "Epoch 20/100\n",
            "34/34 [==============================] - 0s 496us/step - loss: 7543.7905 - mae: 7543.7905\n",
            "Epoch 21/100\n",
            "34/34 [==============================] - 0s 518us/step - loss: 7627.2930 - mae: 7627.2930\n",
            "Epoch 22/100\n",
            "34/34 [==============================] - 0s 510us/step - loss: 7660.9399 - mae: 7660.9399\n",
            "Epoch 23/100\n",
            "34/34 [==============================] - 0s 501us/step - loss: 7351.2651 - mae: 7351.2651\n",
            "Epoch 24/100\n",
            "34/34 [==============================] - 0s 495us/step - loss: 7720.7222 - mae: 7720.7222\n",
            "Epoch 25/100\n",
            "34/34 [==============================] - 0s 499us/step - loss: 7575.4810 - mae: 7575.4810\n",
            "Epoch 26/100\n",
            "34/34 [==============================] - 0s 503us/step - loss: 7513.2964 - mae: 7513.2964\n",
            "Epoch 27/100\n",
            "34/34 [==============================] - 0s 496us/step - loss: 7241.6685 - mae: 7241.6685\n",
            "Epoch 28/100\n",
            "34/34 [==============================] - 0s 501us/step - loss: 7624.0850 - mae: 7624.0850\n",
            "Epoch 29/100\n",
            "34/34 [==============================] - 0s 498us/step - loss: 7430.0625 - mae: 7430.0625\n",
            "Epoch 30/100\n",
            "34/34 [==============================] - 0s 568us/step - loss: 7770.3145 - mae: 7770.3145\n",
            "Epoch 31/100\n",
            "34/34 [==============================] - 0s 519us/step - loss: 7567.6899 - mae: 7567.6899\n",
            "Epoch 32/100\n",
            "34/34 [==============================] - 0s 500us/step - loss: 7536.7188 - mae: 7536.7188\n",
            "Epoch 33/100\n",
            "34/34 [==============================] - 0s 491us/step - loss: 7455.5312 - mae: 7455.5312\n",
            "Epoch 34/100\n",
            "34/34 [==============================] - 0s 500us/step - loss: 7537.2983 - mae: 7537.2983\n",
            "Epoch 35/100\n",
            "34/34 [==============================] - 0s 502us/step - loss: 7247.6851 - mae: 7247.6851\n",
            "Epoch 36/100\n",
            "34/34 [==============================] - 0s 499us/step - loss: 7484.5015 - mae: 7484.5015\n",
            "Epoch 37/100\n",
            "34/34 [==============================] - 0s 496us/step - loss: 7561.3604 - mae: 7561.3604\n",
            "Epoch 38/100\n",
            "34/34 [==============================] - 0s 502us/step - loss: 7601.5610 - mae: 7601.5610\n",
            "Epoch 39/100\n",
            "34/34 [==============================] - 0s 500us/step - loss: 7454.0186 - mae: 7454.0186\n",
            "Epoch 40/100\n",
            "34/34 [==============================] - 0s 495us/step - loss: 7531.0791 - mae: 7531.0791\n",
            "Epoch 41/100\n",
            "34/34 [==============================] - 0s 492us/step - loss: 7574.3960 - mae: 7574.3960\n",
            "Epoch 42/100\n",
            "34/34 [==============================] - 0s 498us/step - loss: 7700.6909 - mae: 7700.6909\n",
            "Epoch 43/100\n",
            "34/34 [==============================] - 0s 504us/step - loss: 7508.8486 - mae: 7508.8486\n",
            "Epoch 44/100\n",
            "34/34 [==============================] - 0s 564us/step - loss: 7563.6831 - mae: 7563.6831\n",
            "Epoch 45/100\n",
            "34/34 [==============================] - 0s 508us/step - loss: 7540.5776 - mae: 7540.5776\n",
            "Epoch 46/100\n",
            "34/34 [==============================] - 0s 504us/step - loss: 7360.5259 - mae: 7360.5259\n",
            "Epoch 47/100\n",
            "34/34 [==============================] - 0s 519us/step - loss: 7476.1948 - mae: 7476.1948\n",
            "Epoch 48/100\n",
            "34/34 [==============================] - 0s 509us/step - loss: 7478.6968 - mae: 7478.6968\n",
            "Epoch 49/100\n",
            "34/34 [==============================] - 0s 502us/step - loss: 7230.0820 - mae: 7230.0820\n",
            "Epoch 50/100\n",
            "34/34 [==============================] - 0s 494us/step - loss: 7306.6934 - mae: 7306.6934\n",
            "Epoch 51/100\n",
            "34/34 [==============================] - 0s 499us/step - loss: 7486.9951 - mae: 7486.9951\n",
            "Epoch 52/100\n",
            "34/34 [==============================] - 0s 501us/step - loss: 7465.1357 - mae: 7465.1357\n",
            "Epoch 53/100\n",
            "34/34 [==============================] - 0s 504us/step - loss: 7487.9863 - mae: 7487.9863\n",
            "Epoch 54/100\n",
            "34/34 [==============================] - 0s 503us/step - loss: 7573.8589 - mae: 7573.8589\n",
            "Epoch 55/100\n",
            "34/34 [==============================] - 0s 505us/step - loss: 7545.2959 - mae: 7545.2959\n",
            "Epoch 56/100\n",
            "34/34 [==============================] - 0s 507us/step - loss: 7338.4556 - mae: 7338.4556\n",
            "Epoch 57/100\n",
            "34/34 [==============================] - 0s 504us/step - loss: 7378.4868 - mae: 7378.4868\n",
            "Epoch 58/100\n",
            "34/34 [==============================] - 0s 556us/step - loss: 7326.2095 - mae: 7326.2095\n",
            "Epoch 59/100\n",
            "34/34 [==============================] - 0s 506us/step - loss: 7483.9688 - mae: 7483.9688\n",
            "Epoch 60/100\n",
            "34/34 [==============================] - 0s 511us/step - loss: 7463.6611 - mae: 7463.6611\n",
            "Epoch 61/100\n",
            "34/34 [==============================] - 0s 502us/step - loss: 7349.3232 - mae: 7349.3232\n",
            "Epoch 62/100\n",
            "34/34 [==============================] - 0s 497us/step - loss: 7551.9409 - mae: 7551.9409\n",
            "Epoch 63/100\n",
            "34/34 [==============================] - 0s 502us/step - loss: 7457.6211 - mae: 7457.6211\n",
            "Epoch 64/100\n",
            "34/34 [==============================] - 0s 506us/step - loss: 7152.6772 - mae: 7152.6772\n",
            "Epoch 65/100\n",
            "34/34 [==============================] - 0s 499us/step - loss: 7230.2896 - mae: 7230.2896\n",
            "Epoch 66/100\n",
            "34/34 [==============================] - 0s 503us/step - loss: 7399.4380 - mae: 7399.4380\n",
            "Epoch 67/100\n",
            "34/34 [==============================] - 0s 499us/step - loss: 7330.9814 - mae: 7330.9814\n",
            "Epoch 68/100\n",
            "34/34 [==============================] - 0s 501us/step - loss: 7318.7622 - mae: 7318.7622\n",
            "Epoch 69/100\n",
            "34/34 [==============================] - 0s 497us/step - loss: 7173.0327 - mae: 7173.0327\n",
            "Epoch 70/100\n",
            "34/34 [==============================] - 0s 501us/step - loss: 7208.4565 - mae: 7208.4565\n",
            "Epoch 71/100\n",
            "34/34 [==============================] - 0s 495us/step - loss: 7253.4932 - mae: 7253.4932\n",
            "Epoch 72/100\n",
            "34/34 [==============================] - 0s 801us/step - loss: 7336.5210 - mae: 7336.5210\n",
            "Epoch 73/100\n",
            "34/34 [==============================] - 0s 549us/step - loss: 7356.1143 - mae: 7356.1143\n",
            "Epoch 74/100\n",
            "34/34 [==============================] - 0s 507us/step - loss: 7273.5708 - mae: 7273.5708\n",
            "Epoch 75/100\n",
            "34/34 [==============================] - 0s 503us/step - loss: 7257.7344 - mae: 7257.7344\n",
            "Epoch 76/100\n",
            "34/34 [==============================] - 0s 501us/step - loss: 7561.2881 - mae: 7561.2881\n",
            "Epoch 77/100\n",
            "34/34 [==============================] - 0s 511us/step - loss: 7501.5737 - mae: 7501.5737\n",
            "Epoch 78/100\n",
            "34/34 [==============================] - 0s 502us/step - loss: 7224.1636 - mae: 7224.1636\n",
            "Epoch 79/100\n",
            "34/34 [==============================] - 0s 754us/step - loss: 7115.4048 - mae: 7115.4048\n",
            "Epoch 80/100\n",
            "34/34 [==============================] - 0s 977us/step - loss: 7088.7798 - mae: 7088.7798\n",
            "Epoch 81/100\n",
            "34/34 [==============================] - 0s 506us/step - loss: 7220.3369 - mae: 7220.3369\n",
            "Epoch 82/100\n",
            "34/34 [==============================] - 0s 503us/step - loss: 7345.1382 - mae: 7345.1382\n",
            "Epoch 83/100\n",
            "34/34 [==============================] - 0s 567us/step - loss: 7350.2290 - mae: 7350.2290\n",
            "Epoch 84/100\n",
            "34/34 [==============================] - 0s 691us/step - loss: 7496.2769 - mae: 7496.2769\n",
            "Epoch 85/100\n",
            "34/34 [==============================] - 0s 549us/step - loss: 7269.3950 - mae: 7269.3950\n",
            "Epoch 86/100\n",
            "34/34 [==============================] - 0s 654us/step - loss: 7388.4980 - mae: 7388.4980\n",
            "Epoch 87/100\n",
            "34/34 [==============================] - 0s 555us/step - loss: 7173.5981 - mae: 7173.5981\n",
            "Epoch 88/100\n",
            "34/34 [==============================] - 0s 508us/step - loss: 7113.3901 - mae: 7113.3901\n",
            "Epoch 89/100\n",
            "34/34 [==============================] - 0s 504us/step - loss: 7238.0552 - mae: 7238.0552\n",
            "Epoch 90/100\n",
            "34/34 [==============================] - 0s 505us/step - loss: 7235.4673 - mae: 7235.4673\n",
            "Epoch 91/100\n",
            "34/34 [==============================] - 0s 499us/step - loss: 7206.2446 - mae: 7206.2446\n",
            "Epoch 92/100\n",
            "34/34 [==============================] - 0s 499us/step - loss: 7063.8521 - mae: 7063.8521\n",
            "Epoch 93/100\n",
            "34/34 [==============================] - 0s 507us/step - loss: 7256.9971 - mae: 7256.9971\n",
            "Epoch 94/100\n",
            "34/34 [==============================] - 0s 502us/step - loss: 7488.0181 - mae: 7488.0181\n",
            "Epoch 95/100\n",
            "34/34 [==============================] - 0s 497us/step - loss: 7113.8813 - mae: 7113.8813\n",
            "Epoch 96/100\n",
            "34/34 [==============================] - 0s 553us/step - loss: 7243.6763 - mae: 7243.6763\n",
            "Epoch 97/100\n",
            "34/34 [==============================] - 0s 520us/step - loss: 7267.7803 - mae: 7267.7803\n",
            "Epoch 98/100\n",
            "34/34 [==============================] - 0s 514us/step - loss: 7294.2607 - mae: 7294.2607\n",
            "Epoch 99/100\n",
            "34/34 [==============================] - 0s 508us/step - loss: 7162.5513 - mae: 7162.5513\n",
            "Epoch 100/100\n",
            "34/34 [==============================] - 0s 526us/step - loss: 7243.4741 - mae: 7243.4741\n"
          ]
        },
        {
          "data": {
            "text/plain": [
              "<keras.src.callbacks.History at 0x2c8b41010>"
            ]
          },
          "execution_count": 209,
          "metadata": {},
          "output_type": "execute_result"
        }
      ],
      "source": [
        "tf.random.set_seed(42)\n",
        "\n",
        "insurance_model = tf.keras.Sequential([\n",
        "    tf.keras.layers.Dense(10),\n",
        "    tf.keras.layers.Dense(1),\n",
        "])\n",
        "\n",
        "insurance_model.compile(loss=\"mae\",\n",
        "                        optimizer=\"sgd\",\n",
        "                        metrics=[\"mae\"])\n",
        "\n",
        "insurance_model.fit(X_train, y_train, epochs=100)"
      ]
    },
    {
      "cell_type": "code",
      "execution_count": 210,
      "metadata": {
        "colab": {
          "base_uri": "https://localhost:8080/"
        },
        "id": "Hlqu7ssms_ok",
        "outputId": "c2fc91a2-8fb7-4371-a4e5-5efb74fc529e"
      },
      "outputs": [
        {
          "name": "stdout",
          "output_type": "stream",
          "text": [
            "WARNING:tensorflow:5 out of the last 14 calls to <function Model.make_test_function.<locals>.test_function at 0x2c8b3ea20> triggered tf.function retracing. Tracing is expensive and the excessive number of tracings could be due to (1) creating @tf.function repeatedly in a loop, (2) passing tensors with different shapes, (3) passing Python objects instead of tensors. For (1), please define your @tf.function outside of the loop. For (2), @tf.function has reduce_retracing=True option that can avoid unnecessary retracing. For (3), please refer to https://www.tensorflow.org/guide/function#controlling_retracing and https://www.tensorflow.org/api_docs/python/tf/function for  more details.\n"
          ]
        },
        {
          "name": "stderr",
          "output_type": "stream",
          "text": [
            "WARNING:tensorflow:5 out of the last 14 calls to <function Model.make_test_function.<locals>.test_function at 0x2c8b3ea20> triggered tf.function retracing. Tracing is expensive and the excessive number of tracings could be due to (1) creating @tf.function repeatedly in a loop, (2) passing tensors with different shapes, (3) passing Python objects instead of tensors. For (1), please define your @tf.function outside of the loop. For (2), @tf.function has reduce_retracing=True option that can avoid unnecessary retracing. For (3), please refer to https://www.tensorflow.org/guide/function#controlling_retracing and https://www.tensorflow.org/api_docs/python/tf/function for  more details.\n"
          ]
        },
        {
          "name": "stdout",
          "output_type": "stream",
          "text": [
            "9/9 [==============================] - 0s 687us/step - loss: 6740.8325 - mae: 6740.8325\n"
          ]
        },
        {
          "data": {
            "text/plain": [
              "[6740.83251953125, 6740.83251953125]"
            ]
          },
          "execution_count": 210,
          "metadata": {},
          "output_type": "execute_result"
        }
      ],
      "source": [
        "insurance_model.evaluate(X_test, y_test)"
      ]
    },
    {
      "cell_type": "code",
      "execution_count": 211,
      "metadata": {
        "colab": {
          "base_uri": "https://localhost:8080/"
        },
        "id": "GQSc0XJptjpq",
        "outputId": "8c1d10b8-1c55-4128-995f-6fc9b71322f3"
      },
      "outputs": [
        {
          "name": "stderr",
          "output_type": "stream",
          "text": [
            "WARNING:absl:At this time, the v2.11+ optimizer `tf.keras.optimizers.Adam` runs slowly on M1/M2 Macs, please use the legacy Keras optimizer instead, located at `tf.keras.optimizers.legacy.Adam`.\n"
          ]
        },
        {
          "name": "stdout",
          "output_type": "stream",
          "text": [
            "Epoch 1/100\n",
            "34/34 [==============================] - 0s 793us/step - loss: 13176.4570 - mae: 13176.4570 - mse: 319398080.0000\n",
            "Epoch 2/100\n",
            "34/34 [==============================] - 0s 675us/step - loss: 13049.3965 - mae: 13049.3965 - mse: 315773344.0000\n",
            "Epoch 3/100\n",
            "34/34 [==============================] - 0s 632us/step - loss: 12775.1719 - mae: 12775.1719 - mse: 308419840.0000\n",
            "Epoch 4/100\n",
            "34/34 [==============================] - 0s 615us/step - loss: 12209.7373 - mae: 12209.7373 - mse: 293448992.0000\n",
            "Epoch 5/100\n",
            "34/34 [==============================] - 0s 821us/step - loss: 11212.1318 - mae: 11212.1318 - mse: 267690336.0000\n",
            "Epoch 6/100\n",
            "34/34 [==============================] - 0s 638us/step - loss: 9816.5684 - mae: 9816.5684 - mse: 233426496.0000\n",
            "Epoch 7/100\n",
            "34/34 [==============================] - 0s 641us/step - loss: 8407.1191 - mae: 8407.1191 - mse: 196184608.0000\n",
            "Epoch 8/100\n",
            "34/34 [==============================] - 0s 609us/step - loss: 7642.0352 - mae: 7642.0352 - mse: 168049872.0000\n",
            "Epoch 9/100\n",
            "34/34 [==============================] - 0s 630us/step - loss: 7467.9487 - mae: 7467.9487 - mse: 157143040.0000\n",
            "Epoch 10/100\n",
            "34/34 [==============================] - 0s 655us/step - loss: 7433.6533 - mae: 7433.6533 - mse: 154705616.0000\n",
            "Epoch 11/100\n",
            "34/34 [==============================] - 0s 638us/step - loss: 7412.9150 - mae: 7412.9150 - mse: 153604560.0000\n",
            "Epoch 12/100\n",
            "34/34 [==============================] - 0s 616us/step - loss: 7392.2959 - mae: 7392.2959 - mse: 154196928.0000\n",
            "Epoch 13/100\n",
            "34/34 [==============================] - 0s 614us/step - loss: 7369.9956 - mae: 7369.9956 - mse: 154411776.0000\n",
            "Epoch 14/100\n",
            "34/34 [==============================] - 0s 613us/step - loss: 7349.0088 - mae: 7349.0088 - mse: 153102304.0000\n",
            "Epoch 15/100\n",
            "34/34 [==============================] - 0s 609us/step - loss: 7329.8887 - mae: 7329.8887 - mse: 153237680.0000\n",
            "Epoch 16/100\n",
            "34/34 [==============================] - 0s 605us/step - loss: 7305.2324 - mae: 7305.2324 - mse: 154247280.0000\n",
            "Epoch 17/100\n",
            "34/34 [==============================] - 0s 609us/step - loss: 7281.4937 - mae: 7281.4937 - mse: 153124800.0000\n",
            "Epoch 18/100\n",
            "34/34 [==============================] - 0s 614us/step - loss: 7259.8613 - mae: 7259.8613 - mse: 154516672.0000\n",
            "Epoch 19/100\n",
            "34/34 [==============================] - 0s 607us/step - loss: 7234.9175 - mae: 7234.9175 - mse: 153861856.0000\n",
            "Epoch 20/100\n",
            "34/34 [==============================] - 0s 603us/step - loss: 7214.6973 - mae: 7214.6973 - mse: 153606160.0000\n",
            "Epoch 21/100\n",
            "34/34 [==============================] - 0s 608us/step - loss: 7192.1714 - mae: 7192.1714 - mse: 153556960.0000\n",
            "Epoch 22/100\n",
            "34/34 [==============================] - 0s 608us/step - loss: 7162.6553 - mae: 7162.6553 - mse: 154294304.0000\n",
            "Epoch 23/100\n",
            "34/34 [==============================] - 0s 603us/step - loss: 7138.3955 - mae: 7138.3955 - mse: 154769536.0000\n",
            "Epoch 24/100\n",
            "34/34 [==============================] - 0s 607us/step - loss: 7110.2075 - mae: 7110.2075 - mse: 153213584.0000\n",
            "Epoch 25/100\n",
            "34/34 [==============================] - 0s 609us/step - loss: 7086.4766 - mae: 7086.4766 - mse: 153865552.0000\n",
            "Epoch 26/100\n",
            "34/34 [==============================] - 0s 603us/step - loss: 7058.8530 - mae: 7058.8530 - mse: 152567680.0000\n",
            "Epoch 27/100\n",
            "34/34 [==============================] - 0s 622us/step - loss: 7032.9023 - mae: 7032.9023 - mse: 155087328.0000\n",
            "Epoch 28/100\n",
            "34/34 [==============================] - 0s 844us/step - loss: 6997.9111 - mae: 6997.9111 - mse: 154207120.0000\n",
            "Epoch 29/100\n",
            "34/34 [==============================] - 0s 645us/step - loss: 6968.7471 - mae: 6968.7471 - mse: 153656576.0000\n",
            "Epoch 30/100\n",
            "34/34 [==============================] - 0s 621us/step - loss: 6940.2095 - mae: 6940.2095 - mse: 154545808.0000\n",
            "Epoch 31/100\n",
            "34/34 [==============================] - 0s 612us/step - loss: 6906.3687 - mae: 6906.3687 - mse: 154475952.0000\n",
            "Epoch 32/100\n",
            "34/34 [==============================] - 0s 613us/step - loss: 6876.9536 - mae: 6876.9536 - mse: 155179280.0000\n",
            "Epoch 33/100\n",
            "34/34 [==============================] - 0s 613us/step - loss: 6842.6680 - mae: 6842.6680 - mse: 153552496.0000\n",
            "Epoch 34/100\n",
            "34/34 [==============================] - 0s 604us/step - loss: 6806.6709 - mae: 6806.6709 - mse: 155485760.0000\n",
            "Epoch 35/100\n",
            "34/34 [==============================] - 0s 610us/step - loss: 6771.1387 - mae: 6771.1387 - mse: 155849536.0000\n",
            "Epoch 36/100\n",
            "34/34 [==============================] - 0s 602us/step - loss: 6734.4727 - mae: 6734.4727 - mse: 155389568.0000\n",
            "Epoch 37/100\n",
            "34/34 [==============================] - 0s 607us/step - loss: 6696.7129 - mae: 6696.7129 - mse: 155668128.0000\n",
            "Epoch 38/100\n",
            "34/34 [==============================] - 0s 601us/step - loss: 6656.0493 - mae: 6656.0493 - mse: 156013264.0000\n",
            "Epoch 39/100\n",
            "34/34 [==============================] - 0s 604us/step - loss: 6619.6167 - mae: 6619.6167 - mse: 156651968.0000\n",
            "Epoch 40/100\n",
            "34/34 [==============================] - 0s 600us/step - loss: 6585.2085 - mae: 6585.2085 - mse: 155702672.0000\n",
            "Epoch 41/100\n",
            "34/34 [==============================] - 0s 602us/step - loss: 6552.3506 - mae: 6552.3506 - mse: 156982448.0000\n",
            "Epoch 42/100\n",
            "34/34 [==============================] - 0s 617us/step - loss: 6522.5996 - mae: 6522.5996 - mse: 157185296.0000\n",
            "Epoch 43/100\n",
            "34/34 [==============================] - 0s 605us/step - loss: 6496.3271 - mae: 6496.3271 - mse: 156391072.0000\n",
            "Epoch 44/100\n",
            "34/34 [==============================] - 0s 621us/step - loss: 6476.4150 - mae: 6476.4150 - mse: 156333104.0000\n",
            "Epoch 45/100\n",
            "34/34 [==============================] - 0s 619us/step - loss: 6459.6099 - mae: 6459.6099 - mse: 155560784.0000\n",
            "Epoch 46/100\n",
            "34/34 [==============================] - 0s 601us/step - loss: 6447.2339 - mae: 6447.2339 - mse: 156731776.0000\n",
            "Epoch 47/100\n",
            "34/34 [==============================] - 0s 614us/step - loss: 6427.8579 - mae: 6427.8579 - mse: 155736912.0000\n",
            "Epoch 48/100\n",
            "34/34 [==============================] - 0s 614us/step - loss: 6413.9106 - mae: 6413.9106 - mse: 155330624.0000\n",
            "Epoch 49/100\n",
            "34/34 [==============================] - 0s 603us/step - loss: 6400.8179 - mae: 6400.8179 - mse: 155161344.0000\n",
            "Epoch 50/100\n",
            "34/34 [==============================] - 0s 599us/step - loss: 6387.2383 - mae: 6387.2383 - mse: 154060800.0000\n",
            "Epoch 51/100\n",
            "34/34 [==============================] - 0s 602us/step - loss: 6372.2456 - mae: 6372.2456 - mse: 154460400.0000\n",
            "Epoch 52/100\n",
            "34/34 [==============================] - 0s 597us/step - loss: 6360.0820 - mae: 6360.0820 - mse: 153588272.0000\n",
            "Epoch 53/100\n",
            "34/34 [==============================] - 0s 613us/step - loss: 6346.1216 - mae: 6346.1216 - mse: 153227040.0000\n",
            "Epoch 54/100\n",
            "34/34 [==============================] - 0s 609us/step - loss: 6330.6982 - mae: 6330.6982 - mse: 152997856.0000\n",
            "Epoch 55/100\n",
            "34/34 [==============================] - 0s 601us/step - loss: 6321.8770 - mae: 6321.8770 - mse: 151910688.0000\n",
            "Epoch 56/100\n",
            "34/34 [==============================] - 0s 602us/step - loss: 6305.6167 - mae: 6305.6167 - mse: 152355968.0000\n",
            "Epoch 57/100\n",
            "34/34 [==============================] - 0s 613us/step - loss: 6292.8960 - mae: 6292.8960 - mse: 151282464.0000\n",
            "Epoch 58/100\n",
            "34/34 [==============================] - 0s 613us/step - loss: 6281.9453 - mae: 6281.9453 - mse: 150688336.0000\n",
            "Epoch 59/100\n",
            "34/34 [==============================] - 0s 606us/step - loss: 6266.3462 - mae: 6266.3462 - mse: 150635344.0000\n",
            "Epoch 60/100\n",
            "34/34 [==============================] - 0s 610us/step - loss: 6252.8599 - mae: 6252.8599 - mse: 150077376.0000\n",
            "Epoch 61/100\n",
            "34/34 [==============================] - 0s 610us/step - loss: 6241.3750 - mae: 6241.3750 - mse: 149063392.0000\n",
            "Epoch 62/100\n",
            "34/34 [==============================] - 0s 609us/step - loss: 6223.7891 - mae: 6223.7891 - mse: 148628208.0000\n",
            "Epoch 63/100\n",
            "34/34 [==============================] - 0s 603us/step - loss: 6208.1777 - mae: 6208.1777 - mse: 147958208.0000\n",
            "Epoch 64/100\n",
            "34/34 [==============================] - 0s 601us/step - loss: 6192.5405 - mae: 6192.5405 - mse: 147428528.0000\n",
            "Epoch 65/100\n",
            "34/34 [==============================] - 0s 605us/step - loss: 6179.1255 - mae: 6179.1255 - mse: 147450304.0000\n",
            "Epoch 66/100\n",
            "34/34 [==============================] - 0s 612us/step - loss: 6161.7822 - mae: 6161.7822 - mse: 146089104.0000\n",
            "Epoch 67/100\n",
            "34/34 [==============================] - 0s 990us/step - loss: 6145.1582 - mae: 6145.1582 - mse: 145966304.0000\n",
            "Epoch 68/100\n",
            "34/34 [==============================] - 0s 945us/step - loss: 6127.8257 - mae: 6127.8257 - mse: 145210496.0000\n",
            "Epoch 69/100\n",
            "34/34 [==============================] - 0s 613us/step - loss: 6113.4062 - mae: 6113.4062 - mse: 144371088.0000\n",
            "Epoch 70/100\n",
            "34/34 [==============================] - 0s 617us/step - loss: 6099.4360 - mae: 6099.4360 - mse: 143940128.0000\n",
            "Epoch 71/100\n",
            "34/34 [==============================] - 0s 604us/step - loss: 6079.1416 - mae: 6079.1416 - mse: 143905744.0000\n",
            "Epoch 72/100\n",
            "34/34 [==============================] - 0s 603us/step - loss: 6061.7388 - mae: 6061.7388 - mse: 142531664.0000\n",
            "Epoch 73/100\n",
            "34/34 [==============================] - 0s 601us/step - loss: 6044.1484 - mae: 6044.1484 - mse: 142368464.0000\n",
            "Epoch 74/100\n",
            "34/34 [==============================] - 0s 607us/step - loss: 6023.1021 - mae: 6023.1021 - mse: 141607120.0000\n",
            "Epoch 75/100\n",
            "34/34 [==============================] - 0s 608us/step - loss: 6013.2471 - mae: 6013.2471 - mse: 139974688.0000\n",
            "Epoch 76/100\n",
            "34/34 [==============================] - 0s 614us/step - loss: 5983.9033 - mae: 5983.9033 - mse: 138796864.0000\n",
            "Epoch 77/100\n",
            "34/34 [==============================] - 0s 614us/step - loss: 5962.1304 - mae: 5962.1304 - mse: 138587104.0000\n",
            "Epoch 78/100\n",
            "34/34 [==============================] - 0s 610us/step - loss: 5945.3940 - mae: 5945.3940 - mse: 137309552.0000\n",
            "Epoch 79/100\n",
            "34/34 [==============================] - 0s 615us/step - loss: 5915.4121 - mae: 5915.4121 - mse: 137536112.0000\n",
            "Epoch 80/100\n",
            "34/34 [==============================] - 0s 604us/step - loss: 5894.0854 - mae: 5894.0854 - mse: 135505472.0000\n",
            "Epoch 81/100\n",
            "34/34 [==============================] - 0s 602us/step - loss: 5869.4663 - mae: 5869.4663 - mse: 135245904.0000\n",
            "Epoch 82/100\n",
            "34/34 [==============================] - 0s 603us/step - loss: 5846.7090 - mae: 5846.7090 - mse: 134162496.0000\n",
            "Epoch 83/100\n",
            "34/34 [==============================] - 0s 607us/step - loss: 5821.3857 - mae: 5821.3857 - mse: 132441152.0000\n",
            "Epoch 84/100\n",
            "34/34 [==============================] - 0s 600us/step - loss: 5792.9233 - mae: 5792.9233 - mse: 131766896.0000\n",
            "Epoch 85/100\n",
            "34/34 [==============================] - 0s 601us/step - loss: 5764.9946 - mae: 5764.9946 - mse: 130398296.0000\n",
            "Epoch 86/100\n",
            "34/34 [==============================] - 0s 606us/step - loss: 5739.7632 - mae: 5739.7632 - mse: 129783008.0000\n",
            "Epoch 87/100\n",
            "34/34 [==============================] - 0s 607us/step - loss: 5710.3130 - mae: 5710.3130 - mse: 128618256.0000\n",
            "Epoch 88/100\n",
            "34/34 [==============================] - 0s 603us/step - loss: 5691.3491 - mae: 5691.3491 - mse: 126859592.0000\n",
            "Epoch 89/100\n",
            "34/34 [==============================] - 0s 604us/step - loss: 5644.9863 - mae: 5644.9863 - mse: 125973704.0000\n",
            "Epoch 90/100\n",
            "34/34 [==============================] - 0s 608us/step - loss: 5618.1812 - mae: 5618.1812 - mse: 124078112.0000\n",
            "Epoch 91/100\n",
            "34/34 [==============================] - 0s 609us/step - loss: 5580.6855 - mae: 5580.6855 - mse: 122430952.0000\n",
            "Epoch 92/100\n",
            "34/34 [==============================] - 0s 604us/step - loss: 5548.5815 - mae: 5548.5815 - mse: 121065536.0000\n",
            "Epoch 93/100\n",
            "34/34 [==============================] - 0s 598us/step - loss: 5512.2520 - mae: 5512.2520 - mse: 120712168.0000\n",
            "Epoch 94/100\n",
            "34/34 [==============================] - 0s 604us/step - loss: 5470.8799 - mae: 5470.8799 - mse: 118200512.0000\n",
            "Epoch 95/100\n",
            "34/34 [==============================] - 0s 600us/step - loss: 5429.3618 - mae: 5429.3618 - mse: 116940080.0000\n",
            "Epoch 96/100\n",
            "34/34 [==============================] - 0s 606us/step - loss: 5383.0596 - mae: 5383.0596 - mse: 115057440.0000\n",
            "Epoch 97/100\n",
            "34/34 [==============================] - 0s 596us/step - loss: 5337.4971 - mae: 5337.4971 - mse: 113397848.0000\n",
            "Epoch 98/100\n",
            "34/34 [==============================] - 0s 607us/step - loss: 5295.3188 - mae: 5295.3188 - mse: 111591984.0000\n",
            "Epoch 99/100\n",
            "34/34 [==============================] - 0s 603us/step - loss: 5242.1108 - mae: 5242.1108 - mse: 109994320.0000\n",
            "Epoch 100/100\n",
            "34/34 [==============================] - 0s 596us/step - loss: 5186.8428 - mae: 5186.8428 - mse: 107543112.0000\n"
          ]
        },
        {
          "data": {
            "text/plain": [
              "<keras.src.callbacks.History at 0x2c9051d50>"
            ]
          },
          "execution_count": 211,
          "metadata": {},
          "output_type": "execute_result"
        }
      ],
      "source": [
        "tf.random.set_seed(42)\n",
        "\n",
        "insurance_model_2 = tf.keras.Sequential([\n",
        "    tf.keras.layers.Dense(100),\n",
        "    tf.keras.layers.Dense(10),\n",
        "    tf.keras.layers.Dense(1),\n",
        "])\n",
        "\n",
        "insurance_model_2.compile(loss=tf.keras.losses.mae,\n",
        "                        optimizer=tf.keras.optimizers.Adam(),\n",
        "                        metrics=[\"mae\", \"mse\"])\n",
        "\n",
        "insurance_model_2.fit(X_train, y_train, epochs=100)"
      ]
    },
    {
      "cell_type": "code",
      "execution_count": 212,
      "metadata": {
        "colab": {
          "base_uri": "https://localhost:8080/"
        },
        "id": "Fg33_-gT1PMM",
        "outputId": "0f5f220a-9308-453d-8a10-919cff0d641b"
      },
      "outputs": [
        {
          "name": "stdout",
          "output_type": "stream",
          "text": [
            "9/9 [==============================] - 0s 736us/step - loss: 5140.4360 - mae: 5140.4360 - mse: 109271224.0000\n"
          ]
        },
        {
          "data": {
            "text/plain": [
              "[5140.43603515625, 5140.43603515625, 109271224.0]"
            ]
          },
          "execution_count": 212,
          "metadata": {},
          "output_type": "execute_result"
        }
      ],
      "source": [
        "insurance_model_2.evaluate(X_test, y_test)"
      ]
    },
    {
      "cell_type": "code",
      "execution_count": 213,
      "metadata": {
        "colab": {
          "base_uri": "https://localhost:8080/"
        },
        "id": "AeEaukVD2AGg",
        "outputId": "c23b6261-72ed-4b3d-cddf-115fc18026bb"
      },
      "outputs": [
        {
          "name": "stderr",
          "output_type": "stream",
          "text": [
            "WARNING:absl:At this time, the v2.11+ optimizer `tf.keras.optimizers.Adam` runs slowly on M1/M2 Macs, please use the legacy Keras optimizer instead, located at `tf.keras.optimizers.legacy.Adam`.\n"
          ]
        },
        {
          "name": "stdout",
          "output_type": "stream",
          "text": [
            "Epoch 1/200\n",
            "34/34 [==============================] - 0s 680us/step - loss: 13139.8379 - mae: 13139.8379\n",
            "Epoch 2/200\n",
            "34/34 [==============================] - 0s 1ms/step - loss: 12960.1055 - mae: 12960.1055\n",
            "Epoch 3/200\n",
            "34/34 [==============================] - 0s 658us/step - loss: 12594.9160 - mae: 12594.9160\n",
            "Epoch 4/200\n",
            "34/34 [==============================] - 0s 584us/step - loss: 11897.8115 - mae: 11897.8115\n",
            "Epoch 5/200\n",
            "34/34 [==============================] - 0s 586us/step - loss: 10751.4795 - mae: 10751.4795\n",
            "Epoch 6/200\n",
            "34/34 [==============================] - 0s 589us/step - loss: 9298.5908 - mae: 9298.5908\n",
            "Epoch 7/200\n",
            "34/34 [==============================] - 0s 673us/step - loss: 8035.2671 - mae: 8035.2671\n",
            "Epoch 8/200\n",
            "34/34 [==============================] - 0s 601us/step - loss: 7532.1221 - mae: 7532.1221\n",
            "Epoch 9/200\n",
            "34/34 [==============================] - 0s 590us/step - loss: 7433.3291 - mae: 7433.3291\n",
            "Epoch 10/200\n",
            "34/34 [==============================] - 0s 581us/step - loss: 7405.7261 - mae: 7405.7261\n",
            "Epoch 11/200\n",
            "34/34 [==============================] - 0s 579us/step - loss: 7384.8623 - mae: 7384.8623\n",
            "Epoch 12/200\n",
            "34/34 [==============================] - 0s 573us/step - loss: 7364.1191 - mae: 7364.1191\n",
            "Epoch 13/200\n",
            "34/34 [==============================] - 0s 578us/step - loss: 7341.4941 - mae: 7341.4941\n",
            "Epoch 14/200\n",
            "34/34 [==============================] - 0s 592us/step - loss: 7320.2690 - mae: 7320.2690\n",
            "Epoch 15/200\n",
            "34/34 [==============================] - 0s 598us/step - loss: 7300.6167 - mae: 7300.6167\n",
            "Epoch 16/200\n",
            "34/34 [==============================] - 0s 586us/step - loss: 7276.0952 - mae: 7276.0952\n",
            "Epoch 17/200\n",
            "34/34 [==============================] - 0s 577us/step - loss: 7251.7866 - mae: 7251.7866\n",
            "Epoch 18/200\n",
            "34/34 [==============================] - 0s 582us/step - loss: 7230.2705 - mae: 7230.2705\n",
            "Epoch 19/200\n",
            "34/34 [==============================] - 0s 587us/step - loss: 7204.8779 - mae: 7204.8779\n",
            "Epoch 20/200\n",
            "34/34 [==============================] - 0s 574us/step - loss: 7183.9761 - mae: 7183.9761\n",
            "Epoch 21/200\n",
            "34/34 [==============================] - 0s 585us/step - loss: 7160.3950 - mae: 7160.3950\n",
            "Epoch 22/200\n",
            "34/34 [==============================] - 0s 577us/step - loss: 7130.2808 - mae: 7130.2808\n",
            "Epoch 23/200\n",
            "34/34 [==============================] - 0s 571us/step - loss: 7105.4902 - mae: 7105.4902\n",
            "Epoch 24/200\n",
            "34/34 [==============================] - 0s 573us/step - loss: 7076.0884 - mae: 7076.0884\n",
            "Epoch 25/200\n",
            "34/34 [==============================] - 0s 577us/step - loss: 7051.7124 - mae: 7051.7124\n",
            "Epoch 26/200\n",
            "34/34 [==============================] - 0s 575us/step - loss: 7022.8311 - mae: 7022.8311\n",
            "Epoch 27/200\n",
            "34/34 [==============================] - 0s 576us/step - loss: 6996.7817 - mae: 6996.7817\n",
            "Epoch 28/200\n",
            "34/34 [==============================] - 0s 576us/step - loss: 6960.6396 - mae: 6960.6396\n",
            "Epoch 29/200\n",
            "34/34 [==============================] - 0s 579us/step - loss: 6931.0889 - mae: 6931.0889\n",
            "Epoch 30/200\n",
            "34/34 [==============================] - 0s 574us/step - loss: 6901.7554 - mae: 6901.7554\n",
            "Epoch 31/200\n",
            "34/34 [==============================] - 0s 580us/step - loss: 6868.1030 - mae: 6868.1030\n",
            "Epoch 32/200\n",
            "34/34 [==============================] - 0s 577us/step - loss: 6837.4102 - mae: 6837.4102\n",
            "Epoch 33/200\n",
            "34/34 [==============================] - 0s 575us/step - loss: 6801.5552 - mae: 6801.5552\n",
            "Epoch 34/200\n",
            "34/34 [==============================] - 0s 578us/step - loss: 6764.2251 - mae: 6764.2251\n",
            "Epoch 35/200\n",
            "34/34 [==============================] - 0s 578us/step - loss: 6727.2593 - mae: 6727.2593\n",
            "Epoch 36/200\n",
            "34/34 [==============================] - 0s 568us/step - loss: 6690.2700 - mae: 6690.2700\n",
            "Epoch 37/200\n",
            "34/34 [==============================] - 0s 578us/step - loss: 6653.6533 - mae: 6653.6533\n",
            "Epoch 38/200\n",
            "34/34 [==============================] - 0s 569us/step - loss: 6615.9561 - mae: 6615.9561\n",
            "Epoch 39/200\n",
            "34/34 [==============================] - 0s 573us/step - loss: 6581.4624 - mae: 6581.4624\n",
            "Epoch 40/200\n",
            "34/34 [==============================] - 0s 571us/step - loss: 6551.3740 - mae: 6551.3740\n",
            "Epoch 41/200\n",
            "34/34 [==============================] - 0s 582us/step - loss: 6523.8076 - mae: 6523.8076\n",
            "Epoch 42/200\n",
            "34/34 [==============================] - 0s 574us/step - loss: 6498.0981 - mae: 6498.0981\n",
            "Epoch 43/200\n",
            "34/34 [==============================] - 0s 575us/step - loss: 6476.3384 - mae: 6476.3384\n",
            "Epoch 44/200\n",
            "34/34 [==============================] - 0s 573us/step - loss: 6459.4229 - mae: 6459.4229\n",
            "Epoch 45/200\n",
            "34/34 [==============================] - 0s 582us/step - loss: 6443.0166 - mae: 6443.0166\n",
            "Epoch 46/200\n",
            "34/34 [==============================] - 0s 744us/step - loss: 6434.1426 - mae: 6434.1426\n",
            "Epoch 47/200\n",
            "34/34 [==============================] - 0s 1ms/step - loss: 6416.2441 - mae: 6416.2441\n",
            "Epoch 48/200\n",
            "34/34 [==============================] - 0s 601us/step - loss: 6402.7729 - mae: 6402.7729\n",
            "Epoch 49/200\n",
            "34/34 [==============================] - 0s 578us/step - loss: 6389.4521 - mae: 6389.4521\n",
            "Epoch 50/200\n",
            "34/34 [==============================] - 0s 593us/step - loss: 6376.1104 - mae: 6376.1104\n",
            "Epoch 51/200\n",
            "34/34 [==============================] - 0s 599us/step - loss: 6361.8560 - mae: 6361.8560\n",
            "Epoch 52/200\n",
            "34/34 [==============================] - 0s 596us/step - loss: 6349.6787 - mae: 6349.6787\n",
            "Epoch 53/200\n",
            "34/34 [==============================] - 0s 580us/step - loss: 6336.6089 - mae: 6336.6089\n",
            "Epoch 54/200\n",
            "34/34 [==============================] - 0s 583us/step - loss: 6320.3872 - mae: 6320.3872\n",
            "Epoch 55/200\n",
            "34/34 [==============================] - 0s 578us/step - loss: 6311.8755 - mae: 6311.8755\n",
            "Epoch 56/200\n",
            "34/34 [==============================] - 0s 580us/step - loss: 6296.8193 - mae: 6296.8193\n",
            "Epoch 57/200\n",
            "34/34 [==============================] - 0s 573us/step - loss: 6282.8999 - mae: 6282.8999\n",
            "Epoch 58/200\n",
            "34/34 [==============================] - 0s 574us/step - loss: 6272.8579 - mae: 6272.8579\n",
            "Epoch 59/200\n",
            "34/34 [==============================] - 0s 574us/step - loss: 6257.4517 - mae: 6257.4517\n",
            "Epoch 60/200\n",
            "34/34 [==============================] - 0s 580us/step - loss: 6242.3604 - mae: 6242.3604\n",
            "Epoch 61/200\n",
            "34/34 [==============================] - 0s 603us/step - loss: 6230.1606 - mae: 6230.1606\n",
            "Epoch 62/200\n",
            "34/34 [==============================] - 0s 587us/step - loss: 6214.3677 - mae: 6214.3677\n",
            "Epoch 63/200\n",
            "34/34 [==============================] - 0s 578us/step - loss: 6198.8818 - mae: 6198.8818\n",
            "Epoch 64/200\n",
            "34/34 [==============================] - 0s 586us/step - loss: 6182.4409 - mae: 6182.4409\n",
            "Epoch 65/200\n",
            "34/34 [==============================] - 0s 579us/step - loss: 6169.3618 - mae: 6169.3618\n",
            "Epoch 66/200\n",
            "34/34 [==============================] - 0s 571us/step - loss: 6151.7671 - mae: 6151.7671\n",
            "Epoch 67/200\n",
            "34/34 [==============================] - 0s 579us/step - loss: 6135.7441 - mae: 6135.7441\n",
            "Epoch 68/200\n",
            "34/34 [==============================] - 0s 564us/step - loss: 6117.4814 - mae: 6117.4814\n",
            "Epoch 69/200\n",
            "34/34 [==============================] - 0s 581us/step - loss: 6102.9248 - mae: 6102.9248\n",
            "Epoch 70/200\n",
            "34/34 [==============================] - 0s 584us/step - loss: 6088.8169 - mae: 6088.8169\n",
            "Epoch 71/200\n",
            "34/34 [==============================] - 0s 577us/step - loss: 6068.9199 - mae: 6068.9199\n",
            "Epoch 72/200\n",
            "34/34 [==============================] - 0s 573us/step - loss: 6051.0513 - mae: 6051.0513\n",
            "Epoch 73/200\n",
            "34/34 [==============================] - 0s 575us/step - loss: 6033.0010 - mae: 6033.0010\n",
            "Epoch 74/200\n",
            "34/34 [==============================] - 0s 572us/step - loss: 6012.0488 - mae: 6012.0488\n",
            "Epoch 75/200\n",
            "34/34 [==============================] - 0s 571us/step - loss: 6002.4551 - mae: 6002.4551\n",
            "Epoch 76/200\n",
            "34/34 [==============================] - 0s 575us/step - loss: 5970.7661 - mae: 5970.7661\n",
            "Epoch 77/200\n",
            "34/34 [==============================] - 0s 576us/step - loss: 5949.6973 - mae: 5949.6973\n",
            "Epoch 78/200\n",
            "34/34 [==============================] - 0s 578us/step - loss: 5932.0225 - mae: 5932.0225\n",
            "Epoch 79/200\n",
            "34/34 [==============================] - 0s 578us/step - loss: 5901.9883 - mae: 5901.9883\n",
            "Epoch 80/200\n",
            "34/34 [==============================] - 0s 568us/step - loss: 5880.6934 - mae: 5880.6934\n",
            "Epoch 81/200\n",
            "34/34 [==============================] - 0s 578us/step - loss: 5855.4087 - mae: 5855.4087\n",
            "Epoch 82/200\n",
            "34/34 [==============================] - 0s 972us/step - loss: 5832.7202 - mae: 5832.7202\n",
            "Epoch 83/200\n",
            "34/34 [==============================] - 0s 786us/step - loss: 5806.2432 - mae: 5806.2432\n",
            "Epoch 84/200\n",
            "34/34 [==============================] - 0s 581us/step - loss: 5777.1099 - mae: 5777.1099\n",
            "Epoch 85/200\n",
            "34/34 [==============================] - 0s 579us/step - loss: 5748.5166 - mae: 5748.5166\n",
            "Epoch 86/200\n",
            "34/34 [==============================] - 0s 579us/step - loss: 5720.9673 - mae: 5720.9673\n",
            "Epoch 87/200\n",
            "34/34 [==============================] - 0s 583us/step - loss: 5693.0615 - mae: 5693.0615\n",
            "Epoch 88/200\n",
            "34/34 [==============================] - 0s 578us/step - loss: 5673.1162 - mae: 5673.1162\n",
            "Epoch 89/200\n",
            "34/34 [==============================] - 0s 575us/step - loss: 5625.4868 - mae: 5625.4868\n",
            "Epoch 90/200\n",
            "34/34 [==============================] - 0s 579us/step - loss: 5596.1821 - mae: 5596.1821\n",
            "Epoch 91/200\n",
            "34/34 [==============================] - 0s 576us/step - loss: 5558.8057 - mae: 5558.8057\n",
            "Epoch 92/200\n",
            "34/34 [==============================] - 0s 578us/step - loss: 5527.1870 - mae: 5527.1870\n",
            "Epoch 93/200\n",
            "34/34 [==============================] - 0s 577us/step - loss: 5489.4097 - mae: 5489.4097\n",
            "Epoch 94/200\n",
            "34/34 [==============================] - 0s 569us/step - loss: 5444.7866 - mae: 5444.7866\n",
            "Epoch 95/200\n",
            "34/34 [==============================] - 0s 577us/step - loss: 5403.3228 - mae: 5403.3228\n",
            "Epoch 96/200\n",
            "34/34 [==============================] - 0s 570us/step - loss: 5354.6528 - mae: 5354.6528\n",
            "Epoch 97/200\n",
            "34/34 [==============================] - 0s 570us/step - loss: 5308.1680 - mae: 5308.1680\n",
            "Epoch 98/200\n",
            "34/34 [==============================] - 0s 571us/step - loss: 5265.0874 - mae: 5265.0874\n",
            "Epoch 99/200\n",
            "34/34 [==============================] - 0s 575us/step - loss: 5209.8057 - mae: 5209.8057\n",
            "Epoch 100/200\n",
            "34/34 [==============================] - 0s 574us/step - loss: 5151.3950 - mae: 5151.3950\n",
            "Epoch 101/200\n",
            "34/34 [==============================] - 0s 581us/step - loss: 5101.2329 - mae: 5101.2329\n",
            "Epoch 102/200\n",
            "34/34 [==============================] - 0s 571us/step - loss: 5041.3667 - mae: 5041.3667\n",
            "Epoch 103/200\n",
            "34/34 [==============================] - 0s 577us/step - loss: 4970.6562 - mae: 4970.6562\n",
            "Epoch 104/200\n",
            "34/34 [==============================] - 0s 576us/step - loss: 4903.4058 - mae: 4903.4058\n",
            "Epoch 105/200\n",
            "34/34 [==============================] - 0s 574us/step - loss: 4837.8179 - mae: 4837.8179\n",
            "Epoch 106/200\n",
            "34/34 [==============================] - 0s 581us/step - loss: 4774.5225 - mae: 4774.5225\n",
            "Epoch 107/200\n",
            "34/34 [==============================] - 0s 582us/step - loss: 4692.2500 - mae: 4692.2500\n",
            "Epoch 108/200\n",
            "34/34 [==============================] - 0s 579us/step - loss: 4618.8496 - mae: 4618.8496\n",
            "Epoch 109/200\n",
            "34/34 [==============================] - 0s 573us/step - loss: 4532.8691 - mae: 4532.8691\n",
            "Epoch 110/200\n",
            "34/34 [==============================] - 0s 570us/step - loss: 4445.9204 - mae: 4445.9204\n",
            "Epoch 111/200\n",
            "34/34 [==============================] - 0s 593us/step - loss: 4366.5723 - mae: 4366.5723\n",
            "Epoch 112/200\n",
            "34/34 [==============================] - 0s 577us/step - loss: 4282.5591 - mae: 4282.5591\n",
            "Epoch 113/200\n",
            "34/34 [==============================] - 0s 603us/step - loss: 4201.2378 - mae: 4201.2378\n",
            "Epoch 114/200\n",
            "34/34 [==============================] - 0s 586us/step - loss: 4136.2480 - mae: 4136.2480\n",
            "Epoch 115/200\n",
            "34/34 [==============================] - 0s 587us/step - loss: 4073.8491 - mae: 4073.8491\n",
            "Epoch 116/200\n",
            "34/34 [==============================] - 0s 577us/step - loss: 4004.9851 - mae: 4004.9851\n",
            "Epoch 117/200\n",
            "34/34 [==============================] - 0s 583us/step - loss: 3959.4202 - mae: 3959.4202\n",
            "Epoch 118/200\n",
            "34/34 [==============================] - 0s 2ms/step - loss: 3920.2637 - mae: 3920.2637\n",
            "Epoch 119/200\n",
            "34/34 [==============================] - 0s 625us/step - loss: 3898.3330 - mae: 3898.3330\n",
            "Epoch 120/200\n",
            "34/34 [==============================] - 0s 594us/step - loss: 3862.7942 - mae: 3862.7942\n",
            "Epoch 121/200\n",
            "34/34 [==============================] - 0s 592us/step - loss: 3841.9285 - mae: 3841.9285\n",
            "Epoch 122/200\n",
            "34/34 [==============================] - 0s 602us/step - loss: 3830.4592 - mae: 3830.4592\n",
            "Epoch 123/200\n",
            "34/34 [==============================] - 0s 631us/step - loss: 3833.0664 - mae: 3833.0664\n",
            "Epoch 124/200\n",
            "34/34 [==============================] - 0s 601us/step - loss: 3817.6262 - mae: 3817.6262\n",
            "Epoch 125/200\n",
            "34/34 [==============================] - 0s 585us/step - loss: 3808.0354 - mae: 3808.0354\n",
            "Epoch 126/200\n",
            "34/34 [==============================] - 0s 575us/step - loss: 3795.2319 - mae: 3795.2319\n",
            "Epoch 127/200\n",
            "34/34 [==============================] - 0s 580us/step - loss: 3794.6614 - mae: 3794.6614\n",
            "Epoch 128/200\n",
            "34/34 [==============================] - 0s 584us/step - loss: 3785.5779 - mae: 3785.5779\n",
            "Epoch 129/200\n",
            "34/34 [==============================] - 0s 570us/step - loss: 3778.8142 - mae: 3778.8142\n",
            "Epoch 130/200\n",
            "34/34 [==============================] - 0s 578us/step - loss: 3778.6118 - mae: 3778.6118\n",
            "Epoch 131/200\n",
            "34/34 [==============================] - 0s 576us/step - loss: 3772.1926 - mae: 3772.1926\n",
            "Epoch 132/200\n",
            "34/34 [==============================] - 0s 582us/step - loss: 3770.9302 - mae: 3770.9302\n",
            "Epoch 133/200\n",
            "34/34 [==============================] - 0s 578us/step - loss: 3768.7197 - mae: 3768.7197\n",
            "Epoch 134/200\n",
            "34/34 [==============================] - 0s 583us/step - loss: 3773.8230 - mae: 3773.8230\n",
            "Epoch 135/200\n",
            "34/34 [==============================] - 0s 585us/step - loss: 3760.1475 - mae: 3760.1475\n",
            "Epoch 136/200\n",
            "34/34 [==============================] - 0s 580us/step - loss: 3772.8333 - mae: 3772.8333\n",
            "Epoch 137/200\n",
            "34/34 [==============================] - 0s 580us/step - loss: 3754.0996 - mae: 3754.0996\n",
            "Epoch 138/200\n",
            "34/34 [==============================] - 0s 577us/step - loss: 3764.0828 - mae: 3764.0828\n",
            "Epoch 139/200\n",
            "34/34 [==============================] - 0s 572us/step - loss: 3762.4348 - mae: 3762.4348\n",
            "Epoch 140/200\n",
            "34/34 [==============================] - 0s 571us/step - loss: 3751.6145 - mae: 3751.6145\n",
            "Epoch 141/200\n",
            "34/34 [==============================] - 0s 574us/step - loss: 3749.4563 - mae: 3749.4563\n",
            "Epoch 142/200\n",
            "34/34 [==============================] - 0s 573us/step - loss: 3743.8972 - mae: 3743.8972\n",
            "Epoch 143/200\n",
            "34/34 [==============================] - 0s 579us/step - loss: 3746.0117 - mae: 3746.0117\n",
            "Epoch 144/200\n",
            "34/34 [==============================] - 0s 589us/step - loss: 3740.8015 - mae: 3740.8015\n",
            "Epoch 145/200\n",
            "34/34 [==============================] - 0s 576us/step - loss: 3748.4739 - mae: 3748.4739\n",
            "Epoch 146/200\n",
            "34/34 [==============================] - 0s 576us/step - loss: 3736.9431 - mae: 3736.9431\n",
            "Epoch 147/200\n",
            "34/34 [==============================] - 0s 580us/step - loss: 3741.3406 - mae: 3741.3406\n",
            "Epoch 148/200\n",
            "34/34 [==============================] - 0s 579us/step - loss: 3731.4800 - mae: 3731.4800\n",
            "Epoch 149/200\n",
            "34/34 [==============================] - 0s 574us/step - loss: 3726.6028 - mae: 3726.6028\n",
            "Epoch 150/200\n",
            "34/34 [==============================] - 0s 574us/step - loss: 3731.0508 - mae: 3731.0508\n",
            "Epoch 151/200\n",
            "34/34 [==============================] - 0s 571us/step - loss: 3725.1289 - mae: 3725.1289\n",
            "Epoch 152/200\n",
            "34/34 [==============================] - 0s 571us/step - loss: 3724.1316 - mae: 3724.1316\n",
            "Epoch 153/200\n",
            "34/34 [==============================] - 0s 578us/step - loss: 3719.9192 - mae: 3719.9192\n",
            "Epoch 154/200\n",
            "34/34 [==============================] - 0s 578us/step - loss: 3725.2263 - mae: 3725.2263\n",
            "Epoch 155/200\n",
            "34/34 [==============================] - 0s 568us/step - loss: 3713.9014 - mae: 3713.9014\n",
            "Epoch 156/200\n",
            "34/34 [==============================] - 0s 573us/step - loss: 3717.0735 - mae: 3717.0735\n",
            "Epoch 157/200\n",
            "34/34 [==============================] - 0s 580us/step - loss: 3715.0115 - mae: 3715.0115\n",
            "Epoch 158/200\n",
            "34/34 [==============================] - 0s 567us/step - loss: 3725.5112 - mae: 3725.5112\n",
            "Epoch 159/200\n",
            "34/34 [==============================] - 0s 577us/step - loss: 3714.7234 - mae: 3714.7234\n",
            "Epoch 160/200\n",
            "34/34 [==============================] - 0s 573us/step - loss: 3709.7336 - mae: 3709.7336\n",
            "Epoch 161/200\n",
            "34/34 [==============================] - 0s 568us/step - loss: 3711.8777 - mae: 3711.8777\n",
            "Epoch 162/200\n",
            "34/34 [==============================] - 0s 574us/step - loss: 3700.7554 - mae: 3700.7554\n",
            "Epoch 163/200\n",
            "34/34 [==============================] - 0s 581us/step - loss: 3702.2998 - mae: 3702.2998\n",
            "Epoch 164/200\n",
            "34/34 [==============================] - 0s 576us/step - loss: 3702.8325 - mae: 3702.8325\n",
            "Epoch 165/200\n",
            "34/34 [==============================] - 0s 586us/step - loss: 3694.0981 - mae: 3694.0981\n",
            "Epoch 166/200\n",
            "34/34 [==============================] - 0s 579us/step - loss: 3696.0488 - mae: 3696.0488\n",
            "Epoch 167/200\n",
            "34/34 [==============================] - 0s 576us/step - loss: 3691.3860 - mae: 3691.3860\n",
            "Epoch 168/200\n",
            "34/34 [==============================] - 0s 578us/step - loss: 3698.2593 - mae: 3698.2593\n",
            "Epoch 169/200\n",
            "34/34 [==============================] - 0s 576us/step - loss: 3684.8818 - mae: 3684.8818\n",
            "Epoch 170/200\n",
            "34/34 [==============================] - 0s 575us/step - loss: 3688.8359 - mae: 3688.8359\n",
            "Epoch 171/200\n",
            "34/34 [==============================] - 0s 575us/step - loss: 3692.1545 - mae: 3692.1545\n",
            "Epoch 172/200\n",
            "34/34 [==============================] - 0s 576us/step - loss: 3694.9609 - mae: 3694.9609\n",
            "Epoch 173/200\n",
            "34/34 [==============================] - 0s 575us/step - loss: 3677.3315 - mae: 3677.3315\n",
            "Epoch 174/200\n",
            "34/34 [==============================] - 0s 566us/step - loss: 3692.6934 - mae: 3692.6934\n",
            "Epoch 175/200\n",
            "34/34 [==============================] - 0s 574us/step - loss: 3674.1511 - mae: 3674.1511\n",
            "Epoch 176/200\n",
            "34/34 [==============================] - 0s 579us/step - loss: 3670.1125 - mae: 3670.1125\n",
            "Epoch 177/200\n",
            "34/34 [==============================] - 0s 578us/step - loss: 3674.4297 - mae: 3674.4297\n",
            "Epoch 178/200\n",
            "34/34 [==============================] - 0s 935us/step - loss: 3666.8103 - mae: 3666.8103\n",
            "Epoch 179/200\n",
            "34/34 [==============================] - 0s 940us/step - loss: 3661.7986 - mae: 3661.7986\n",
            "Epoch 180/200\n",
            "34/34 [==============================] - 0s 581us/step - loss: 3661.7200 - mae: 3661.7200\n",
            "Epoch 181/200\n",
            "34/34 [==============================] - 0s 590us/step - loss: 3664.5354 - mae: 3664.5354\n",
            "Epoch 182/200\n",
            "34/34 [==============================] - 0s 581us/step - loss: 3665.5396 - mae: 3665.5396\n",
            "Epoch 183/200\n",
            "34/34 [==============================] - 0s 566us/step - loss: 3659.0486 - mae: 3659.0486\n",
            "Epoch 184/200\n",
            "34/34 [==============================] - 0s 576us/step - loss: 3665.3928 - mae: 3665.3928\n",
            "Epoch 185/200\n",
            "34/34 [==============================] - 0s 585us/step - loss: 3656.1157 - mae: 3656.1157\n",
            "Epoch 186/200\n",
            "34/34 [==============================] - 0s 586us/step - loss: 3644.8738 - mae: 3644.8738\n",
            "Epoch 187/200\n",
            "34/34 [==============================] - 0s 581us/step - loss: 3658.2742 - mae: 3658.2742\n",
            "Epoch 188/200\n",
            "34/34 [==============================] - 0s 571us/step - loss: 3658.0972 - mae: 3658.0972\n",
            "Epoch 189/200\n",
            "34/34 [==============================] - 0s 573us/step - loss: 3665.9688 - mae: 3665.9688\n",
            "Epoch 190/200\n",
            "34/34 [==============================] - 0s 574us/step - loss: 3642.4712 - mae: 3642.4712\n",
            "Epoch 191/200\n",
            "34/34 [==============================] - 0s 576us/step - loss: 3642.8418 - mae: 3642.8418\n",
            "Epoch 192/200\n",
            "34/34 [==============================] - 0s 567us/step - loss: 3629.4197 - mae: 3629.4197\n",
            "Epoch 193/200\n",
            "34/34 [==============================] - 0s 575us/step - loss: 3653.6204 - mae: 3653.6204\n",
            "Epoch 194/200\n",
            "34/34 [==============================] - 0s 583us/step - loss: 3637.5635 - mae: 3637.5635\n",
            "Epoch 195/200\n",
            "34/34 [==============================] - 0s 575us/step - loss: 3634.5698 - mae: 3634.5698\n",
            "Epoch 196/200\n",
            "34/34 [==============================] - 0s 576us/step - loss: 3624.1016 - mae: 3624.1016\n",
            "Epoch 197/200\n",
            "34/34 [==============================] - 0s 579us/step - loss: 3632.2812 - mae: 3632.2812\n",
            "Epoch 198/200\n",
            "34/34 [==============================] - 0s 576us/step - loss: 3645.6306 - mae: 3645.6306\n",
            "Epoch 199/200\n",
            "34/34 [==============================] - 0s 579us/step - loss: 3625.7380 - mae: 3625.7380\n",
            "Epoch 200/200\n",
            "34/34 [==============================] - 0s 571us/step - loss: 3619.5371 - mae: 3619.5371\n"
          ]
        }
      ],
      "source": [
        "tf.random.set_seed(42)\n",
        "\n",
        "insurance_model_3 = tf.keras.Sequential([\n",
        "    tf.keras.layers.Dense(100),\n",
        "    tf.keras.layers.Dense(10),\n",
        "    tf.keras.layers.Dense(1),\n",
        "])\n",
        "\n",
        "insurance_model_3.compile(loss=tf.keras.losses.mae,\n",
        "                        optimizer=tf.keras.optimizers.Adam(),\n",
        "                        metrics=[\"mae\"])\n",
        "\n",
        "history = insurance_model_3.fit(X_train, y_train, epochs=200)"
      ]
    },
    {
      "cell_type": "code",
      "execution_count": 214,
      "metadata": {
        "colab": {
          "base_uri": "https://localhost:8080/"
        },
        "id": "bB4H6q_S2OTR",
        "outputId": "a89c9eb3-7a43-46fa-ac03-e18f8508c2da"
      },
      "outputs": [
        {
          "name": "stdout",
          "output_type": "stream",
          "text": [
            "9/9 [==============================] - 0s 654us/step - loss: 3576.3752 - mae: 3576.3752\n"
          ]
        },
        {
          "data": {
            "text/plain": [
              "[3576.375244140625, 3576.375244140625]"
            ]
          },
          "execution_count": 214,
          "metadata": {},
          "output_type": "execute_result"
        }
      ],
      "source": [
        "insurance_model_3.evaluate(X_test, y_test)"
      ]
    },
    {
      "cell_type": "code",
      "execution_count": 215,
      "metadata": {
        "colab": {
          "base_uri": "https://localhost:8080/",
          "height": 466
        },
        "id": "rszwO_F92RI3",
        "outputId": "1a7de898-4afb-45d3-f8c0-2aab869436b9"
      },
      "outputs": [
        {
          "data": {
            "text/plain": [
              "Text(0.5, 0, 'epochs')"
            ]
          },
          "execution_count": 215,
          "metadata": {},
          "output_type": "execute_result"
        },
        {
          "data": {
            "image/png": "[encoded data removed]",
            "text/plain": [
              "<Figure size 640x480 with 1 Axes>"
            ]
          },
          "metadata": {},
          "output_type": "display_data"
        }
      ],
      "source": [
        "pd.DataFrame(history.history).plot()\n",
        "plt.ylabel(\"loss\")\n",
        "plt.xlabel(\"epochs\")"
      ]
    },
    {
      "cell_type": "code",
      "execution_count": 216,
      "metadata": {
        "colab": {
          "base_uri": "https://localhost:8080/"
        },
        "id": "j8WCGlon21zC",
        "outputId": "426681f9-ca8c-4ed7-ac7f-e08a645a4c3f"
      },
      "outputs": [
        {
          "name": "stderr",
          "output_type": "stream",
          "text": [
            "WARNING:absl:At this time, the v2.11+ optimizer `tf.keras.optimizers.Adam` runs slowly on M1/M2 Macs, please use the legacy Keras optimizer instead, located at `tf.keras.optimizers.legacy.Adam`.\n"
          ]
        },
        {
          "name": "stdout",
          "output_type": "stream",
          "text": [
            "Epoch 1/150\n",
            "34/34 [==============================] - 0s 720us/step - loss: 13168.1992 - mae: 13168.1992\n",
            "Epoch 2/150\n",
            "34/34 [==============================] - 0s 626us/step - loss: 12978.3428 - mae: 12978.3428\n",
            "Epoch 3/150\n",
            "34/34 [==============================] - 0s 631us/step - loss: 12577.0215 - mae: 12577.0215\n",
            "Epoch 4/150\n",
            "34/34 [==============================] - 0s 580us/step - loss: 11804.7354 - mae: 11804.7354\n",
            "Epoch 5/150\n",
            "34/34 [==============================] - 0s 573us/step - loss: 10574.8350 - mae: 10574.8350\n",
            "Epoch 6/150\n",
            "34/34 [==============================] - 0s 577us/step - loss: 9089.7920 - mae: 9089.7920\n",
            "Epoch 7/150\n",
            "34/34 [==============================] - 0s 578us/step - loss: 7922.4121 - mae: 7922.4121\n",
            "Epoch 8/150\n",
            "34/34 [==============================] - 0s 577us/step - loss: 7514.8115 - mae: 7514.8115\n",
            "Epoch 9/150\n",
            "34/34 [==============================] - 0s 581us/step - loss: 7438.4258 - mae: 7438.4258\n",
            "Epoch 10/150\n",
            "34/34 [==============================] - 0s 577us/step - loss: 7413.2700 - mae: 7413.2700\n",
            "Epoch 11/150\n",
            "34/34 [==============================] - 0s 576us/step - loss: 7390.6367 - mae: 7390.6367\n",
            "Epoch 12/150\n",
            "34/34 [==============================] - 0s 569us/step - loss: 7368.4858 - mae: 7368.4858\n",
            "Epoch 13/150\n",
            "34/34 [==============================] - 0s 576us/step - loss: 7345.0562 - mae: 7345.0562\n",
            "Epoch 14/150\n",
            "34/34 [==============================] - 0s 572us/step - loss: 7322.1333 - mae: 7322.1333\n",
            "Epoch 15/150\n",
            "34/34 [==============================] - 0s 572us/step - loss: 7301.5244 - mae: 7301.5244\n",
            "Epoch 16/150\n",
            "34/34 [==============================] - 0s 572us/step - loss: 7275.3457 - mae: 7275.3457\n",
            "Epoch 17/150\n",
            "34/34 [==============================] - 0s 578us/step - loss: 7249.6992 - mae: 7249.6992\n",
            "Epoch 18/150\n",
            "34/34 [==============================] - 0s 573us/step - loss: 7227.0000 - mae: 7227.0000\n",
            "Epoch 19/150\n",
            "34/34 [==============================] - 0s 574us/step - loss: 7200.0005 - mae: 7200.0005\n",
            "Epoch 20/150\n",
            "34/34 [==============================] - 0s 572us/step - loss: 7177.3564 - mae: 7177.3564\n",
            "Epoch 21/150\n",
            "34/34 [==============================] - 0s 576us/step - loss: 7152.4941 - mae: 7152.4941\n",
            "Epoch 22/150\n",
            "34/34 [==============================] - 0s 573us/step - loss: 7120.4116 - mae: 7120.4116\n",
            "Epoch 23/150\n",
            "34/34 [==============================] - 0s 592us/step - loss: 7093.9829 - mae: 7093.9829\n",
            "Epoch 24/150\n",
            "34/34 [==============================] - 0s 577us/step - loss: 7062.3130 - mae: 7062.3130\n",
            "Epoch 25/150\n",
            "34/34 [==============================] - 0s 571us/step - loss: 7036.1147 - mae: 7036.1147\n",
            "Epoch 26/150\n",
            "34/34 [==============================] - 0s 582us/step - loss: 7005.0112 - mae: 7005.0112\n",
            "Epoch 27/150\n",
            "34/34 [==============================] - 0s 579us/step - loss: 6976.6138 - mae: 6976.6138\n",
            "Epoch 28/150\n",
            "34/34 [==============================] - 0s 587us/step - loss: 6937.4741 - mae: 6937.4741\n",
            "Epoch 29/150\n",
            "34/34 [==============================] - 0s 582us/step - loss: 6905.1523 - mae: 6905.1523\n",
            "Epoch 30/150\n",
            "34/34 [==============================] - 0s 576us/step - loss: 6872.3306 - mae: 6872.3306\n",
            "Epoch 31/150\n",
            "34/34 [==============================] - 0s 577us/step - loss: 6836.1265 - mae: 6836.1265\n",
            "Epoch 32/150\n",
            "34/34 [==============================] - 0s 587us/step - loss: 6801.8052 - mae: 6801.8052\n",
            "Epoch 33/150\n",
            "34/34 [==============================] - 0s 572us/step - loss: 6762.2017 - mae: 6762.2017\n",
            "Epoch 34/150\n",
            "34/34 [==============================] - 0s 572us/step - loss: 6721.5479 - mae: 6721.5479\n",
            "Epoch 35/150\n",
            "34/34 [==============================] - 0s 575us/step - loss: 6681.2075 - mae: 6681.2075\n",
            "Epoch 36/150\n",
            "34/34 [==============================] - 0s 568us/step - loss: 6642.7603 - mae: 6642.7603\n",
            "Epoch 37/150\n",
            "34/34 [==============================] - 0s 569us/step - loss: 6604.9629 - mae: 6604.9629\n",
            "Epoch 38/150\n",
            "34/34 [==============================] - 0s 573us/step - loss: 6567.1597 - mae: 6567.1597\n",
            "Epoch 39/150\n",
            "34/34 [==============================] - 0s 1ms/step - loss: 6535.8501 - mae: 6535.8501\n",
            "Epoch 40/150\n",
            "34/34 [==============================] - 0s 774us/step - loss: 6507.5303 - mae: 6507.5303\n",
            "Epoch 41/150\n",
            "34/34 [==============================] - 0s 577us/step - loss: 6485.2656 - mae: 6485.2656\n",
            "Epoch 42/150\n",
            "34/34 [==============================] - 0s 571us/step - loss: 6463.8579 - mae: 6463.8579\n",
            "Epoch 43/150\n",
            "34/34 [==============================] - 0s 581us/step - loss: 6443.6851 - mae: 6443.6851\n",
            "Epoch 44/150\n",
            "34/34 [==============================] - 0s 577us/step - loss: 6428.8506 - mae: 6428.8506\n",
            "Epoch 45/150\n",
            "34/34 [==============================] - 0s 580us/step - loss: 6414.1206 - mae: 6414.1206\n",
            "Epoch 46/150\n",
            "34/34 [==============================] - 0s 581us/step - loss: 6403.3765 - mae: 6403.3765\n",
            "Epoch 47/150\n",
            "34/34 [==============================] - 0s 586us/step - loss: 6386.7310 - mae: 6386.7310\n",
            "Epoch 48/150\n",
            "34/34 [==============================] - 0s 574us/step - loss: 6372.6353 - mae: 6372.6353\n",
            "Epoch 49/150\n",
            "34/34 [==============================] - 0s 566us/step - loss: 6359.0127 - mae: 6359.0127\n",
            "Epoch 50/150\n",
            "34/34 [==============================] - 0s 578us/step - loss: 6344.5776 - mae: 6344.5776\n",
            "Epoch 51/150\n",
            "34/34 [==============================] - 0s 575us/step - loss: 6329.9146 - mae: 6329.9146\n",
            "Epoch 52/150\n",
            "34/34 [==============================] - 0s 576us/step - loss: 6317.6484 - mae: 6317.6484\n",
            "Epoch 53/150\n",
            "34/34 [==============================] - 0s 571us/step - loss: 6303.2739 - mae: 6303.2739\n",
            "Epoch 54/150\n",
            "34/34 [==============================] - 0s 575us/step - loss: 6286.9277 - mae: 6286.9277\n",
            "Epoch 55/150\n",
            "34/34 [==============================] - 0s 570us/step - loss: 6277.0586 - mae: 6277.0586\n",
            "Epoch 56/150\n",
            "34/34 [==============================] - 0s 571us/step - loss: 6260.5850 - mae: 6260.5850\n",
            "Epoch 57/150\n",
            "34/34 [==============================] - 0s 577us/step - loss: 6245.0581 - mae: 6245.0581\n",
            "Epoch 58/150\n",
            "34/34 [==============================] - 0s 580us/step - loss: 6232.5059 - mae: 6232.5059\n",
            "Epoch 59/150\n",
            "34/34 [==============================] - 0s 577us/step - loss: 6217.2485 - mae: 6217.2485\n",
            "Epoch 60/150\n",
            "34/34 [==============================] - 0s 573us/step - loss: 6200.8872 - mae: 6200.8872\n",
            "Epoch 61/150\n",
            "34/34 [==============================] - 0s 580us/step - loss: 6186.9893 - mae: 6186.9893\n",
            "Epoch 62/150\n",
            "34/34 [==============================] - 0s 571us/step - loss: 6169.6353 - mae: 6169.6353\n",
            "Epoch 63/150\n",
            "34/34 [==============================] - 0s 622us/step - loss: 6152.4639 - mae: 6152.4639\n",
            "Epoch 64/150\n",
            "34/34 [==============================] - 0s 672us/step - loss: 6133.6650 - mae: 6133.6650\n",
            "Epoch 65/150\n",
            "34/34 [==============================] - 0s 641us/step - loss: 6118.0410 - mae: 6118.0410\n",
            "Epoch 66/150\n",
            "34/34 [==============================] - 0s 602us/step - loss: 6098.8301 - mae: 6098.8301\n",
            "Epoch 67/150\n",
            "34/34 [==============================] - 0s 586us/step - loss: 6080.1729 - mae: 6080.1729\n",
            "Epoch 68/150\n",
            "34/34 [==============================] - 0s 606us/step - loss: 6060.8984 - mae: 6060.8984\n",
            "Epoch 69/150\n",
            "34/34 [==============================] - 0s 582us/step - loss: 6043.1206 - mae: 6043.1206\n",
            "Epoch 70/150\n",
            "34/34 [==============================] - 0s 593us/step - loss: 6026.0962 - mae: 6026.0962\n",
            "Epoch 71/150\n",
            "34/34 [==============================] - 0s 585us/step - loss: 6005.9707 - mae: 6005.9707\n",
            "Epoch 72/150\n",
            "34/34 [==============================] - 0s 581us/step - loss: 5984.7139 - mae: 5984.7139\n",
            "Epoch 73/150\n",
            "34/34 [==============================] - 0s 589us/step - loss: 5963.1089 - mae: 5963.1089\n",
            "Epoch 74/150\n",
            "34/34 [==============================] - 0s 586us/step - loss: 5937.3247 - mae: 5937.3247\n",
            "Epoch 75/150\n",
            "34/34 [==============================] - 0s 585us/step - loss: 5924.3325 - mae: 5924.3325\n",
            "Epoch 76/150\n",
            "34/34 [==============================] - 0s 583us/step - loss: 5891.6475 - mae: 5891.6475\n",
            "Epoch 77/150\n",
            "34/34 [==============================] - 0s 577us/step - loss: 5866.6343 - mae: 5866.6343\n",
            "Epoch 78/150\n",
            "34/34 [==============================] - 0s 582us/step - loss: 5845.6782 - mae: 5845.6782\n",
            "Epoch 79/150\n",
            "34/34 [==============================] - 0s 586us/step - loss: 5812.2183 - mae: 5812.2183\n",
            "Epoch 80/150\n",
            "34/34 [==============================] - 0s 582us/step - loss: 5788.4253 - mae: 5788.4253\n",
            "Epoch 81/150\n",
            "34/34 [==============================] - 0s 575us/step - loss: 5758.4287 - mae: 5758.4287\n",
            "Epoch 82/150\n",
            "34/34 [==============================] - 0s 581us/step - loss: 5730.9995 - mae: 5730.9995\n",
            "Epoch 83/150\n",
            "34/34 [==============================] - 0s 581us/step - loss: 5698.4263 - mae: 5698.4263\n",
            "Epoch 84/150\n",
            "34/34 [==============================] - 0s 577us/step - loss: 5667.3330 - mae: 5667.3330\n",
            "Epoch 85/150\n",
            "34/34 [==============================] - 0s 579us/step - loss: 5632.3511 - mae: 5632.3511\n",
            "Epoch 86/150\n",
            "34/34 [==============================] - 0s 583us/step - loss: 5601.5581 - mae: 5601.5581\n",
            "Epoch 87/150\n",
            "34/34 [==============================] - 0s 582us/step - loss: 5564.6421 - mae: 5564.6421\n",
            "Epoch 88/150\n",
            "34/34 [==============================] - 0s 576us/step - loss: 5546.4136 - mae: 5546.4136\n",
            "Epoch 89/150\n",
            "34/34 [==============================] - 0s 848us/step - loss: 5486.1079 - mae: 5486.1079\n",
            "Epoch 90/150\n",
            "34/34 [==============================] - 0s 616us/step - loss: 5449.6250 - mae: 5449.6250\n",
            "Epoch 91/150\n",
            "34/34 [==============================] - 0s 618us/step - loss: 5405.6895 - mae: 5405.6895\n",
            "Epoch 92/150\n",
            "34/34 [==============================] - 0s 587us/step - loss: 5365.1030 - mae: 5365.1030\n",
            "Epoch 93/150\n",
            "34/34 [==============================] - 0s 582us/step - loss: 5324.1152 - mae: 5324.1152\n",
            "Epoch 94/150\n",
            "34/34 [==============================] - 0s 581us/step - loss: 5265.0347 - mae: 5265.0347\n",
            "Epoch 95/150\n",
            "34/34 [==============================] - 0s 574us/step - loss: 5220.0649 - mae: 5220.0649\n",
            "Epoch 96/150\n",
            "34/34 [==============================] - 0s 576us/step - loss: 5161.2842 - mae: 5161.2842\n",
            "Epoch 97/150\n",
            "34/34 [==============================] - 0s 583us/step - loss: 5105.3076 - mae: 5105.3076\n",
            "Epoch 98/150\n",
            "34/34 [==============================] - 0s 594us/step - loss: 5045.9946 - mae: 5045.9946\n",
            "Epoch 99/150\n",
            "34/34 [==============================] - 0s 597us/step - loss: 4983.8867 - mae: 4983.8867\n",
            "Epoch 100/150\n",
            "34/34 [==============================] - 0s 579us/step - loss: 4915.8687 - mae: 4915.8687\n",
            "Epoch 101/150\n",
            "34/34 [==============================] - 0s 574us/step - loss: 4858.0610 - mae: 4858.0610\n",
            "Epoch 102/150\n",
            "34/34 [==============================] - 0s 585us/step - loss: 4786.8760 - mae: 4786.8760\n",
            "Epoch 103/150\n",
            "34/34 [==============================] - 0s 623us/step - loss: 4703.0239 - mae: 4703.0239\n",
            "Epoch 104/150\n",
            "34/34 [==============================] - 0s 584us/step - loss: 4624.4229 - mae: 4624.4229\n",
            "Epoch 105/150\n",
            "34/34 [==============================] - 0s 585us/step - loss: 4549.3418 - mae: 4549.3418\n",
            "Epoch 106/150\n",
            "34/34 [==============================] - 0s 577us/step - loss: 4478.9917 - mae: 4478.9917\n",
            "Epoch 107/150\n",
            "34/34 [==============================] - 0s 579us/step - loss: 4387.3857 - mae: 4387.3857\n",
            "Epoch 108/150\n",
            "34/34 [==============================] - 0s 575us/step - loss: 4311.7217 - mae: 4311.7217\n",
            "Epoch 109/150\n",
            "34/34 [==============================] - 0s 580us/step - loss: 4230.5850 - mae: 4230.5850\n",
            "Epoch 110/150\n",
            "34/34 [==============================] - 0s 577us/step - loss: 4149.2881 - mae: 4149.2881\n",
            "Epoch 111/150\n",
            "34/34 [==============================] - 0s 587us/step - loss: 4072.7617 - mae: 4072.7617\n",
            "Epoch 112/150\n",
            "34/34 [==============================] - 0s 582us/step - loss: 4020.3108 - mae: 4020.3108\n",
            "Epoch 113/150\n",
            "34/34 [==============================] - 0s 576us/step - loss: 3967.7644 - mae: 3967.7644\n",
            "Epoch 114/150\n",
            "34/34 [==============================] - 0s 570us/step - loss: 3935.2612 - mae: 3935.2612\n",
            "Epoch 115/150\n",
            "34/34 [==============================] - 0s 623us/step - loss: 3906.2637 - mae: 3906.2637\n",
            "Epoch 116/150\n",
            "34/34 [==============================] - 0s 580us/step - loss: 3881.3721 - mae: 3881.3721\n",
            "Epoch 117/150\n",
            "34/34 [==============================] - 0s 584us/step - loss: 3858.3784 - mae: 3858.3784\n",
            "Epoch 118/150\n",
            "34/34 [==============================] - 0s 578us/step - loss: 3834.8384 - mae: 3834.8384\n",
            "Epoch 119/150\n",
            "34/34 [==============================] - 0s 581us/step - loss: 3832.0649 - mae: 3832.0649\n",
            "Epoch 120/150\n",
            "34/34 [==============================] - 0s 585us/step - loss: 3807.1877 - mae: 3807.1877\n",
            "Epoch 121/150\n",
            "34/34 [==============================] - 0s 596us/step - loss: 3797.3206 - mae: 3797.3206\n",
            "Epoch 122/150\n",
            "34/34 [==============================] - 0s 592us/step - loss: 3799.6555 - mae: 3799.6555\n",
            "Epoch 123/150\n",
            "34/34 [==============================] - 0s 582us/step - loss: 3803.9104 - mae: 3803.9104\n",
            "Epoch 124/150\n",
            "34/34 [==============================] - 0s 583us/step - loss: 3792.8828 - mae: 3792.8828\n",
            "Epoch 125/150\n",
            "34/34 [==============================] - 0s 585us/step - loss: 3786.6309 - mae: 3786.6309\n",
            "Epoch 126/150\n",
            "34/34 [==============================] - 0s 879us/step - loss: 3776.3652 - mae: 3776.3652\n",
            "Epoch 127/150\n",
            "34/34 [==============================] - 0s 613us/step - loss: 3775.3037 - mae: 3775.3037\n",
            "Epoch 128/150\n",
            "34/34 [==============================] - 0s 581us/step - loss: 3769.8867 - mae: 3769.8867\n",
            "Epoch 129/150\n",
            "34/34 [==============================] - 0s 575us/step - loss: 3764.4104 - mae: 3764.4104\n",
            "Epoch 130/150\n",
            "34/34 [==============================] - 0s 584us/step - loss: 3763.2883 - mae: 3763.2883\n",
            "Epoch 131/150\n",
            "34/34 [==============================] - 0s 581us/step - loss: 3761.5349 - mae: 3761.5349\n",
            "Epoch 132/150\n",
            "34/34 [==============================] - 0s 1ms/step - loss: 3758.6875 - mae: 3758.6875\n",
            "Epoch 133/150\n",
            "34/34 [==============================] - 0s 785us/step - loss: 3756.8789 - mae: 3756.8789\n",
            "Epoch 134/150\n",
            "34/34 [==============================] - 0s 575us/step - loss: 3762.0317 - mae: 3762.0317\n",
            "Epoch 135/150\n",
            "34/34 [==============================] - 0s 597us/step - loss: 3749.4932 - mae: 3749.4932\n",
            "Epoch 136/150\n",
            "34/34 [==============================] - 0s 583us/step - loss: 3762.9514 - mae: 3762.9514\n",
            "Epoch 137/150\n",
            "34/34 [==============================] - 0s 644us/step - loss: 3744.5049 - mae: 3744.5049\n",
            "Epoch 138/150\n",
            "34/34 [==============================] - 0s 590us/step - loss: 3750.3096 - mae: 3750.3096\n",
            "Epoch 139/150\n",
            "34/34 [==============================] - 0s 583us/step - loss: 3753.5923 - mae: 3753.5923\n",
            "Epoch 140/150\n",
            "34/34 [==============================] - 0s 582us/step - loss: 3742.2256 - mae: 3742.2256\n",
            "Epoch 141/150\n",
            "34/34 [==============================] - 0s 583us/step - loss: 3739.6045 - mae: 3739.6045\n",
            "Epoch 142/150\n",
            "34/34 [==============================] - 0s 583us/step - loss: 3733.6604 - mae: 3733.6604\n",
            "Epoch 143/150\n",
            "34/34 [==============================] - 0s 581us/step - loss: 3735.7095 - mae: 3735.7095\n",
            "Epoch 144/150\n",
            "34/34 [==============================] - 0s 580us/step - loss: 3729.9729 - mae: 3729.9729\n",
            "Epoch 145/150\n",
            "34/34 [==============================] - 0s 581us/step - loss: 3737.7690 - mae: 3737.7690\n",
            "Epoch 146/150\n",
            "34/34 [==============================] - 0s 587us/step - loss: 3723.6147 - mae: 3723.6147\n",
            "Epoch 147/150\n",
            "34/34 [==============================] - 0s 591us/step - loss: 3731.5889 - mae: 3731.5889\n",
            "Epoch 148/150\n",
            "34/34 [==============================] - 0s 581us/step - loss: 3721.7744 - mae: 3721.7744\n",
            "Epoch 149/150\n",
            "34/34 [==============================] - 0s 622us/step - loss: 3717.4045 - mae: 3717.4045\n",
            "Epoch 150/150\n",
            "34/34 [==============================] - 0s 581us/step - loss: 3721.6096 - mae: 3721.6096\n"
          ]
        }
      ],
      "source": [
        "tf.random.set_seed(42)\n",
        "\n",
        "insurance_model_4 = tf.keras.Sequential([\n",
        "    tf.keras.layers.Dense(100),\n",
        "    tf.keras.layers.Dense(10),\n",
        "    tf.keras.layers.Dense(1),\n",
        "])\n",
        "\n",
        "insurance_model_4.compile(loss=tf.keras.losses.mae,\n",
        "                        optimizer=tf.keras.optimizers.Adam(),\n",
        "                        metrics=[\"mae\"])\n",
        "\n",
        "history = insurance_model_4.fit(X_train, y_train, epochs=150)"
      ]
    },
    {
      "cell_type": "code",
      "execution_count": 217,
      "metadata": {
        "colab": {
          "base_uri": "https://localhost:8080/"
        },
        "id": "zoB9AGiy3jfo",
        "outputId": "48213140-21e4-4357-ccba-8f61af6aeedd"
      },
      "outputs": [
        {
          "name": "stdout",
          "output_type": "stream",
          "text": [
            "9/9 [==============================] - 0s 694us/step - loss: 3638.8911 - mae: 3638.8911\n"
          ]
        },
        {
          "data": {
            "text/plain": [
              "[3638.89111328125, 3638.89111328125]"
            ]
          },
          "execution_count": 217,
          "metadata": {},
          "output_type": "execute_result"
        }
      ],
      "source": [
        "insurance_model_4.evaluate(X_test, y_test)"
      ]
    },
    {
      "cell_type": "code",
      "execution_count": 218,
      "metadata": {
        "colab": {
          "base_uri": "https://localhost:8080/",
          "height": 466
        },
        "id": "TsNnExU03p5J",
        "outputId": "05ec382e-3a59-48bf-87e4-cc64b7311aba"
      },
      "outputs": [
        {
          "data": {
            "text/plain": [
              "Text(0.5, 0, 'epochs')"
            ]
          },
          "execution_count": 218,
          "metadata": {},
          "output_type": "execute_result"
        },
        {
          "data": {
            "image/png": "[encoded data removed]",
            "text/plain": [
              "<Figure size 640x480 with 1 Axes>"
            ]
          },
          "metadata": {},
          "output_type": "display_data"
        }
      ],
      "source": [
        "pd.DataFrame(history.history).plot()\n",
        "plt.ylabel(\"loss\")\n",
        "plt.xlabel(\"epochs\")"
      ]
    },
    {
      "cell_type": "markdown",
      "metadata": {
        "id": "11n4-L9o3qZa"
      },
      "source": [
        "## Preprocessing Data (normalization and standardization)"
      ]
    },
    {
      "cell_type": "code",
      "execution_count": 219,
      "metadata": {
        "id": "IV4yWQ8x309P"
      },
      "outputs": [
        {
          "data": {
            "text/html": [
              "<div>\n",
              "<style scoped>\n",
              "    .dataframe tbody tr th:only-of-type {\n",
              "        vertical-align: middle;\n",
              "    }\n",
              "\n",
              "    .dataframe tbody tr th {\n",
              "        vertical-align: top;\n",
              "    }\n",
              "\n",
              "    .dataframe thead th {\n",
              "        text-align: right;\n",
              "    }\n",
              "</style>\n",
              "<table border=\"1\" class=\"dataframe\">\n",
              "  <thead>\n",
              "    <tr style=\"text-align: right;\">\n",
              "      <th></th>\n",
              "      <th>age</th>\n",
              "      <th>sex</th>\n",
              "      <th>bmi</th>\n",
              "      <th>children</th>\n",
              "      <th>smoker</th>\n",
              "      <th>region</th>\n",
              "      <th>charges</th>\n",
              "    </tr>\n",
              "  </thead>\n",
              "  <tbody>\n",
              "    <tr>\n",
              "      <th>0</th>\n",
              "      <td>19</td>\n",
              "      <td>female</td>\n",
              "      <td>27.900</td>\n",
              "      <td>0</td>\n",
              "      <td>yes</td>\n",
              "      <td>southwest</td>\n",
              "      <td>16884.92400</td>\n",
              "    </tr>\n",
              "    <tr>\n",
              "      <th>1</th>\n",
              "      <td>18</td>\n",
              "      <td>male</td>\n",
              "      <td>33.770</td>\n",
              "      <td>1</td>\n",
              "      <td>no</td>\n",
              "      <td>southeast</td>\n",
              "      <td>1725.55230</td>\n",
              "    </tr>\n",
              "    <tr>\n",
              "      <th>2</th>\n",
              "      <td>28</td>\n",
              "      <td>male</td>\n",
              "      <td>33.000</td>\n",
              "      <td>3</td>\n",
              "      <td>no</td>\n",
              "      <td>southeast</td>\n",
              "      <td>4449.46200</td>\n",
              "    </tr>\n",
              "    <tr>\n",
              "      <th>3</th>\n",
              "      <td>33</td>\n",
              "      <td>male</td>\n",
              "      <td>22.705</td>\n",
              "      <td>0</td>\n",
              "      <td>no</td>\n",
              "      <td>northwest</td>\n",
              "      <td>21984.47061</td>\n",
              "    </tr>\n",
              "    <tr>\n",
              "      <th>4</th>\n",
              "      <td>32</td>\n",
              "      <td>male</td>\n",
              "      <td>28.880</td>\n",
              "      <td>0</td>\n",
              "      <td>no</td>\n",
              "      <td>northwest</td>\n",
              "      <td>3866.85520</td>\n",
              "    </tr>\n",
              "    <tr>\n",
              "      <th>...</th>\n",
              "      <td>...</td>\n",
              "      <td>...</td>\n",
              "      <td>...</td>\n",
              "      <td>...</td>\n",
              "      <td>...</td>\n",
              "      <td>...</td>\n",
              "      <td>...</td>\n",
              "    </tr>\n",
              "    <tr>\n",
              "      <th>1333</th>\n",
              "      <td>50</td>\n",
              "      <td>male</td>\n",
              "      <td>30.970</td>\n",
              "      <td>3</td>\n",
              "      <td>no</td>\n",
              "      <td>northwest</td>\n",
              "      <td>10600.54830</td>\n",
              "    </tr>\n",
              "    <tr>\n",
              "      <th>1334</th>\n",
              "      <td>18</td>\n",
              "      <td>female</td>\n",
              "      <td>31.920</td>\n",
              "      <td>0</td>\n",
              "      <td>no</td>\n",
              "      <td>northeast</td>\n",
              "      <td>2205.98080</td>\n",
              "    </tr>\n",
              "    <tr>\n",
              "      <th>1335</th>\n",
              "      <td>18</td>\n",
              "      <td>female</td>\n",
              "      <td>36.850</td>\n",
              "      <td>0</td>\n",
              "      <td>no</td>\n",
              "      <td>southeast</td>\n",
              "      <td>1629.83350</td>\n",
              "    </tr>\n",
              "    <tr>\n",
              "      <th>1336</th>\n",
              "      <td>21</td>\n",
              "      <td>female</td>\n",
              "      <td>25.800</td>\n",
              "      <td>0</td>\n",
              "      <td>no</td>\n",
              "      <td>southwest</td>\n",
              "      <td>2007.94500</td>\n",
              "    </tr>\n",
              "    <tr>\n",
              "      <th>1337</th>\n",
              "      <td>61</td>\n",
              "      <td>female</td>\n",
              "      <td>29.070</td>\n",
              "      <td>0</td>\n",
              "      <td>yes</td>\n",
              "      <td>northwest</td>\n",
              "      <td>29141.36030</td>\n",
              "    </tr>\n",
              "  </tbody>\n",
              "</table>\n",
              "<p>1338 rows × 7 columns</p>\n",
              "</div>"
            ],
            "text/plain": [
              "      age     sex     bmi  children smoker     region      charges\n",
              "0      19  female  27.900         0    yes  southwest  16884.92400\n",
              "1      18    male  33.770         1     no  southeast   1725.55230\n",
              "2      28    male  33.000         3     no  southeast   4449.46200\n",
              "3      33    male  22.705         0     no  northwest  21984.47061\n",
              "4      32    male  28.880         0     no  northwest   3866.85520\n",
              "...   ...     ...     ...       ...    ...        ...          ...\n",
              "1333   50    male  30.970         3     no  northwest  10600.54830\n",
              "1334   18  female  31.920         0     no  northeast   2205.98080\n",
              "1335   18  female  36.850         0     no  southeast   1629.83350\n",
              "1336   21  female  25.800         0     no  southwest   2007.94500\n",
              "1337   61  female  29.070         0    yes  northwest  29141.36030\n",
              "\n",
              "[1338 rows x 7 columns]"
            ]
          },
          "execution_count": 219,
          "metadata": {},
          "output_type": "execute_result"
        }
      ],
      "source": [
        "import pandas as pd\n",
        "import matplotlib.pyplot as plt\n",
        "import tensorflow as tf\n",
        "\n",
        "insurance = pd.read_csv(\"https://raw.githubusercontent.com/stedy/Machine-Learning-with-R-datasets/master/insurance.csv\")\n",
        "insurance\n"
      ]
    },
    {
      "cell_type": "code",
      "execution_count": 220,
      "metadata": {},
      "outputs": [],
      "source": [
        "from sklearn.compose import make_column_transformer\n",
        "from sklearn.preprocessing import MinMaxScaler, OneHotEncoder, StandardScaler\n",
        "from sklearn.model_selection import train_test_split\n",
        "\n",
        "ct = make_column_transformer(\n",
        "    (MinMaxScaler(), [\"age\", \"bmi\", \"children\"]), \n",
        "    (OneHotEncoder(handle_unknown=\"ignore\"), [\"sex\", \"smoker\", \"region\"])\n",
        ")\n",
        "\n",
        "X = insurance.drop(\"charges\", axis=1)\n",
        "y = insurance[\"charges\"]\n",
        "\n",
        "X_train, X_test, y_train, y_test = train_test_split(X, y, test_size=0.2, random_state=42)\n",
        "\n",
        "X_train_normal = ct.fit_transform(X_train)\n",
        "X_test_normal = ct.transform(X_test)"
      ]
    },
    {
      "cell_type": "code",
      "execution_count": 221,
      "metadata": {},
      "outputs": [
        {
          "data": {
            "text/plain": [
              "((1070, 6), (1070, 11))"
            ]
          },
          "execution_count": 221,
          "metadata": {},
          "output_type": "execute_result"
        }
      ],
      "source": [
        "X_train.shape, X_train_normal.shape"
      ]
    },
    {
      "cell_type": "code",
      "execution_count": 222,
      "metadata": {},
      "outputs": [
        {
          "name": "stderr",
          "output_type": "stream",
          "text": [
            "WARNING:absl:At this time, the v2.11+ optimizer `tf.keras.optimizers.Adam` runs slowly on M1/M2 Macs, please use the legacy Keras optimizer instead, located at `tf.keras.optimizers.legacy.Adam`.\n"
          ]
        },
        {
          "name": "stdout",
          "output_type": "stream",
          "text": [
            "Epoch 1/100\n",
            "34/34 [==============================] - 0s 714us/step - loss: 13344.0449 - mae: 13344.0449\n",
            "Epoch 2/100\n",
            "34/34 [==============================] - 0s 653us/step - loss: 13335.4375 - mae: 13335.4375\n",
            "Epoch 3/100\n",
            "34/34 [==============================] - 0s 608us/step - loss: 13313.6035 - mae: 13313.6035\n",
            "Epoch 4/100\n",
            "34/34 [==============================] - 0s 575us/step - loss: 13267.4248 - mae: 13267.4248\n",
            "Epoch 5/100\n",
            "34/34 [==============================] - 0s 590us/step - loss: 13185.5449 - mae: 13185.5449\n",
            "Epoch 6/100\n",
            "34/34 [==============================] - 0s 580us/step - loss: 13056.8535 - mae: 13056.8535\n",
            "Epoch 7/100\n",
            "34/34 [==============================] - 0s 576us/step - loss: 12871.0879 - mae: 12871.0879\n",
            "Epoch 8/100\n",
            "34/34 [==============================] - 0s 581us/step - loss: 12618.3389 - mae: 12618.3389\n",
            "Epoch 9/100\n",
            "34/34 [==============================] - 0s 580us/step - loss: 12288.5410 - mae: 12288.5410\n",
            "Epoch 10/100\n",
            "34/34 [==============================] - 0s 585us/step - loss: 11879.0527 - mae: 11879.0527\n",
            "Epoch 11/100\n",
            "34/34 [==============================] - 0s 580us/step - loss: 11401.5146 - mae: 11401.5146\n",
            "Epoch 12/100\n",
            "34/34 [==============================] - 0s 580us/step - loss: 10894.9639 - mae: 10894.9639\n",
            "Epoch 13/100\n",
            "34/34 [==============================] - 0s 610us/step - loss: 10393.5898 - mae: 10393.5898\n",
            "Epoch 14/100\n",
            "34/34 [==============================] - 0s 591us/step - loss: 9901.9717 - mae: 9901.9717\n",
            "Epoch 15/100\n",
            "34/34 [==============================] - 0s 583us/step - loss: 9437.9570 - mae: 9437.9570\n",
            "Epoch 16/100\n",
            "34/34 [==============================] - 0s 583us/step - loss: 9027.9941 - mae: 9027.9941\n",
            "Epoch 17/100\n",
            "34/34 [==============================] - 0s 575us/step - loss: 8693.9551 - mae: 8693.9551\n",
            "Epoch 18/100\n",
            "34/34 [==============================] - 0s 583us/step - loss: 8420.0273 - mae: 8420.0273\n",
            "Epoch 19/100\n",
            "34/34 [==============================] - 0s 580us/step - loss: 8217.0879 - mae: 8217.0879\n",
            "Epoch 20/100\n",
            "34/34 [==============================] - 0s 582us/step - loss: 8076.5234 - mae: 8076.5234\n",
            "Epoch 21/100\n",
            "34/34 [==============================] - 0s 578us/step - loss: 7970.0176 - mae: 7970.0176\n",
            "Epoch 22/100\n",
            "34/34 [==============================] - 0s 578us/step - loss: 7897.3438 - mae: 7897.3438\n",
            "Epoch 23/100\n",
            "34/34 [==============================] - 0s 581us/step - loss: 7840.0073 - mae: 7840.0073\n",
            "Epoch 24/100\n",
            "34/34 [==============================] - 0s 579us/step - loss: 7788.2593 - mae: 7788.2593\n",
            "Epoch 25/100\n",
            "34/34 [==============================] - 0s 612us/step - loss: 7749.0884 - mae: 7749.0884\n",
            "Epoch 26/100\n",
            "34/34 [==============================] - 0s 599us/step - loss: 7697.4946 - mae: 7697.4946\n",
            "Epoch 27/100\n",
            "34/34 [==============================] - 0s 581us/step - loss: 7654.7695 - mae: 7654.7695\n",
            "Epoch 28/100\n",
            "34/34 [==============================] - 0s 585us/step - loss: 7611.8271 - mae: 7611.8271\n",
            "Epoch 29/100\n",
            "34/34 [==============================] - 0s 587us/step - loss: 7568.4487 - mae: 7568.4487\n",
            "Epoch 30/100\n",
            "34/34 [==============================] - 0s 581us/step - loss: 7524.2539 - mae: 7524.2539\n",
            "Epoch 31/100\n",
            "34/34 [==============================] - 0s 577us/step - loss: 7479.6748 - mae: 7479.6748\n",
            "Epoch 32/100\n",
            "34/34 [==============================] - 0s 585us/step - loss: 7434.8906 - mae: 7434.8906\n",
            "Epoch 33/100\n",
            "34/34 [==============================] - 0s 589us/step - loss: 7389.9087 - mae: 7389.9087\n",
            "Epoch 34/100\n",
            "34/34 [==============================] - 0s 585us/step - loss: 7340.8633 - mae: 7340.8633\n",
            "Epoch 35/100\n",
            "34/34 [==============================] - 0s 581us/step - loss: 7293.3335 - mae: 7293.3335\n",
            "Epoch 36/100\n",
            "34/34 [==============================] - 0s 583us/step - loss: 7242.4121 - mae: 7242.4121\n",
            "Epoch 37/100\n",
            "34/34 [==============================] - 0s 612us/step - loss: 7191.2793 - mae: 7191.2793\n",
            "Epoch 38/100\n",
            "34/34 [==============================] - 0s 584us/step - loss: 7139.3022 - mae: 7139.3022\n",
            "Epoch 39/100\n",
            "34/34 [==============================] - 0s 585us/step - loss: 7083.4766 - mae: 7083.4766\n",
            "Epoch 40/100\n",
            "34/34 [==============================] - 0s 587us/step - loss: 7027.0825 - mae: 7027.0825\n",
            "Epoch 41/100\n",
            "34/34 [==============================] - 0s 583us/step - loss: 6969.5273 - mae: 6969.5273\n",
            "Epoch 42/100\n",
            "34/34 [==============================] - 0s 581us/step - loss: 6908.9668 - mae: 6908.9668\n",
            "Epoch 43/100\n",
            "34/34 [==============================] - 0s 582us/step - loss: 6844.9888 - mae: 6844.9888\n",
            "Epoch 44/100\n",
            "34/34 [==============================] - 0s 577us/step - loss: 6777.1768 - mae: 6777.1768\n",
            "Epoch 45/100\n",
            "34/34 [==============================] - 0s 571us/step - loss: 6708.3989 - mae: 6708.3989\n",
            "Epoch 46/100\n",
            "34/34 [==============================] - 0s 588us/step - loss: 6637.7319 - mae: 6637.7319\n",
            "Epoch 47/100\n",
            "34/34 [==============================] - 0s 578us/step - loss: 6564.6465 - mae: 6564.6465\n",
            "Epoch 48/100\n",
            "34/34 [==============================] - 0s 577us/step - loss: 6483.7808 - mae: 6483.7808\n",
            "Epoch 49/100\n",
            "34/34 [==============================] - 0s 611us/step - loss: 6402.9775 - mae: 6402.9775\n",
            "Epoch 50/100\n",
            "34/34 [==============================] - 0s 644us/step - loss: 6314.9116 - mae: 6314.9116\n",
            "Epoch 51/100\n",
            "34/34 [==============================] - 0s 665us/step - loss: 6228.0581 - mae: 6228.0581\n",
            "Epoch 52/100\n",
            "34/34 [==============================] - 0s 739us/step - loss: 6132.5312 - mae: 6132.5312\n",
            "Epoch 53/100\n",
            "34/34 [==============================] - 0s 623us/step - loss: 6033.7344 - mae: 6033.7344\n",
            "Epoch 54/100\n",
            "34/34 [==============================] - 0s 583us/step - loss: 5932.3486 - mae: 5932.3486\n",
            "Epoch 55/100\n",
            "34/34 [==============================] - 0s 585us/step - loss: 5821.9868 - mae: 5821.9868\n",
            "Epoch 56/100\n",
            "34/34 [==============================] - 0s 585us/step - loss: 5710.4795 - mae: 5710.4795\n",
            "Epoch 57/100\n",
            "34/34 [==============================] - 0s 593us/step - loss: 5592.2148 - mae: 5592.2148\n",
            "Epoch 58/100\n",
            "34/34 [==============================] - 0s 580us/step - loss: 5473.9683 - mae: 5473.9683\n",
            "Epoch 59/100\n",
            "34/34 [==============================] - 0s 582us/step - loss: 5352.2837 - mae: 5352.2837\n",
            "Epoch 60/100\n",
            "34/34 [==============================] - 0s 581us/step - loss: 5227.0352 - mae: 5227.0352\n",
            "Epoch 61/100\n",
            "34/34 [==============================] - 0s 612us/step - loss: 5100.1919 - mae: 5100.1919\n",
            "Epoch 62/100\n",
            "34/34 [==============================] - 0s 614us/step - loss: 4967.2656 - mae: 4967.2656\n",
            "Epoch 63/100\n",
            "34/34 [==============================] - 0s 641us/step - loss: 4839.0581 - mae: 4839.0581\n",
            "Epoch 64/100\n",
            "34/34 [==============================] - 0s 611us/step - loss: 4706.9946 - mae: 4706.9946\n",
            "Epoch 65/100\n",
            "34/34 [==============================] - 0s 611us/step - loss: 4581.4927 - mae: 4581.4927\n",
            "Epoch 66/100\n",
            "34/34 [==============================] - 0s 592us/step - loss: 4461.7188 - mae: 4461.7188\n",
            "Epoch 67/100\n",
            "34/34 [==============================] - 0s 587us/step - loss: 4355.1118 - mae: 4355.1118\n",
            "Epoch 68/100\n",
            "34/34 [==============================] - 0s 594us/step - loss: 4249.5591 - mae: 4249.5591\n",
            "Epoch 69/100\n",
            "34/34 [==============================] - 0s 612us/step - loss: 4150.6787 - mae: 4150.6787\n",
            "Epoch 70/100\n",
            "34/34 [==============================] - 0s 577us/step - loss: 4059.9187 - mae: 4059.9187\n",
            "Epoch 71/100\n",
            "34/34 [==============================] - 0s 580us/step - loss: 3978.5449 - mae: 3978.5449\n",
            "Epoch 72/100\n",
            "34/34 [==============================] - 0s 586us/step - loss: 3907.0994 - mae: 3907.0994\n",
            "Epoch 73/100\n",
            "34/34 [==============================] - 0s 586us/step - loss: 3849.0105 - mae: 3849.0105\n",
            "Epoch 74/100\n",
            "34/34 [==============================] - 0s 583us/step - loss: 3799.2520 - mae: 3799.2520\n",
            "Epoch 75/100\n",
            "34/34 [==============================] - 0s 581us/step - loss: 3763.3420 - mae: 3763.3420\n",
            "Epoch 76/100\n",
            "34/34 [==============================] - 0s 596us/step - loss: 3736.9414 - mae: 3736.9414\n",
            "Epoch 77/100\n",
            "34/34 [==============================] - 0s 574us/step - loss: 3713.8843 - mae: 3713.8843\n",
            "Epoch 78/100\n",
            "34/34 [==============================] - 0s 580us/step - loss: 3698.6448 - mae: 3698.6448\n",
            "Epoch 79/100\n",
            "34/34 [==============================] - 0s 1ms/step - loss: 3688.7104 - mae: 3688.7104\n",
            "Epoch 80/100\n",
            "34/34 [==============================] - 0s 801us/step - loss: 3679.4912 - mae: 3679.4912\n",
            "Epoch 81/100\n",
            "34/34 [==============================] - 0s 579us/step - loss: 3674.1687 - mae: 3674.1687\n",
            "Epoch 82/100\n",
            "34/34 [==============================] - 0s 581us/step - loss: 3671.0723 - mae: 3671.0723\n",
            "Epoch 83/100\n",
            "34/34 [==============================] - 0s 577us/step - loss: 3665.2761 - mae: 3665.2761\n",
            "Epoch 84/100\n",
            "34/34 [==============================] - 0s 574us/step - loss: 3662.7507 - mae: 3662.7507\n",
            "Epoch 85/100\n",
            "34/34 [==============================] - 0s 804us/step - loss: 3660.3071 - mae: 3660.3071\n",
            "Epoch 86/100\n",
            "34/34 [==============================] - 0s 697us/step - loss: 3658.4917 - mae: 3658.4917\n",
            "Epoch 87/100\n",
            "34/34 [==============================] - 0s 597us/step - loss: 3655.7517 - mae: 3655.7517\n",
            "Epoch 88/100\n",
            "34/34 [==============================] - 0s 611us/step - loss: 3653.1814 - mae: 3653.1814\n",
            "Epoch 89/100\n",
            "34/34 [==============================] - 0s 584us/step - loss: 3651.9070 - mae: 3651.9070\n",
            "Epoch 90/100\n",
            "34/34 [==============================] - 0s 583us/step - loss: 3650.2810 - mae: 3650.2810\n",
            "Epoch 91/100\n",
            "34/34 [==============================] - 0s 572us/step - loss: 3647.0249 - mae: 3647.0249\n",
            "Epoch 92/100\n",
            "34/34 [==============================] - 0s 568us/step - loss: 3646.3516 - mae: 3646.3516\n",
            "Epoch 93/100\n",
            "34/34 [==============================] - 0s 589us/step - loss: 3644.0984 - mae: 3644.0984\n",
            "Epoch 94/100\n",
            "34/34 [==============================] - 0s 574us/step - loss: 3642.4226 - mae: 3642.4226\n",
            "Epoch 95/100\n",
            "34/34 [==============================] - 0s 578us/step - loss: 3643.6299 - mae: 3643.6299\n",
            "Epoch 96/100\n",
            "34/34 [==============================] - 0s 580us/step - loss: 3640.1526 - mae: 3640.1526\n",
            "Epoch 97/100\n",
            "34/34 [==============================] - 0s 575us/step - loss: 3637.8813 - mae: 3637.8813\n",
            "Epoch 98/100\n",
            "34/34 [==============================] - 0s 583us/step - loss: 3635.7620 - mae: 3635.7620\n",
            "Epoch 99/100\n",
            "34/34 [==============================] - 0s 577us/step - loss: 3635.1548 - mae: 3635.1548\n",
            "Epoch 100/100\n",
            "34/34 [==============================] - 0s 574us/step - loss: 3633.7820 - mae: 3633.7820\n"
          ]
        }
      ],
      "source": [
        "tf.random.set_seed(42)\n",
        "\n",
        "insurance_model_5 = tf.keras.Sequential([\n",
        "  tf.keras.layers.Dense(100),\n",
        "  tf.keras.layers.Dense(10),\n",
        "  tf.keras.layers.Dense(1),\n",
        "])\n",
        "\n",
        "insurance_model_5.compile(loss=tf.keras.losses.mae,\n",
        "                          optimizer=tf.keras.optimizers.Adam(),\n",
        "                          metrics=[\"mae\"])\n",
        "\n",
        "history_5 = insurance_model_5.fit(X_train_normal, y_train, epochs=100)"
      ]
    },
    {
      "cell_type": "code",
      "execution_count": 223,
      "metadata": {},
      "outputs": [
        {
          "name": "stdout",
          "output_type": "stream",
          "text": [
            "9/9 [==============================] - 0s 693us/step - loss: 3435.8376 - mae: 3435.8376\n"
          ]
        },
        {
          "data": {
            "text/plain": [
              "[3435.837646484375, 3435.837646484375]"
            ]
          },
          "execution_count": 223,
          "metadata": {},
          "output_type": "execute_result"
        }
      ],
      "source": [
        "insurance_model_5.evaluate(X_test_normal, y_test)"
      ]
    },
    {
      "cell_type": "code",
      "execution_count": 224,
      "metadata": {},
      "outputs": [
        {
          "data": {
            "text/plain": [
              "Text(0.5, 1.0, 'Insurance Model 5')"
            ]
          },
          "execution_count": 224,
          "metadata": {},
          "output_type": "execute_result"
        },
        {
          "data": {
            "image/png": "[encoded data removed]",
            "text/plain": [
              "<Figure size 640x480 with 1 Axes>"
            ]
          },
          "metadata": {},
          "output_type": "display_data"
        }
      ],
      "source": [
        "pd.DataFrame(history_5.history).plot()\n",
        "plt.ylabel(\"loss\")\n",
        "plt.xlabel(\"epochs\")\n",
        "plt.title(\"Insurance Model 5\")"
      ]
    },
    {
      "cell_type": "markdown",
      "metadata": {},
      "source": [
        "### Exercise 1: Trying out Boston Housing Dataset"
      ]
    },
    {
      "cell_type": "code",
      "execution_count": 230,
      "metadata": {},
      "outputs": [
        {
          "data": {
            "text/plain": [
              "((404, 13), (404,), (102, 13), (102,))"
            ]
          },
          "execution_count": 230,
          "metadata": {},
          "output_type": "execute_result"
        }
      ],
      "source": [
        "(X_train, y_train), (X_test, y_test) =  tf.keras.datasets.boston_housing.load_data(\n",
        "    path='boston_housing.npz', test_split=0.2, seed=113\n",
        ")\n",
        "X_train.shape, y_train.shape, X_test.shape, y_test.shape"
      ]
    },
    {
      "cell_type": "code",
      "execution_count": 231,
      "metadata": {},
      "outputs": [],
      "source": [
        "# from sklearn.compose import make_column_transformer\n",
        "# from sklearn.preprocessing import MinMaxScaler\n",
        "\n",
        "# ct = make_column_transformer(\n",
        "#   (MinMaxScaler(), [0, 1, 2, 3, 4, 5, 6, 7, 8, 9 ,10 ,11 ,12]),\n",
        "# )\n",
        "\n",
        "# X_train = ct.fit_transform(X_train)\n",
        "# X_test = ct.transform(X_test)\n",
        "\n",
        "\n",
        "# pd.DataFrame(X_train)"
      ]
    },
    {
      "cell_type": "code",
      "execution_count": 243,
      "metadata": {},
      "outputs": [
        {
          "name": "stderr",
          "output_type": "stream",
          "text": [
            "WARNING:absl:At this time, the v2.11+ optimizer `tf.keras.optimizers.Adam` runs slowly on M1/M2 Macs, please use the legacy Keras optimizer instead, located at `tf.keras.optimizers.legacy.Adam`.\n"
          ]
        },
        {
          "name": "stdout",
          "output_type": "stream",
          "text": [
            "Epoch 1/100\n",
            "13/13 [==============================] - 0s 961us/step - loss: 49.6180 - mae: 49.6180\n",
            "Epoch 2/100\n",
            "13/13 [==============================] - 0s 846us/step - loss: 19.1970 - mae: 19.1970\n",
            "Epoch 3/100\n",
            "13/13 [==============================] - 0s 800us/step - loss: 12.0210 - mae: 12.0210\n",
            "Epoch 4/100\n",
            "13/13 [==============================] - 0s 836us/step - loss: 8.8589 - mae: 8.8589\n",
            "Epoch 5/100\n",
            "13/13 [==============================] - 0s 841us/step - loss: 8.0573 - mae: 8.0573\n",
            "Epoch 6/100\n",
            "13/13 [==============================] - 0s 894us/step - loss: 7.0231 - mae: 7.0231\n",
            "Epoch 7/100\n",
            "13/13 [==============================] - 0s 1ms/step - loss: 8.1173 - mae: 8.1173\n",
            "Epoch 8/100\n",
            "13/13 [==============================] - 0s 1ms/step - loss: 7.1638 - mae: 7.1638\n",
            "Epoch 9/100\n",
            "13/13 [==============================] - 0s 712us/step - loss: 5.9090 - mae: 5.9090\n",
            "Epoch 10/100\n",
            "13/13 [==============================] - 0s 720us/step - loss: 6.3384 - mae: 6.3384\n",
            "Epoch 11/100\n",
            "13/13 [==============================] - 0s 715us/step - loss: 6.0844 - mae: 6.0844\n",
            "Epoch 12/100\n",
            "13/13 [==============================] - 0s 681us/step - loss: 5.7506 - mae: 5.7506\n",
            "Epoch 13/100\n",
            "13/13 [==============================] - 0s 689us/step - loss: 5.8440 - mae: 5.8440\n",
            "Epoch 14/100\n",
            "13/13 [==============================] - 0s 687us/step - loss: 5.9355 - mae: 5.9355\n",
            "Epoch 15/100\n",
            "13/13 [==============================] - 0s 671us/step - loss: 6.0086 - mae: 6.0086\n",
            "Epoch 16/100\n",
            "13/13 [==============================] - 0s 668us/step - loss: 6.0664 - mae: 6.0664\n",
            "Epoch 17/100\n",
            "13/13 [==============================] - 0s 687us/step - loss: 5.8915 - mae: 5.8915\n",
            "Epoch 18/100\n",
            "13/13 [==============================] - 0s 696us/step - loss: 5.5333 - mae: 5.5333\n",
            "Epoch 19/100\n",
            "13/13 [==============================] - 0s 674us/step - loss: 6.5066 - mae: 6.5066\n",
            "Epoch 20/100\n",
            "13/13 [==============================] - 0s 673us/step - loss: 5.7347 - mae: 5.7347\n",
            "Epoch 21/100\n",
            "13/13 [==============================] - 0s 670us/step - loss: 5.5775 - mae: 5.5775\n",
            "Epoch 22/100\n",
            "13/13 [==============================] - 0s 699us/step - loss: 5.3636 - mae: 5.3636\n",
            "Epoch 23/100\n",
            "13/13 [==============================] - 0s 676us/step - loss: 5.2181 - mae: 5.2181\n",
            "Epoch 24/100\n",
            "13/13 [==============================] - 0s 668us/step - loss: 6.0953 - mae: 6.0953\n",
            "Epoch 25/100\n",
            "13/13 [==============================] - 0s 739us/step - loss: 6.5371 - mae: 6.5371\n",
            "Epoch 26/100\n",
            "13/13 [==============================] - 0s 756us/step - loss: 5.4332 - mae: 5.4332\n",
            "Epoch 27/100\n",
            "13/13 [==============================] - 0s 686us/step - loss: 5.1429 - mae: 5.1429\n",
            "Epoch 28/100\n",
            "13/13 [==============================] - 0s 756us/step - loss: 5.9543 - mae: 5.9543\n",
            "Epoch 29/100\n",
            "13/13 [==============================] - 0s 701us/step - loss: 6.1325 - mae: 6.1325\n",
            "Epoch 30/100\n",
            "13/13 [==============================] - 0s 706us/step - loss: 5.5673 - mae: 5.5673\n",
            "Epoch 31/100\n",
            "13/13 [==============================] - 0s 714us/step - loss: 5.0373 - mae: 5.0373\n",
            "Epoch 32/100\n",
            "13/13 [==============================] - 0s 712us/step - loss: 5.5489 - mae: 5.5489\n",
            "Epoch 33/100\n",
            "13/13 [==============================] - 0s 692us/step - loss: 5.4787 - mae: 5.4787\n",
            "Epoch 34/100\n",
            "13/13 [==============================] - 0s 681us/step - loss: 6.0455 - mae: 6.0455\n",
            "Epoch 35/100\n",
            "13/13 [==============================] - 0s 696us/step - loss: 6.4511 - mae: 6.4511\n",
            "Epoch 36/100\n",
            "13/13 [==============================] - 0s 669us/step - loss: 5.4019 - mae: 5.4019\n",
            "Epoch 37/100\n",
            "13/13 [==============================] - 0s 667us/step - loss: 4.8639 - mae: 4.8639\n",
            "Epoch 38/100\n",
            "13/13 [==============================] - 0s 683us/step - loss: 5.4787 - mae: 5.4787\n",
            "Epoch 39/100\n",
            "13/13 [==============================] - 0s 680us/step - loss: 4.8050 - mae: 4.8050\n",
            "Epoch 40/100\n",
            "13/13 [==============================] - 0s 693us/step - loss: 5.1120 - mae: 5.1120\n",
            "Epoch 41/100\n",
            "13/13 [==============================] - 0s 669us/step - loss: 5.3683 - mae: 5.3683\n",
            "Epoch 42/100\n",
            "13/13 [==============================] - 0s 664us/step - loss: 5.3646 - mae: 5.3646\n",
            "Epoch 43/100\n",
            "13/13 [==============================] - 0s 679us/step - loss: 5.3866 - mae: 5.3866\n",
            "Epoch 44/100\n",
            "13/13 [==============================] - 0s 673us/step - loss: 4.8955 - mae: 4.8955\n",
            "Epoch 45/100\n",
            "13/13 [==============================] - 0s 737us/step - loss: 5.9402 - mae: 5.9402\n",
            "Epoch 46/100\n",
            "13/13 [==============================] - 0s 690us/step - loss: 5.1573 - mae: 5.1573\n",
            "Epoch 47/100\n",
            "13/13 [==============================] - 0s 668us/step - loss: 4.8746 - mae: 4.8746\n",
            "Epoch 48/100\n",
            "13/13 [==============================] - 0s 669us/step - loss: 5.1568 - mae: 5.1568\n",
            "Epoch 49/100\n",
            "13/13 [==============================] - 0s 675us/step - loss: 4.8043 - mae: 4.8043\n",
            "Epoch 50/100\n",
            "13/13 [==============================] - 0s 686us/step - loss: 4.7663 - mae: 4.7663\n",
            "Epoch 51/100\n",
            "13/13 [==============================] - 0s 685us/step - loss: 4.9142 - mae: 4.9142\n",
            "Epoch 52/100\n",
            "13/13 [==============================] - 0s 666us/step - loss: 6.1562 - mae: 6.1562\n",
            "Epoch 53/100\n",
            "13/13 [==============================] - 0s 678us/step - loss: 8.1233 - mae: 8.1233\n",
            "Epoch 54/100\n",
            "13/13 [==============================] - 0s 664us/step - loss: 5.7019 - mae: 5.7019\n",
            "Epoch 55/100\n",
            "13/13 [==============================] - 0s 681us/step - loss: 4.9644 - mae: 4.9644\n",
            "Epoch 56/100\n",
            "13/13 [==============================] - 0s 713us/step - loss: 4.5827 - mae: 4.5827\n",
            "Epoch 57/100\n",
            "13/13 [==============================] - 0s 691us/step - loss: 4.6773 - mae: 4.6773\n",
            "Epoch 58/100\n",
            "13/13 [==============================] - 0s 701us/step - loss: 5.2759 - mae: 5.2759\n",
            "Epoch 59/100\n",
            "13/13 [==============================] - 0s 715us/step - loss: 4.5828 - mae: 4.5828\n",
            "Epoch 60/100\n",
            "13/13 [==============================] - 0s 673us/step - loss: 4.5068 - mae: 4.5068\n",
            "Epoch 61/100\n",
            "13/13 [==============================] - 0s 705us/step - loss: 4.4298 - mae: 4.4298\n",
            "Epoch 62/100\n",
            "13/13 [==============================] - 0s 688us/step - loss: 4.6545 - mae: 4.6545\n",
            "Epoch 63/100\n",
            "13/13 [==============================] - 0s 690us/step - loss: 4.7305 - mae: 4.7305\n",
            "Epoch 64/100\n",
            "13/13 [==============================] - 0s 711us/step - loss: 5.6627 - mae: 5.6627\n",
            "Epoch 65/100\n",
            "13/13 [==============================] - 0s 669us/step - loss: 5.1075 - mae: 5.1075\n",
            "Epoch 66/100\n",
            "13/13 [==============================] - 0s 701us/step - loss: 5.1474 - mae: 5.1474\n",
            "Epoch 67/100\n",
            "13/13 [==============================] - 0s 703us/step - loss: 4.3746 - mae: 4.3746\n",
            "Epoch 68/100\n",
            "13/13 [==============================] - 0s 688us/step - loss: 4.6966 - mae: 4.6966\n",
            "Epoch 69/100\n",
            "13/13 [==============================] - 0s 701us/step - loss: 6.7326 - mae: 6.7326\n",
            "Epoch 70/100\n",
            "13/13 [==============================] - 0s 674us/step - loss: 5.4285 - mae: 5.4285\n",
            "Epoch 71/100\n",
            "13/13 [==============================] - 0s 720us/step - loss: 5.0695 - mae: 5.0695\n",
            "Epoch 72/100\n",
            "13/13 [==============================] - 0s 2ms/step - loss: 5.1489 - mae: 5.1489\n",
            "Epoch 73/100\n",
            "13/13 [==============================] - 0s 2ms/step - loss: 4.4831 - mae: 4.4831\n",
            "Epoch 74/100\n",
            "13/13 [==============================] - 0s 725us/step - loss: 4.7187 - mae: 4.7187\n",
            "Epoch 75/100\n",
            "13/13 [==============================] - 0s 669us/step - loss: 5.2973 - mae: 5.2973\n",
            "Epoch 76/100\n",
            "13/13 [==============================] - 0s 698us/step - loss: 5.0751 - mae: 5.0751\n",
            "Epoch 77/100\n",
            "13/13 [==============================] - 0s 714us/step - loss: 4.7475 - mae: 4.7475\n",
            "Epoch 78/100\n",
            "13/13 [==============================] - 0s 670us/step - loss: 4.4030 - mae: 4.4030\n",
            "Epoch 79/100\n",
            "13/13 [==============================] - 0s 720us/step - loss: 5.1591 - mae: 5.1591\n",
            "Epoch 80/100\n",
            "13/13 [==============================] - 0s 707us/step - loss: 5.8529 - mae: 5.8529\n",
            "Epoch 81/100\n",
            "13/13 [==============================] - 0s 679us/step - loss: 5.8963 - mae: 5.8963\n",
            "Epoch 82/100\n",
            "13/13 [==============================] - 0s 710us/step - loss: 5.4584 - mae: 5.4584\n",
            "Epoch 83/100\n",
            "13/13 [==============================] - 0s 693us/step - loss: 4.4463 - mae: 4.4463\n",
            "Epoch 84/100\n",
            "13/13 [==============================] - 0s 718us/step - loss: 4.4630 - mae: 4.4630\n",
            "Epoch 85/100\n",
            "13/13 [==============================] - 0s 719us/step - loss: 4.6385 - mae: 4.6385\n",
            "Epoch 86/100\n",
            "13/13 [==============================] - 0s 685us/step - loss: 4.7853 - mae: 4.7853\n",
            "Epoch 87/100\n",
            "13/13 [==============================] - 0s 709us/step - loss: 5.1371 - mae: 5.1371\n",
            "Epoch 88/100\n",
            "13/13 [==============================] - 0s 694us/step - loss: 6.0236 - mae: 6.0236\n",
            "Epoch 89/100\n",
            "13/13 [==============================] - 0s 684us/step - loss: 5.8523 - mae: 5.8523\n",
            "Epoch 90/100\n",
            "13/13 [==============================] - 0s 699us/step - loss: 6.0249 - mae: 6.0249\n",
            "Epoch 91/100\n",
            "13/13 [==============================] - 0s 669us/step - loss: 4.8694 - mae: 4.8694\n",
            "Epoch 92/100\n",
            "13/13 [==============================] - 0s 696us/step - loss: 4.9787 - mae: 4.9787\n",
            "Epoch 93/100\n",
            "13/13 [==============================] - 0s 698us/step - loss: 4.6097 - mae: 4.6097\n",
            "Epoch 94/100\n",
            "13/13 [==============================] - 0s 685us/step - loss: 4.6187 - mae: 4.6187\n",
            "Epoch 95/100\n",
            "13/13 [==============================] - 0s 709us/step - loss: 4.7723 - mae: 4.7723\n",
            "Epoch 96/100\n",
            "13/13 [==============================] - 0s 683us/step - loss: 4.8490 - mae: 4.8490\n",
            "Epoch 97/100\n",
            "13/13 [==============================] - 0s 715us/step - loss: 4.1735 - mae: 4.1735\n",
            "Epoch 98/100\n",
            "13/13 [==============================] - 0s 708us/step - loss: 4.8156 - mae: 4.8156\n",
            "Epoch 99/100\n",
            "13/13 [==============================] - 0s 671us/step - loss: 4.5594 - mae: 4.5594\n",
            "Epoch 100/100\n",
            "13/13 [==============================] - 0s 716us/step - loss: 4.7927 - mae: 4.7927\n"
          ]
        }
      ],
      "source": [
        "tf.random.set_seed(42)\n",
        "\n",
        "boston_model = tf.keras.Sequential([\n",
        "  tf.keras.layers.Dense(100),\n",
        "  tf.keras.layers.Dense(10),\n",
        "  tf.keras.layers.Dense(1),\n",
        "])\n",
        "\n",
        "boston_model.compile(loss=tf.keras.losses.mae,\n",
        "                     optimizer=tf.keras.optimizers.Adam(),\n",
        "                     metrics=[\"mae\"])\n",
        "\n",
        "boston_history = boston_model.fit(X_train, y_train, epochs=100)"
      ]
    },
    {
      "cell_type": "code",
      "execution_count": 244,
      "metadata": {},
      "outputs": [
        {
          "name": "stdout",
          "output_type": "stream",
          "text": [
            "4/4 [==============================] - 0s 1ms/step - loss: 6.0132 - mae: 6.0132\n"
          ]
        },
        {
          "data": {
            "text/plain": [
              "[6.013193607330322, 6.013193607330322]"
            ]
          },
          "execution_count": 244,
          "metadata": {},
          "output_type": "execute_result"
        }
      ],
      "source": [
        "boston_model.evaluate(X_test, y_test)"
      ]
    },
    {
      "cell_type": "code",
      "execution_count": 245,
      "metadata": {},
      "outputs": [
        {
          "data": {
            "text/plain": [
              "<Axes: >"
            ]
          },
          "execution_count": 245,
          "metadata": {},
          "output_type": "execute_result"
        },
        {
          "data": {
            "image/png": "[encoded data removed]",
            "text/plain": [
              "<Figure size 640x480 with 1 Axes>"
            ]
          },
          "metadata": {},
          "output_type": "display_data"
        }
      ],
      "source": [
        "pd.DataFrame(boston_history.history).plot()"
      ]
    },
    {
      "cell_type": "code",
      "execution_count": null,
      "metadata": {},
      "outputs": [],
      "source": []
    }
  ],
  "metadata": {
    "colab": {
      "provenance": []
    },
    "kernelspec": {
      "display_name": "Python 3",
      "name": "python3"
    },
    "language_info": {
      "codemirror_mode": {
        "name": "ipython",
        "version": 3
      },
      "file_extension": ".py",
      "mimetype": "text/x-python",
      "name": "python",
      "nbconvert_exporter": "python",
      "pygments_lexer": "ipython3",
      "version": "3.11.5"
    }
  },
  "nbformat": 4,
  "nbformat_minor": 0
}
